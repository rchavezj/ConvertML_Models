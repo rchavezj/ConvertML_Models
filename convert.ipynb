{
 "cells": [
  {
   "cell_type": "code",
   "execution_count": 1,
   "metadata": {
    "collapsed": false
   },
   "outputs": [],
   "source": [
    "from __future__ import print_function\n",
    "\n",
    "from miscc.utils import mkdir_p\n",
    "from miscc.utils import build_super_images\n",
    "from miscc.losses import sent_loss, words_loss\n",
    "from miscc.config import cfg, cfg_from_file\n",
    "\n",
    "from datasets import TextDataset\n",
    "from datasets import prepare_data\n",
    "\n",
    "from model import RNN_ENCODER, CNN_ENCODER\n",
    "\n",
    "import os\n",
    "import sys\n",
    "import time\n",
    "import random\n",
    "import pprint\n",
    "import datetime\n",
    "import dateutil.tz\n",
    "import argparse\n",
    "import numpy as np\n",
    "from PIL import Image\n",
    "\n",
    "import torch\n",
    "import torch.nn as nn\n",
    "import torch.optim as optim\n",
    "from torchsummary import summary\n",
    "from torch.autograd import Variable\n",
    "import torch.backends.cudnn as cudnn\n",
    "import torchvision.transforms as transforms"
   ]
  },
  {
   "cell_type": "code",
   "execution_count": 2,
   "metadata": {
    "collapsed": false
   },
   "outputs": [],
   "source": [
    "# dataset.n_words"
   ]
  },
  {
   "cell_type": "code",
   "execution_count": 3,
   "metadata": {
    "collapsed": false
   },
   "outputs": [
    {
     "data": {
      "text/plain": [
       "256"
      ]
     },
     "execution_count": 3,
     "metadata": {},
     "output_type": "execute_result"
    }
   ],
   "source": [
    "cfg.TEXT.EMBEDDING_DIM"
   ]
  },
  {
   "cell_type": "code",
   "execution_count": 4,
   "metadata": {
    "collapsed": true
   },
   "outputs": [],
   "source": [
    "def build_models():\n",
    "    # build model ############################################################\n",
    "    text_encoder = RNN_ENCODER(dataset.n_words, nhidden=cfg.TEXT.EMBEDDING_DIM)\n",
    "    cfg.TREE.BASE_SIZE = torch.FloatTensor(299)\n",
    "#     image_encoder = CNN_ENCODER(cfg.TREE.BASE_SIZE) #299 inside CNN_Encoder\n",
    "    labels = torch.LongTensor(range(batch_size))\n",
    "    start_epoch = 0\n",
    "    if cfg.TRAIN.NET_E != '':\n",
    "        state_dict = torch.load(cfg.TRAIN.NET_E)\n",
    "        text_encoder.load_state_dict(state_dict)\n",
    "        print('Load ', cfg.TRAIN.NET_E)\n",
    "        #\n",
    "        name = cfg.TRAIN.NET_E.replace('text_encoder')\n",
    "        state_dict = torch.load(name)\n",
    "#         image_encoder.load_state_dict(state_dict)\n",
    "        print('Load ', name)\n",
    "\n",
    "        istart = cfg.TRAIN.NET_E.rfind('_') + 8\n",
    "        iend = cfg.TRAIN.NET_E.rfind('.')\n",
    "        start_epoch = cfg.TRAIN.NET_E[istart:iend]\n",
    "        start_epoch = int(start_epoch) + 1\n",
    "        print('start_epoch', start_epoch)\n",
    "    if cfg.CUDA:\n",
    "        text_encoder = text_encoder\n",
    "#         image_encoder = image_encoder\n",
    "        labels = labels\n",
    "\n",
    "    return text_encoder, labels, start_epoch"
   ]
  },
  {
   "cell_type": "code",
   "execution_count": 5,
   "metadata": {
    "collapsed": false
   },
   "outputs": [
    {
     "data": {
      "text/plain": [
       "256"
      ]
     },
     "execution_count": 5,
     "metadata": {},
     "output_type": "execute_result"
    }
   ],
   "source": [
    "cfg.TEXT.EMBEDDING_DIM"
   ]
  },
  {
   "cell_type": "code",
   "execution_count": 6,
   "metadata": {
    "collapsed": false
   },
   "outputs": [
    {
     "name": "stdout",
     "output_type": "stream",
     "text": [
      "0.4.0\n"
     ]
    }
   ],
   "source": [
    "print(torch.__version__)"
   ]
  },
  {
   "cell_type": "code",
   "execution_count": 7,
   "metadata": {
    "collapsed": false
   },
   "outputs": [
    {
     "name": "stdout",
     "output_type": "stream",
     "text": [
      "{'B_VALIDATION': False,\n",
      " 'CONFIG_NAME': 'DAMSM',\n",
      " 'CUDA': True,\n",
      " 'DATASET_NAME': 'coco',\n",
      " 'DATA_DIR': '../data/coco',\n",
      " 'GAN': {'B_ATTENTION': True,\n",
      "         'B_DCGAN': False,\n",
      "         'CONDITION_DIM': 100,\n",
      "         'DF_DIM': 64,\n",
      "         'GF_DIM': 128,\n",
      "         'R_NUM': 2,\n",
      "         'Z_DIM': 100},\n",
      " 'GPU_ID': 0,\n",
      " 'RNN_TYPE': 'LSTM',\n",
      " 'TEXT': {'CAPTIONS_PER_IMAGE': 5, 'EMBEDDING_DIM': 256, 'WORDS_NUM': 15},\n",
      " 'TRAIN': {'BATCH_SIZE': 48,\n",
      "           'B_NET_D': True,\n",
      "           'DISCRIMINATOR_LR': 0.0002,\n",
      "           'ENCODER_LR': 0.002,\n",
      "           'FLAG': True,\n",
      "           'GENERATOR_LR': 0.0002,\n",
      "           'MAX_EPOCH': 600,\n",
      "           'NET_E': '',\n",
      "           'NET_G': '',\n",
      "           'RNN_GRAD_CLIP': 0.25,\n",
      "           'SMOOTH': {'GAMMA1': 4.0,\n",
      "                      'GAMMA2': 5.0,\n",
      "                      'GAMMA3': 10.0,\n",
      "                      'LAMBDA': 1.0},\n",
      "           'SNAPSHOT_INTERVAL': 5},\n",
      " 'TREE': {'BASE_SIZE': 299, 'BRANCH_NUM': 1},\n",
      " 'WORKERS': 1}\n"
     ]
    }
   ],
   "source": [
    "#Configurations\n",
    "cfg_from_file(\"cfg/DAMSM/coco.yml\")\n",
    "import pprint\n",
    "pprint.pprint(cfg)\n",
    "random.seed(random.randint(1, 10000))\n",
    "np.random.seed(random.randint(1, 10000))\n",
    "torch.manual_seed(random.randint(1, 10000))\n",
    "if cfg.CUDA:\n",
    "    torch.cuda.manual_seed_all(random.randint(1, 10000))\n",
    "now = datetime.datetime.now(dateutil.tz.tzlocal())\n",
    "timestamp = now.strftime('%Y_%m_%d_%H_%M_%S')\n",
    "output_dir = '../output/%s_%s_%s' % \\\n",
    "    (cfg.DATASET_NAME, cfg.CONFIG_NAME, timestamp)\n",
    "\n",
    "model_dir = os.path.join(output_dir, 'Model')\n",
    "image_dir = os.path.join(output_dir, 'Image')\n",
    "mkdir_p(model_dir)\n",
    "mkdir_p(image_dir)\n",
    "# Debug\n",
    "torch.cuda.device(cfg.GPU_ID)\n",
    "cudnn.benchmark = True"
   ]
  },
  {
   "cell_type": "code",
   "execution_count": 8,
   "metadata": {
    "collapsed": false
   },
   "outputs": [
    {
     "name": "stdout",
     "output_type": "stream",
     "text": [
      "Load filenames from: ../data/coco/train/filenames.pickle (82783)\n",
      "Load filenames from: ../data/coco/test/filenames.pickle (40470)\n",
      "Load from:  ../data/coco/captions.pickle\n",
      "=====================================================\n",
      "cfg.DATA_DIR:  ../data/coco\n",
      "cfg.TREE.BASE_SIZE:  299\n",
      "image_transform:  <torchvision.transforms.Compose object at 0x1c17d7b400>\n",
      "cfg.TEXT.EMBEDDING_DIM 256\n",
      "=====================================================\n",
      "dataset.n_words: 27297  dataset.embeddings_num:  5\n",
      "Load filenames from: ../data/coco/train/filenames.pickle (82783)\n",
      "Load filenames from: ../data/coco/test/filenames.pickle (40470)\n",
      "Load from:  ../data/coco/captions.pickle\n"
     ]
    }
   ],
   "source": [
    "# cfg.TREE.BASE_SIZE = 299\n",
    "imsize = cfg.TREE.BASE_SIZE * (2 ** (cfg.TREE.BRANCH_NUM-1))\n",
    "batch_size = cfg.TRAIN.BATCH_SIZE\n",
    "image_transform = transforms.Compose([\n",
    "    transforms.Scale(int(imsize * 76 / 64)),\n",
    "    transforms.RandomCrop(imsize),\n",
    "    transforms.RandomHorizontalFlip()])\n",
    "dataset = TextDataset(\"../data/coco\", 'train',\n",
    "                      base_size=299,\n",
    "                      transform=image_transform)\n",
    "print(\"=====================================================\")\n",
    "print(\"cfg.DATA_DIR: \", cfg.DATA_DIR)\n",
    "print(\"cfg.TREE.BASE_SIZE: \", cfg.TREE.BASE_SIZE)\n",
    "print(\"image_transform: \", image_transform)\n",
    "print(\"cfg.TEXT.EMBEDDING_DIM\", cfg.TEXT.EMBEDDING_DIM)\n",
    "print(\"=====================================================\")\n",
    "print(\"dataset.n_words:\", dataset.n_words, \" dataset.embeddings_num: \", dataset.embeddings_num)\n",
    "assert dataset\n",
    "dataloader = torch.utils.data.DataLoader(\n",
    "    dataset, batch_size=batch_size, drop_last=True,\n",
    "    shuffle=True, num_workers=int(cfg.WORKERS))\n",
    "\n",
    "# # validation data #\n",
    "dataset_val = TextDataset(\"../data/coco\", 'test',\n",
    "                          base_size=cfg.TREE.BASE_SIZE,\n",
    "                          transform=image_transform)\n",
    "dataloader_val = torch.utils.data.DataLoader(\n",
    "    dataset_val, batch_size=batch_size, drop_last=True,\n",
    "    shuffle=True, num_workers=int(cfg.WORKERS))"
   ]
  },
  {
   "cell_type": "code",
   "execution_count": 9,
   "metadata": {
    "collapsed": false
   },
   "outputs": [
    {
     "name": "stdout",
     "output_type": "stream",
     "text": [
      "Load filenames from: ../data/coco/train/filenames.pickle (82783)\n",
      "Load filenames from: ../data/coco/test/filenames.pickle (40470)\n",
      "Load from:  ../data/coco/captions.pickle\n"
     ]
    }
   ],
   "source": [
    "split_dir, bshuffle = 'train', True\n",
    "if not cfg.TRAIN.FLAG:\n",
    "    # bshuffle = False\n",
    "    split_dir = 'test'\n",
    "dataset = TextDataset(cfg.DATA_DIR, 'train',base_size=cfg.TREE.BASE_SIZE,transform=image_transform)\n",
    "dataloader = torch.utils.data.DataLoader(dataset, batch_size=cfg.TRAIN.BATCH_SIZE,drop_last=True, shuffle=bshuffle, num_workers=int(cfg.WORKERS))"
   ]
  },
  {
   "cell_type": "code",
   "execution_count": 10,
   "metadata": {
    "collapsed": false
   },
   "outputs": [
    {
     "data": {
      "text/plain": [
       "<datasets.TextDataset at 0x1c1aee1eb8>"
      ]
     },
     "execution_count": 10,
     "metadata": {},
     "output_type": "execute_result"
    }
   ],
   "source": [
    "dataset"
   ]
  },
  {
   "cell_type": "code",
   "execution_count": 11,
   "metadata": {
    "collapsed": false
   },
   "outputs": [
    {
     "name": "stderr",
     "output_type": "stream",
     "text": [
      "/Users/user/anaconda/lib/python3.6/site-packages/torch/nn/modules/rnn.py:38: UserWarning: dropout option adds dropout after all but last recurrent layer, so non-zero dropout expects num_layers greater than 1, but got dropout=0.5 and num_layers=1\n",
      "  \"num_layers={}\".format(dropout, num_layers))\n"
     ]
    }
   ],
   "source": [
    "text_encoder, labels, start_epoch = build_models()"
   ]
  },
  {
   "cell_type": "code",
   "execution_count": 12,
   "metadata": {
    "collapsed": false,
    "scrolled": true
   },
   "outputs": [
    {
     "data": {
      "text/plain": [
       "RNN_ENCODER(\n",
       "  (encoder): Embedding(27297, 300)\n",
       "  (drop): Dropout(p=0.5)\n",
       "  (rnn): LSTM(300, 128, batch_first=True, dropout=0.5, bidirectional=True)\n",
       ")"
      ]
     },
     "execution_count": 12,
     "metadata": {},
     "output_type": "execute_result"
    }
   ],
   "source": [
    "text_encoder.train()\n",
    "text_encoder.eval()"
   ]
  },
  {
   "cell_type": "code",
   "execution_count": 13,
   "metadata": {
    "collapsed": false
   },
   "outputs": [
    {
     "name": "stdout",
     "output_type": "stream",
     "text": [
      "step 0 \n",
      "cap_lens\n",
      " tensor([ 15,  15,  14,  14,  13,  12,  12,  12,  11,  11,  10,  10,\n",
      "         10,  10,  10,  10,  10,  10,  10,  10,   9,   9,   9,   9,\n",
      "          9,   9,   9,   9,   9,   9,   9,   9,   9,   9,   9,   9,\n",
      "          9,   9,   9,   8,   8,   8,   8,   8,   8,   8,   8,   7]) \n",
      "\n"
     ]
    }
   ],
   "source": [
    "for step, data in enumerate(dataloader, 0):\n",
    "    imgs, captions, cap_lens, class_ids, keys = prepare_data(data)\n",
    "    hidden = text_encoder.init_hidden(batch_size)\n",
    "    print(\"step\", step, \"\\ncap_lens\\n\", cap_lens, \"\\n\") \n",
    "    if step == 0:\n",
    "        break"
   ]
  },
  {
   "cell_type": "code",
   "execution_count": 14,
   "metadata": {
    "collapsed": false,
    "scrolled": true
   },
   "outputs": [
    {
     "name": "stdout",
     "output_type": "stream",
     "text": [
      "torch.Size([48, 15])\n",
      "tensor([[ 23046,  24379,  10409,  23046,   7668,   8030,  18756,   7510,\n",
      "          23501,   1943,  15355,    822,  25135,  10409,   1609],\n",
      "        [ 23046,   7391,    335,   6301,  26444,   8494,    373,  23225,\n",
      "           8707,  10400,  20140,  26444,  10402,    697,  25220],\n",
      "        [  7016,  23543,   1943,  23046,   5937,   4530,  23046,  21520,\n",
      "           3646,  24983,  10409,  23046,   4967,  27198,      0],\n",
      "        [  8707,  26008,  11249,  10409,   8707,   6609,  12624,  26444,\n",
      "           9957,  10400,  16798,   7515,  23046,  23611,      0],\n",
      "        [ 23046,   6842,  10400,  22559,  19654,  13311,  14435,   7897,\n",
      "          23046,   5358,  12713,  23046,   1770,      0,      0],\n",
      "        [ 14044,   2709,  12713,  23046,  12791,    822,  23046,  23667,\n",
      "          26444,   1943,  23046,  15355,      0,      0,      0],\n",
      "        [ 17913,  21795,  13834,   1943,   8707,   5758,  12713,  23046,\n",
      "          24993,   8956,  12713,   1263,      0,      0,      0],\n",
      "        [ 23046,  18773,  16250,  26444,  23046,   6771,  20058,   4114,\n",
      "           1943,  23046,  26154,    222,      0,      0,      0],\n",
      "        [ 23046,  12791,  22737,  10400,   1943,  23046,  22728,  19712,\n",
      "            822,  23046,  21267,      0,      0,      0,      0],\n",
      "        [ 22015,  10400,   4212,  13169,  10409,  23046,   9506,    822,\n",
      "          23046,     16,  20058,      0,      0,      0,      0],\n",
      "        [ 23046,  17066,  23801,  25218,   1225,  23046,  17167,   1943,\n",
      "           7025,   5195,      0,      0,      0,      0,      0],\n",
      "        [ 23046,   8514,  24762,   6273,  23046,  16962,  16536,  13949,\n",
      "          23046,  21859,      0,      0,      0,      0,      0],\n",
      "        [ 23046,  21906,  15790,  21337,  11370,  10409,  23046,  24993,\n",
      "          15298,    437,      0,      0,      0,      0,      0],\n",
      "        [ 11824,  15860,  26444,  23046,   9850,   8395,  16072,  10409,\n",
      "           8707,  11905,      0,      0,      0,      0,      0],\n",
      "        [ 23046,  18678,   1418,  12713,  23046,  20669,  14158,  11905,\n",
      "           7515,   1984,      0,      0,      0,      0,      0],\n",
      "        [ 23046,   6842,  20533,  23046,  10137,   4856,  25616,  10409,\n",
      "          20218,   1940,      0,      0,      0,      0,      0],\n",
      "        [  8707,  22065,  23543,   1943,   8707,  20223,    822,  23283,\n",
      "          15931,  25669,      0,      0,      0,      0,      0],\n",
      "        [ 23046,  17498,  12071,   1943,   7510,   7331,  23556,   7515,\n",
      "          23046,  16446,      0,      0,      0,      0,      0],\n",
      "        [ 23046,  25873,  23613,   4114,   1943,  18903,  12713,  23046,\n",
      "          26154,  13453,      0,      0,      0,      0,      0],\n",
      "        [ 10803,  26444,  26154,  15618,  12713,  24085,    373,   7515,\n",
      "          23046,  19708,      0,      0,      0,      0,      0],\n",
      "        [ 23046,  11824,  26344,   7515,  23046,    887,  14158,  11824,\n",
      "          10333,      0,      0,      0,      0,      0,      0],\n",
      "        [ 10565,  26511,    822,  14335,  26444,  23046,  24038,  12713,\n",
      "          20274,      0,      0,      0,      0,      0,      0],\n",
      "        [   761,  26444,  14828,     84,  10409,  23484,  12713,  23046,\n",
      "           8990,      0,      0,      0,      0,      0,      0],\n",
      "        [ 23624,  12713,   3305,   8030,   1327,  14435,  23046,  26154,\n",
      "          13345,      0,      0,      0,      0,      0,      0],\n",
      "        [ 23046,  17498,  10400,  19443,   9204,  14435,    113,  23046,\n",
      "          25313,      0,      0,      0,      0,      0,      0],\n",
      "        [  8707,  14453,  24381,   3332,    335,  12171,  25947,    822,\n",
      "          26204,      0,      0,      0,      0,      0,      0],\n",
      "        [ 19993,  26444,   1334,   7169,   8030,   8797,  13949,  23046,\n",
      "          22955,      0,      0,      0,      0,      0,      0],\n",
      "        [ 23046,  20203,  17167,  22737,    335,   3322,   2714,   6273,\n",
      "          10402,      0,      0,      0,      0,      0,      0],\n",
      "        [  7510,  20793,    898,   5699,   1943,  23046,  23157,   1093,\n",
      "          25220,      0,      0,      0,      0,      0,      0],\n",
      "        [  7510,  13320,   4293,  15862,  11719,  23046,  12791,  22559,\n",
      "          24519,      0,      0,      0,      0,      0,      0],\n",
      "        [ 23046,  17498,   7911,  23046,  13748,  23181,  23046,  15298,\n",
      "          15263,      0,      0,      0,      0,      0,      0],\n",
      "        [ 23046,  17159,  16969,  17227,   5775,   1943,   7510,   4624,\n",
      "           9867,      0,      0,      0,      0,      0,      0],\n",
      "        [  8707,  17159,   2238,   8707,  15263,  10409,   8707,  23074,\n",
      "          19443,      0,      0,      0,      0,      0,      0],\n",
      "        [  7510,  19259,  11003,  23445,  26444,  23046,   1293,  16446,\n",
      "           3116,      0,      0,      0,      0,      0,      0],\n",
      "        [ 23046,   6842,  10400,   1476,  23046,  15285,   1943,   8707,\n",
      "          18367,      0,      0,      0,      0,      0,      0],\n",
      "        [ 13598,   6352,   8707,   8914,    892,  23046,  17132,  22258,\n",
      "          22049,      0,      0,      0,      0,      0,      0],\n",
      "        [ 23046,  25764,    898,    822,  19884,  16017,   8428,   8707,\n",
      "          15355,      0,      0,      0,      0,      0,      0],\n",
      "        [ 17913,  17426,  10409,  10009,  21389,  11491,  23046,     33,\n",
      "          25289,      0,      0,      0,      0,      0,      0],\n",
      "        [ 12791,  10409,  26154,  26444,  15298,  16798,  23046,  26008,\n",
      "          24031,      0,      0,      0,      0,      0,      0],\n",
      "        [  5741,  23543,  17913,  13999,   9911,   1943,   8707,  22600,\n",
      "              0,      0,      0,      0,      0,      0,      0],\n",
      "        [ 23046,  12791,  10400,   4114,  23225,  15060,   7510,  23501,\n",
      "              0,      0,      0,      0,      0,      0,      0],\n",
      "        [  7510,  21677,  27110,  12713,  23046,  19289,  24381,   3332,\n",
      "              0,      0,      0,      0,      0,      0,      0],\n",
      "        [ 23046,  16936,    822,  26007,  26444,  13353,  12713,  22740,\n",
      "              0,      0,      0,      0,      0,      0,      0],\n",
      "        [ 24085,  24106,   1822,   7298,   8797,   8428,  17505,   9473,\n",
      "              0,      0,      0,      0,      0,      0,      0],\n",
      "        [  8481,  23543,  16427,  10409,  23046,   1290,   8428,  11550,\n",
      "              0,      0,      0,      0,      0,      0,      0],\n",
      "        [ 23046,  10803,  25328,  10400,   4114,   8428,   5950,  15408,\n",
      "              0,      0,      0,      0,      0,      0,      0],\n",
      "        [  5741,  23543,   7016,  26900,  10409,   7942,    822,  24519,\n",
      "              0,      0,      0,      0,      0,      0,      0],\n",
      "        [ 23046,   6842,  10409,  23046,   1899,   6767,   9370,      0,\n",
      "              0,      0,      0,      0,      0,      0,      0]])\n",
      "torch.Size([48, 15])\n",
      "tensor([[  2685,  12217,  17987,  15309,    993,     57,  11163,   7226,\n",
      "           2182,  22986,  11233,  12580,  18075,  20251,  12455],\n",
      "        [ 18330,   1112,  17988,  19794,  22975,  15485,  13800,  14622,\n",
      "           8890,  14111,  10983,  19506,  18656,   9320,   9211],\n",
      "        [  9076,  15123,  11646,   1838,  11575,   4285,   7275,  20819,\n",
      "           7043,   3341,   9461,  11112,   6294,   7354,   8024],\n",
      "        [ 19035,  15575,  20857,  16918,  10737,   8359,  19176,  10599,\n",
      "          22274,  19791,   4050,  22546,  16764,   8388,  19288],\n",
      "        [  5627,  16756,  12200,   5857,  21022,  20287,  22677,   5138,\n",
      "          16778,   3392,   8367,  13626,  17387,  17291,  19702],\n",
      "        [ 12191,  17292,   1450,  10284,  22263,  15586,  16441,  20857,\n",
      "          10492,   7491,   8182,  21087,   2692,   1849,   8001],\n",
      "        [ 12173,  15911,   5027,   7811,  12392,   2523,  14041,  10717,\n",
      "          15359,   3133,   6549,  18078,  11085,  14877,  12641],\n",
      "        [ 14296,  20193,   4392,   8981,  20985,  20025,  13800,  14590,\n",
      "          13995,  13828,   6417,  17496,   9643,   8154,   6000],\n",
      "        [ 17356,  14043,  14645,    709,   4309,  14775,   7738,   1498,\n",
      "          19339,  21780,  19477,   7963,   6602,   8871,  10554],\n",
      "        [  1031,   5656,  19212,  16506,   9092,   1270,  19589,  21086,\n",
      "          17436,   3267,  15588,  20197,  15933,  16650,   2002],\n",
      "        [ 22018,    701,   3110,  19918,  19299,   1990,   4923,  16582,\n",
      "           9713,   1305,   7018,  19519,   6884,   6642,   4485],\n",
      "        [  8697,   2829,   5072,  13993,   3738,   2842,  20791,  13325,\n",
      "           9143,  11307,  16160,  11381,  21100,  13480,  13517],\n",
      "        [  7965,    125,  16117,   7817,  18026,  15016,  17324,  15027,\n",
      "          20491,   4970,   6610,   5428,   1842,   7050,  18282],\n",
      "        [ 10518,   7244,   6683,   3218,  11404,  16698,    975,   9886,\n",
      "          10659,  10357,  11597,   2036,   1944,  22101,  17355],\n",
      "        [  3156,  18065,  10583,   3030,  19399,    604,  14118,   3067,\n",
      "           4553,   3857,   6661,   4258,   2531,  17077,  17681],\n",
      "        [  3435,   5843,  22413,   2194,   8191,   9027,  21457,  12570,\n",
      "          15403,   6759,  11683,   3626,  13349,   3237,  16437],\n",
      "        [ 10064,   5177,  16317,   1860,   8733,  14398,  16890,  22690,\n",
      "          20712,     58,   1687,  16045,  22251,  11876,   4040],\n",
      "        [  7755,  14902,   4531,  20523,  12940,  18778,  21103,   7610,\n",
      "           1936,  15462,  14125,   9902,  17276,  21573,  11444],\n",
      "        [ 19318,   7584,  11704,   8749,  12186,    413,  21788,  21301,\n",
      "          19656,   3644,  20726,  11993,  14392,  19499,  16957],\n",
      "        [ 13534,   4898,  10744,  10005,   1055,  15403,   4793,   7923,\n",
      "           5721,   5365,   4928,  14497,  14684,  22687,  14627],\n",
      "        [  8032,   7223,   6808,  22484,  20141,  10263,    779,  11333,\n",
      "          13226,   6595,  16612,   7241,   4891,   5952,  18058],\n",
      "        [  1845,  18119,   8575,   6193,  14879,   5268,  14481,  17236,\n",
      "           3549,  12185,   4670,   1815,  22454,  18090,   4794],\n",
      "        [  9506,  21576,  11271,  15757,   5375,    166,   4599,  15756,\n",
      "          12411,  10542,  16274,   4905,  21066,   3870,  10005],\n",
      "        [  4658,  20043,  17612,  14082,   2804,  17821,    988,   1267,\n",
      "           5721,    648,   5137,   1042,   1804,   5136,  22795],\n",
      "        [ 16858,  21182,  22473,  11441,  12684,   8030,    612,  14459,\n",
      "          11532,   6711,  22271,  20451,  21556,   8967,  21672],\n",
      "        [  7383,  16919,   1208,   6934,   5332,   6401,  21855,  10919,\n",
      "           9590,  11824,  12984,   9508,  10849,  19317,  12017],\n",
      "        [ 14402,  19287,  11221,  21869,  22009,  12369,    108,  10860,\n",
      "          21499,  15608,  12829,  19228,   1942,  12089,    345],\n",
      "        [   912,   9717,   5300,  11981,     29,  20990,  14886,   7698,\n",
      "          14039,  15070,   8813,  20387,   7780,  21190,   4744],\n",
      "        [   540,     36,  10727,   3512,  21807,   4094,   7335,   1441,\n",
      "          12309,   7255,  22952,  22655,   6700,  19332,  13371],\n",
      "        [ 20841,   2315,   9147,   3175,   8732,  18831,   3557,   5828,\n",
      "          15699,  13706,   9129,    786,   3363,  21168,  13761],\n",
      "        [    51,   9939,  20959,  18458,    223,  15493,   9812,   1158,\n",
      "          10527,   5246,   5848,  12040,   4008,   1374,  11402],\n",
      "        [  2973,   2858,  17756,   4997,    780,  22658,  21100,  18694,\n",
      "          20469,   5724,  11108,  21070,  13233,  21047,  17073],\n",
      "        [ 14410,  19608,   1330,  20589,   1154,   1548,   6347,  18553,\n",
      "          13370,  18878,   2542,   2298,    541,   6017,   3117],\n",
      "        [  7188,  17372,  21486,   7240,  21136,  10383,  19416,  11214,\n",
      "           7997,  16561,   8433,   2875,  18081,   1226,   9232],\n",
      "        [  2909,   6019,   6998,  21440,   4683,  20832,  11355,  13088,\n",
      "            250,  22540,  20940,  13217,   9028,   6844,      9],\n",
      "        [ 18499,   8180,   4687,     40,   8379,   3395,  18881,  18902,\n",
      "          20918,   4339,  11421,  14061,  11991,   1701,  20360],\n",
      "        [  2801,   4017,  13946,   5574,  13856,  21682,   2472,  16060,\n",
      "          18059,   4307,  14666,   4231,   8209,  12842,   9005],\n",
      "        [ 21366,   8112,   6500,   6624,  14911,   9308,   9596,  17846,\n",
      "           3775,   7962,  18742,   3729,   6398,  22598,  16377],\n",
      "        [ 10450,   1173,  13078,   5348,  21557,  15695,  20180,  14121,\n",
      "           9476,  22597,  12488,   6663,  11170,  12263,  20002],\n",
      "        [ 11950,  22666,  10131,  19397,  11228,   9581,  16162,  18457,\n",
      "          14620,  12392,  17334,   5903,  15943,  14326,   1346],\n",
      "        [  1318,  19055,  10170,  19117,  14833,   4969,   1714,  17415,\n",
      "          13111,  18103,   6967,   3695,    387,  18123,   7532],\n",
      "        [   243,     85,  13042,  15144,  12999,   2104,   6295,   8589,\n",
      "          12361,  23003,  15015,  14759,  21049,  11234,    530],\n",
      "        [  8122,  20103,   5447,   8659,   3154,  15460,  20081,   3882,\n",
      "          14168,   9937,  14222,   1511,   7085,  10589,   8028],\n",
      "        [  2926,   6431,  14612,  17689,  10450,   2229,  10114,  17679,\n",
      "           8193,  11958,  19382,  21563,   8179,   5721,   3462],\n",
      "        [ 12202,   8304,  13883,  22352,   9350,  21972,  20966,  21675,\n",
      "           2703,    113,  18038,  16026,  18884,   9220,   1406],\n",
      "        [ 11599,   6527,   8517,  20024,  19045,  10540,  12542,  20922,\n",
      "           6175,   8006,   5693,  16104,  21051,  16157,    284],\n",
      "        [  5008,   6245,   6498,   5057,   7241,  19352,  14399,    193,\n",
      "          13340,   4218,  12254,   5607,   2803,  17939,   1592],\n",
      "        [ 10170,  12886,   1269,    203,  14533,   8214,  15662,   9363,\n",
      "           1230,   7560,   5431,   7529,  17183,  10674,  22789]])\n"
     ]
    }
   ],
   "source": [
    "print(captions.size())\n",
    "print(captions)\n",
    "# captions_dummy_input = torch.rand(48, 15, requires_grad=True)\n",
    "captions_fake_input = torch.randint(1, 23046, (48, 15), dtype=torch.long)\n",
    "# captions_dummy_input = torch.rand(48, 15, requires_grad=True)\n",
    "print(captions_fake_input.size())\n",
    "print(captions_fake_input)"
   ]
  },
  {
   "cell_type": "code",
   "execution_count": 15,
   "metadata": {
    "collapsed": false
   },
   "outputs": [
    {
     "name": "stdout",
     "output_type": "stream",
     "text": [
      "torch.Size([48])\n",
      "tensor([ 15,  15,  14,  14,  13,  12,  12,  12,  11,  11,  10,  10,\n",
      "         10,  10,  10,  10,  10,  10,  10,  10,   9,   9,   9,   9,\n",
      "          9,   9,   9,   9,   9,   9,   9,   9,   9,   9,   9,   9,\n",
      "          9,   9,   9,   8,   8,   8,   8,   8,   8,   8,   8,   7])\n",
      "torch.Size([48])\n",
      "tensor([ 12,   6,  10,   8,   4,   7,   4,  13,   4,   9,  12,   9,\n",
      "          5,   2,   1,  10,   8,  14,   7,   3,   2,  11,  11,  12,\n",
      "         11,   2,   6,  10,  13,  12,  14,   5,   4,   1,   8,  10,\n",
      "          5,   7,   5,   2,   4,   7,  14,  10,  12,  13,   2,   2])\n"
     ]
    }
   ],
   "source": [
    "print(cap_lens.size())\n",
    "print(cap_lens)\n",
    "# cap_lens_fake_input = torch.rand(48, dtype=torch.float64)\n",
    "cap_lens_fake_input = torch.randint(1, 15, (48,), dtype=torch.long)\n",
    "# cap_lens_dummy_input = torch.FloatTensor(cap_lens_dummy_input)\n",
    "print(cap_lens_fake_input.size())\n",
    "print(cap_lens_fake_input)"
   ]
  },
  {
   "cell_type": "code",
   "execution_count": 16,
   "metadata": {
    "collapsed": false,
    "scrolled": true
   },
   "outputs": [
    {
     "name": "stdout",
     "output_type": "stream",
     "text": [
      "torch.Size([2, 48, 128])\n",
      "(tensor([[[ 0.,  0.,  0.,  ...,  0.,  0.,  0.],\n",
      "         [ 0.,  0.,  0.,  ...,  0.,  0.,  0.],\n",
      "         [ 0.,  0.,  0.,  ...,  0.,  0.,  0.],\n",
      "         ...,\n",
      "         [ 0.,  0.,  0.,  ...,  0.,  0.,  0.],\n",
      "         [ 0.,  0.,  0.,  ...,  0.,  0.,  0.],\n",
      "         [ 0.,  0.,  0.,  ...,  0.,  0.,  0.]],\n",
      "\n",
      "        [[ 0.,  0.,  0.,  ...,  0.,  0.,  0.],\n",
      "         [ 0.,  0.,  0.,  ...,  0.,  0.,  0.],\n",
      "         [ 0.,  0.,  0.,  ...,  0.,  0.,  0.],\n",
      "         ...,\n",
      "         [ 0.,  0.,  0.,  ...,  0.,  0.,  0.],\n",
      "         [ 0.,  0.,  0.,  ...,  0.,  0.,  0.],\n",
      "         [ 0.,  0.,  0.,  ...,  0.,  0.,  0.]]]), tensor([[[ 0.,  0.,  0.,  ...,  0.,  0.,  0.],\n",
      "         [ 0.,  0.,  0.,  ...,  0.,  0.,  0.],\n",
      "         [ 0.,  0.,  0.,  ...,  0.,  0.,  0.],\n",
      "         ...,\n",
      "         [ 0.,  0.,  0.,  ...,  0.,  0.,  0.],\n",
      "         [ 0.,  0.,  0.,  ...,  0.,  0.,  0.],\n",
      "         [ 0.,  0.,  0.,  ...,  0.,  0.,  0.]],\n",
      "\n",
      "        [[ 0.,  0.,  0.,  ...,  0.,  0.,  0.],\n",
      "         [ 0.,  0.,  0.,  ...,  0.,  0.,  0.],\n",
      "         [ 0.,  0.,  0.,  ...,  0.,  0.,  0.],\n",
      "         ...,\n",
      "         [ 0.,  0.,  0.,  ...,  0.,  0.,  0.],\n",
      "         [ 0.,  0.,  0.,  ...,  0.,  0.,  0.],\n",
      "         [ 0.,  0.,  0.,  ...,  0.,  0.,  0.]]]))\n",
      "torch.Size([2, 48, 128])\n",
      "tensor([[[ 3,  6,  3,  ...,  8,  3,  2],\n",
      "         [ 5,  7,  7,  ...,  9,  1,  4],\n",
      "         [ 9,  7,  1,  ...,  4,  5,  3],\n",
      "         ...,\n",
      "         [ 5,  8,  8,  ...,  3,  5,  6],\n",
      "         [ 4,  8,  4,  ...,  4,  2,  8],\n",
      "         [ 2,  1,  8,  ...,  1,  7,  6]],\n",
      "\n",
      "        [[ 5,  1,  8,  ...,  7,  7,  9],\n",
      "         [ 6,  7,  5,  ...,  6,  5,  3],\n",
      "         [ 1,  3,  5,  ...,  5,  2,  5],\n",
      "         ...,\n",
      "         [ 8,  8,  1,  ...,  6,  8,  9],\n",
      "         [ 1,  7,  9,  ...,  7,  6,  3],\n",
      "         [ 7,  1,  1,  ...,  4,  8,  1]]])\n"
     ]
    }
   ],
   "source": [
    "print(hidden[1].shape)\n",
    "print(hidden)\n",
    "# hidden_fake_input = torch.randint(0, 1 (2, 48, 128), dtype=torch.long)\n",
    "hidden_fake_input = torch.randint(1, 10, (2, 48, 128), dtype=torch.long)\n",
    "# hidden_fake_input = torch.FloatTensor(hidden_fake_input)\n",
    "print(hidden_fake_input.size())\n",
    "print(hidden_fake_input)"
   ]
  },
  {
   "cell_type": "code",
   "execution_count": 17,
   "metadata": {
    "collapsed": false
   },
   "outputs": [],
   "source": [
    "# output = text_encoder(captions, cap_lens, hidden)\n",
    "words_emb, sent_emb = text_encoder(captions, cap_lens, hidden)\n",
    "\n",
    "r = (captions, cap_lens, hidden)"
   ]
  },
  {
   "cell_type": "code",
   "execution_count": 18,
   "metadata": {
    "collapsed": false,
    "scrolled": true
   },
   "outputs": [
    {
     "name": "stdout",
     "output_type": "stream",
     "text": [
      "torch.Size([48, 256, 15])\n",
      "tensor([[[-0.0292, -0.0382, -0.0379,  ..., -0.0535, -0.0446, -0.0371],\n",
      "         [ 0.0070,  0.0281,  0.0393,  ...,  0.0456,  0.0464,  0.0440],\n",
      "         [ 0.0044,  0.0327,  0.0414,  ...,  0.0153,  0.0341,  0.0302],\n",
      "         ...,\n",
      "         [-0.0516, -0.0309, -0.0209,  ..., -0.0131, -0.0028, -0.0075],\n",
      "         [ 0.0577,  0.0617,  0.0655,  ...,  0.0414,  0.0365,  0.0118],\n",
      "         [ 0.0235,  0.0335,  0.0317,  ...,  0.0037,  0.0165, -0.0045]],\n",
      "\n",
      "        [[-0.0292, -0.0368, -0.0577,  ..., -0.0468, -0.0493, -0.0409],\n",
      "         [ 0.0070,  0.0246,  0.0302,  ...,  0.0160,  0.0187,  0.0059],\n",
      "         [ 0.0044,  0.0238,  0.0317,  ...,  0.0286,  0.0343,  0.0372],\n",
      "         ...,\n",
      "         [-0.0365, -0.0062, -0.0123,  ..., -0.0086, -0.0003,  0.0005],\n",
      "         [ 0.0601,  0.0671,  0.0671,  ...,  0.0326,  0.0300,  0.0079],\n",
      "         [ 0.0156,  0.0182,  0.0367,  ...,  0.0258, -0.0126, -0.0019]],\n",
      "\n",
      "        [[-0.0362, -0.0371, -0.0214,  ..., -0.0472, -0.0359,  0.0000],\n",
      "         [ 0.0224,  0.0241,  0.0245,  ...,  0.0164,  0.0294,  0.0000],\n",
      "         [ 0.0129,  0.0344,  0.0425,  ...,  0.0291,  0.0401,  0.0000],\n",
      "         ...,\n",
      "         [-0.0102, -0.0069, -0.0338,  ..., -0.0319, -0.0000,  0.0000],\n",
      "         [ 0.0650,  0.0521,  0.0691,  ...,  0.0377,  0.0396,  0.0000],\n",
      "         [ 0.0391,  0.0096,  0.0050,  ...,  0.0204,  0.0038,  0.0000]],\n",
      "\n",
      "        ...,\n",
      "\n",
      "        [[-0.0292, -0.0292, -0.0298,  ...,  0.0000,  0.0000,  0.0000],\n",
      "         [ 0.0070,  0.0229,  0.0222,  ...,  0.0000,  0.0000,  0.0000],\n",
      "         [ 0.0044,  0.0006,  0.0245,  ...,  0.0000,  0.0000,  0.0000],\n",
      "         ...,\n",
      "         [-0.0283,  0.0086,  0.0161,  ...,  0.0000,  0.0000,  0.0000],\n",
      "         [ 0.0474,  0.0467,  0.0304,  ...,  0.0000,  0.0000,  0.0000],\n",
      "         [ 0.0139,  0.0136,  0.0130,  ...,  0.0000,  0.0000,  0.0000]],\n",
      "\n",
      "        [[-0.0028, -0.0263, -0.0598,  ...,  0.0000,  0.0000,  0.0000],\n",
      "         [ 0.0163,  0.0172,  0.0332,  ...,  0.0000,  0.0000,  0.0000],\n",
      "         [ 0.0263,  0.0376,  0.0361,  ...,  0.0000,  0.0000,  0.0000],\n",
      "         ...,\n",
      "         [-0.0010,  0.0091, -0.0057,  ...,  0.0000,  0.0000,  0.0000],\n",
      "         [ 0.0760,  0.0555,  0.0672,  ...,  0.0000,  0.0000,  0.0000],\n",
      "         [ 0.0332,  0.0372,  0.0499,  ...,  0.0000,  0.0000,  0.0000]],\n",
      "\n",
      "        [[-0.0292, -0.0576, -0.0431,  ...,  0.0000,  0.0000,  0.0000],\n",
      "         [ 0.0070,  0.0118,  0.0242,  ...,  0.0000,  0.0000,  0.0000],\n",
      "         [ 0.0044,  0.0075,  0.0313,  ...,  0.0000,  0.0000,  0.0000],\n",
      "         ...,\n",
      "         [-0.0403, -0.0200, -0.0240,  ...,  0.0000,  0.0000,  0.0000],\n",
      "         [ 0.0480,  0.0415,  0.0620,  ...,  0.0000,  0.0000,  0.0000],\n",
      "         [ 0.0189,  0.0140,  0.0278,  ...,  0.0000,  0.0000,  0.0000]]])\n"
     ]
    }
   ],
   "source": [
    "print(words_emb.shape)\n",
    "print(words_emb)"
   ]
  },
  {
   "cell_type": "code",
   "execution_count": 19,
   "metadata": {
    "collapsed": false
   },
   "outputs": [
    {
     "name": "stdout",
     "output_type": "stream",
     "text": [
      "torch.Size([48, 256])\n",
      "tensor([[-3.7055e-02,  4.4027e-02,  3.0218e-02,  ..., -5.1560e-02,\n",
      "          5.7713e-02,  2.3527e-02],\n",
      "        [-4.0885e-02,  5.9492e-03,  3.7219e-02,  ..., -3.6472e-02,\n",
      "          6.0148e-02,  1.5572e-02],\n",
      "        [-3.5903e-02,  2.9381e-02,  4.0068e-02,  ..., -1.0184e-02,\n",
      "          6.4992e-02,  3.9068e-02],\n",
      "        ...,\n",
      "        [-3.6976e-02,  3.3677e-02,  6.7880e-02,  ..., -2.8327e-02,\n",
      "          4.7381e-02,  1.3940e-02],\n",
      "        [-3.3234e-02,  1.4462e-02,  4.0952e-02,  ..., -1.0122e-03,\n",
      "          7.6007e-02,  3.3161e-02],\n",
      "        [-4.2610e-02,  9.3139e-03,  3.3283e-02,  ..., -4.0300e-02,\n",
      "          4.7959e-02,  1.8901e-02]])\n"
     ]
    }
   ],
   "source": [
    "print(sent_emb.shape)\n",
    "print(sent_emb)"
   ]
  },
  {
   "cell_type": "code",
   "execution_count": 20,
   "metadata": {
    "collapsed": false,
    "scrolled": true
   },
   "outputs": [
    {
     "name": "stderr",
     "output_type": "stream",
     "text": [
      "WARNING:root:Keras version 2.1.6 detected. Last version known to be fully compatible of Keras is 2.1.3 .\n",
      "WARNING:root:TensorFlow version 1.8.0 detected. Last version known to be fully compatible is 1.5.0 .\n"
     ]
    }
   ],
   "source": [
    "# source coreml/bin/activate\n",
    "import coremltools"
   ]
  },
  {
   "cell_type": "code",
   "execution_count": 35,
   "metadata": {
    "collapsed": false,
    "scrolled": false
   },
   "outputs": [
    {
     "ename": "TypeError",
     "evalue": "wrapPyFuncWithSymbolic(): incompatible function arguments. The following argument types are supported:\n    1. (self: torch._C.Graph, arg0: function, arg1: List[torch::jit::Value], arg2: int, arg3: function) -> iterator\n\nInvoked with: graph(%0 : Long(48, 15)\n      %1 : Long(48)\n      %2 : Float(2, 48, 128)\n      %3 : Float(2, 48, 128)\n      %4 : Float(27297, 300)\n      %5 : Float(512, 300)\n      %6 : Float(512, 128)\n      %7 : Float(512)\n      %8 : Float(512)\n      %9 : Float(512, 300)\n      %10 : Float(512, 128)\n      %11 : Float(512)\n      %12 : Float(512)) {\n  %13 : Float(48, 15, 300) = aten::embedding[padding_idx=-1, scale_grad_by_freq=0, sparse=0](%4, %0), scope: RNN_ENCODER/Embedding[encoder]\n  %16 : Float(48, 15, 300), %17 : Handle = ^Dropout(0.5, False, False)(%13), scope: RNN_ENCODER/Dropout[drop]\n  %15 : Float(48, 15, 300) = aten::slice[dim=0, start=0, end=9223372036854775807, step=1](%13), scope: RNN_ENCODER/Dropout[drop]\n  %14 : Float(48, 15, 300) = aten::as_strided[size=[48, 15, 300], stride=[4500, 300, 1], storage_offset=0](%13), scope: RNN_ENCODER/Dropout[drop]\n  %18 : Long(48) = prim::Constant[value=<Tensor>](), scope: RNN_ENCODER\n  %70 : Float(509, 300), %71 : Long(15), %72 : Handle = ^PackPadded(True)(%16, %18), scope: RNN_ENCODER\n  %19 : Float(15!, 48!, 300) = aten::transpose[dim0=0, dim1=1](%16), scope: RNN_ENCODER\n  %21 : Long() = aten::select[dim=0, index=47](%18), scope: RNN_ENCODER\n  %20 : Long() = aten::as_strided[size=[], stride=[], storage_offset=47](%18), scope: RNN_ENCODER\n  %22 : Byte() = aten::le[other={0}](%21), scope: RNN_ENCODER\n  %24 : Float(8!, 48!, 300) = aten::slice[dim=0, start=0, end=8, step=1](%19), scope: RNN_ENCODER\n  %23 : Float(8!, 48!, 300) = aten::as_strided[size=[8, 48, 300], stride=[300, 4500, 1], storage_offset=0](%19), scope: RNN_ENCODER\n  %25 : Float(8, 48, 300) = aten::clone(%24), scope: RNN_ENCODER\n  %26 : Float(384, 300) = aten::view[size=[-1, 300]](%25), scope: RNN_ENCODER\n  %28 : Float(1!, 48!, 300) = aten::slice[dim=0, start=8, end=9, step=1](%19), scope: RNN_ENCODER\n  %27 : Float(1!, 48!, 300) = aten::as_strided[size=[1, 48, 300], stride=[300, 4500, 1], storage_offset=2400](%19), scope: RNN_ENCODER\n  %30 : Float(1!, 40!, 300) = aten::slice[dim=1, start=0, end=40, step=1](%28), scope: RNN_ENCODER\n  %29 : Float(1!, 40!, 300) = aten::as_strided[size=[1, 40, 300], stride=[300, 4500, 1], storage_offset=2400](%28), scope: RNN_ENCODER\n  %31 : Float(1, 40, 300) = aten::clone(%30), scope: RNN_ENCODER\n  %32 : Float(40, 300) = aten::view[size=[-1, 300]](%31), scope: RNN_ENCODER\n  %34 : Float(1!, 48!, 300) = aten::slice[dim=0, start=9, end=10, step=1](%19), scope: RNN_ENCODER\n  %33 : Float(1!, 48!, 300) = aten::as_strided[size=[1, 48, 300], stride=[300, 4500, 1], storage_offset=2700](%19), scope: RNN_ENCODER\n  %36 : Float(1!, 30!, 300) = aten::slice[dim=1, start=0, end=30, step=1](%34), scope: RNN_ENCODER\n  %35 : Float(1!, 30!, 300) = aten::as_strided[size=[1, 30, 300], stride=[300, 4500, 1], storage_offset=2700](%34), scope: RNN_ENCODER\n  %37 : Float(1, 30, 300) = aten::clone(%36), scope: RNN_ENCODER\n  %38 : Float(30, 300) = aten::view[size=[-1, 300]](%37), scope: RNN_ENCODER\n  %40 : Float(1!, 48!, 300) = aten::slice[dim=0, start=10, end=11, step=1](%19), scope: RNN_ENCODER\n  %39 : Float(1!, 48!, 300) = aten::as_strided[size=[1, 48, 300], stride=[300, 4500, 1], storage_offset=3000](%19), scope: RNN_ENCODER\n  %42 : Float(1!, 19!, 300) = aten::slice[dim=1, start=0, end=19, step=1](%40), scope: RNN_ENCODER\n  %41 : Float(1!, 19!, 300) = aten::as_strided[size=[1, 19, 300], stride=[300, 4500, 1], storage_offset=3000](%40), scope: RNN_ENCODER\n  %43 : Float(1, 19, 300) = aten::clone(%42), scope: RNN_ENCODER\n  %44 : Float(19, 300) = aten::view[size=[-1, 300]](%43), scope: RNN_ENCODER\n  %46 : Float(1!, 48!, 300) = aten::slice[dim=0, start=11, end=12, step=1](%19), scope: RNN_ENCODER\n  %45 : Float(1!, 48!, 300) = aten::as_strided[size=[1, 48, 300], stride=[300, 4500, 1], storage_offset=3300](%19), scope: RNN_ENCODER\n  %48 : Float(1!, 15!, 300) = aten::slice[dim=1, start=0, end=15, step=1](%46), scope: RNN_ENCODER\n  %47 : Float(1!, 15!, 300) = aten::as_strided[size=[1, 15, 300], stride=[300, 4500, 1], storage_offset=3300](%46), scope: RNN_ENCODER\n  %49 : Float(1, 15, 300) = aten::clone(%48), scope: RNN_ENCODER\n  %50 : Float(15, 300) = aten::view[size=[-1, 300]](%49), scope: RNN_ENCODER\n  %52 : Float(1!, 48!, 300) = aten::slice[dim=0, start=12, end=13, step=1](%19), scope: RNN_ENCODER\n  %51 : Float(1!, 48!, 300) = aten::as_strided[size=[1, 48, 300], stride=[300, 4500, 1], storage_offset=3600](%19), scope: RNN_ENCODER\n  %54 : Float(1!, 11!, 300) = aten::slice[dim=1, start=0, end=11, step=1](%52), scope: RNN_ENCODER\n  %53 : Float(1!, 11!, 300) = aten::as_strided[size=[1, 11, 300], stride=[300, 4500, 1], storage_offset=3600](%52), scope: RNN_ENCODER\n  %55 : Float(1, 11, 300) = aten::clone(%54), scope: RNN_ENCODER\n  %56 : Float(11, 300) = aten::view[size=[-1, 300]](%55), scope: RNN_ENCODER\n  %58 : Float(1!, 48!, 300) = aten::slice[dim=0, start=13, end=14, step=1](%19), scope: RNN_ENCODER\n  %57 : Float(1!, 48!, 300) = aten::as_strided[size=[1, 48, 300], stride=[300, 4500, 1], storage_offset=3900](%19), scope: RNN_ENCODER\n  %60 : Float(1!, 7!, 300) = aten::slice[dim=1, start=0, end=7, step=1](%58), scope: RNN_ENCODER\n  %59 : Float(1!, 7!, 300) = aten::as_strided[size=[1, 7, 300], stride=[300, 4500, 1], storage_offset=3900](%58), scope: RNN_ENCODER\n  %61 : Float(1, 7, 300) = aten::clone(%60), scope: RNN_ENCODER\n  %62 : Float(7, 300) = aten::view[size=[-1, 300]](%61), scope: RNN_ENCODER\n  %64 : Float(1!, 48!, 300) = aten::slice[dim=0, start=14, end=15, step=1](%19), scope: RNN_ENCODER\n  %63 : Float(1!, 48!, 300) = aten::as_strided[size=[1, 48, 300], stride=[300, 4500, 1], storage_offset=4200](%19), scope: RNN_ENCODER\n  %66 : Float(1!, 3!, 300) = aten::slice[dim=1, start=0, end=3, step=1](%64), scope: RNN_ENCODER\n  %65 : Float(1!, 3!, 300) = aten::as_strided[size=[1, 3, 300], stride=[300, 4500, 1], storage_offset=4200](%64), scope: RNN_ENCODER\n  %67 : Float(1, 3, 300) = aten::clone(%66), scope: RNN_ENCODER\n  %68 : Float(3, 300) = aten::view[size=[-1, 300]](%67), scope: RNN_ENCODER\n  %69 : Float(509, 300) = aten::cat[dim=0](%26, %32, %38, %44, %50, %56, %62, %68), scope: RNN_ENCODER\n  %73 : Float(48, 15, 300) = aten::embedding[padding_idx=-1, scale_grad_by_freq=0, sparse=0](%4, %0), scope: RNN_ENCODER/Embedding[encoder]\n  %76 : Float(48, 15, 300), %77 : Handle = ^Dropout(0.5, False, False)(%73), scope: RNN_ENCODER/Dropout[drop]\n  %75 : Float(48, 15, 300) = aten::slice[dim=0, start=0, end=9223372036854775807, step=1](%73), scope: RNN_ENCODER/Dropout[drop]\n  %74 : Float(48, 15, 300) = aten::as_strided[size=[48, 15, 300], stride=[4500, 300, 1], storage_offset=0](%73), scope: RNN_ENCODER/Dropout[drop]\n  %78 : Long(48) = prim::Constant[value=<Tensor>](), scope: RNN_ENCODER\n  %130 : Float(509, 300), %131 : Long(15), %132 : Handle = ^PackPadded(True)(%76, %78), scope: RNN_ENCODER\n  %79 : Float(15!, 48!, 300) = aten::transpose[dim0=0, dim1=1](%76), scope: RNN_ENCODER\n  %81 : Long() = aten::select[dim=0, index=47](%78), scope: RNN_ENCODER\n  %80 : Long() = aten::as_strided[size=[], stride=[], storage_offset=47](%78), scope: RNN_ENCODER\n  %82 : Byte() = aten::le[other={0}](%81), scope: RNN_ENCODER\n  %84 : Float(8!, 48!, 300) = aten::slice[dim=0, start=0, end=8, step=1](%79), scope: RNN_ENCODER\n  %83 : Float(8!, 48!, 300) = aten::as_strided[size=[8, 48, 300], stride=[300, 4500, 1], storage_offset=0](%79), scope: RNN_ENCODER\n  %85 : Float(8, 48, 300) = aten::clone(%84), scope: RNN_ENCODER\n  %86 : Float(384, 300) = aten::view[size=[-1, 300]](%85), scope: RNN_ENCODER\n  %88 : Float(1!, 48!, 300) = aten::slice[dim=0, start=8, end=9, step=1](%79), scope: RNN_ENCODER\n  %87 : Float(1!, 48!, 300) = aten::as_strided[size=[1, 48, 300], stride=[300, 4500, 1], storage_offset=2400](%79), scope: RNN_ENCODER\n  %90 : Float(1!, 40!, 300) = aten::slice[dim=1, start=0, end=40, step=1](%88), scope: RNN_ENCODER\n  %89 : Float(1!, 40!, 300) = aten::as_strided[size=[1, 40, 300], stride=[300, 4500, 1], storage_offset=2400](%88), scope: RNN_ENCODER\n  %91 : Float(1, 40, 300) = aten::clone(%90), scope: RNN_ENCODER\n  %92 : Float(40, 300) = aten::view[size=[-1, 300]](%91), scope: RNN_ENCODER\n  %94 : Float(1!, 48!, 300) = aten::slice[dim=0, start=9, end=10, step=1](%79), scope: RNN_ENCODER\n  %93 : Float(1!, 48!, 300) = aten::as_strided[size=[1, 48, 300], stride=[300, 4500, 1], storage_offset=2700](%79), scope: RNN_ENCODER\n  %96 : Float(1!, 30!, 300) = aten::slice[dim=1, start=0, end=30, step=1](%94), scope: RNN_ENCODER\n  %95 : Float(1!, 30!, 300) = aten::as_strided[size=[1, 30, 300], stride=[300, 4500, 1], storage_offset=2700](%94), scope: RNN_ENCODER\n  %97 : Float(1, 30, 300) = aten::clone(%96), scope: RNN_ENCODER\n  %98 : Float(30, 300) = aten::view[size=[-1, 300]](%97), scope: RNN_ENCODER\n  %100 : Float(1!, 48!, 300) = aten::slice[dim=0, start=10, end=11, step=1](%79), scope: RNN_ENCODER\n  %99 : Float(1!, 48!, 300) = aten::as_strided[size=[1, 48, 300], stride=[300, 4500, 1], storage_offset=3000](%79), scope: RNN_ENCODER\n  %102 : Float(1!, 19!, 300) = aten::slice[dim=1, start=0, end=19, step=1](%100), scope: RNN_ENCODER\n  %101 : Float(1!, 19!, 300) = aten::as_strided[size=[1, 19, 300], stride=[300, 4500, 1], storage_offset=3000](%100), scope: RNN_ENCODER\n  %103 : Float(1, 19, 300) = aten::clone(%102), scope: RNN_ENCODER\n  %104 : Float(19, 300) = aten::view[size=[-1, 300]](%103), scope: RNN_ENCODER\n  %106 : Float(1!, 48!, 300) = aten::slice[dim=0, start=11, end=12, step=1](%79), scope: RNN_ENCODER\n  %105 : Float(1!, 48!, 300) = aten::as_strided[size=[1, 48, 300], stride=[300, 4500, 1], storage_offset=3300](%79), scope: RNN_ENCODER\n  %108 : Float(1!, 15!, 300) = aten::slice[dim=1, start=0, end=15, step=1](%106), scope: RNN_ENCODER\n  %107 : Float(1!, 15!, 300) = aten::as_strided[size=[1, 15, 300], stride=[300, 4500, 1], storage_offset=3300](%106), scope: RNN_ENCODER\n  %109 : Float(1, 15, 300) = aten::clone(%108), scope: RNN_ENCODER\n  %110 : Float(15, 300) = aten::view[size=[-1, 300]](%109), scope: RNN_ENCODER\n  %112 : Float(1!, 48!, 300) = aten::slice[dim=0, start=12, end=13, step=1](%79), scope: RNN_ENCODER\n  %111 : Float(1!, 48!, 300) = aten::as_strided[size=[1, 48, 300], stride=[300, 4500, 1], storage_offset=3600](%79), scope: RNN_ENCODER\n  %114 : Float(1!, 11!, 300) = aten::slice[dim=1, start=0, end=11, step=1](%112), scope: RNN_ENCODER\n  %113 : Float(1!, 11!, 300) = aten::as_strided[size=[1, 11, 300], stride=[300, 4500, 1], storage_offset=3600](%112), scope: RNN_ENCODER\n  %115 : Float(1, 11, 300) = aten::clone(%114), scope: RNN_ENCODER\n  %116 : Float(11, 300) = aten::view[size=[-1, 300]](%115), scope: RNN_ENCODER\n  %118 : Float(1!, 48!, 300) = aten::slice[dim=0, start=13, end=14, step=1](%79), scope: RNN_ENCODER\n  %117 : Float(1!, 48!, 300) = aten::as_strided[size=[1, 48, 300], stride=[300, 4500, 1], storage_offset=3900](%79), scope: RNN_ENCODER\n  %120 : Float(1!, 7!, 300) = aten::slice[dim=1, start=0, end=7, step=1](%118), scope: RNN_ENCODER\n  %119 : Float(1!, 7!, 300) = aten::as_strided[size=[1, 7, 300], stride=[300, 4500, 1], storage_offset=3900](%118), scope: RNN_ENCODER\n  %121 : Float(1, 7, 300) = aten::clone(%120), scope: RNN_ENCODER\n  %122 : Float(7, 300) = aten::view[size=[-1, 300]](%121), scope: RNN_ENCODER\n  %124 : Float(1!, 48!, 300) = aten::slice[dim=0, start=14, end=15, step=1](%79), scope: RNN_ENCODER\n  %123 : Float(1!, 48!, 300) = aten::as_strided[size=[1, 48, 300], stride=[300, 4500, 1], storage_offset=4200](%79), scope: RNN_ENCODER\n  %126 : Float(1!, 3!, 300) = aten::slice[dim=1, start=0, end=3, step=1](%124), scope: RNN_ENCODER\n  %125 : Float(1!, 3!, 300) = aten::as_strided[size=[1, 3, 300], stride=[300, 4500, 1], storage_offset=4200](%124), scope: RNN_ENCODER\n  %127 : Float(1, 3, 300) = aten::clone(%126), scope: RNN_ENCODER\n  %128 : Float(3, 300) = aten::view[size=[-1, 300]](%127), scope: RNN_ENCODER\n  %129 : Float(509, 300) = aten::cat[dim=0](%86, %92, %98, %104, %110, %116, %122, %128), scope: RNN_ENCODER\n  %133 : Float(48, 15, 300) = aten::embedding[padding_idx=-1, scale_grad_by_freq=0, sparse=0](%4, %0), scope: RNN_ENCODER/Embedding[encoder]\n  %136 : Float(48, 15, 300), %137 : Handle = ^Dropout(0.5, False, False)(%133), scope: RNN_ENCODER/Dropout[drop]\n  %135 : Float(48, 15, 300) = aten::slice[dim=0, start=0, end=9223372036854775807, step=1](%133), scope: RNN_ENCODER/Dropout[drop]\n  %134 : Float(48, 15, 300) = aten::as_strided[size=[48, 15, 300], stride=[4500, 300, 1], storage_offset=0](%133), scope: RNN_ENCODER/Dropout[drop]\n  %138 : Long(48) = prim::Constant[value=<Tensor>](), scope: RNN_ENCODER\n   = ^PackPadded(True)(%136, %138), scope: RNN_ENCODER\n  %139 : Float(15!, 48!, 300) = aten::transpose[dim0=0, dim1=1](%136), scope: RNN_ENCODER\n  %141 : Long() = aten::select[dim=0, index=47](%138), scope: RNN_ENCODER\n  %140 : Long() = aten::as_strided[size=[], stride=[], storage_offset=47](%138), scope: RNN_ENCODER\n  %142 : Byte() = aten::le[other={0}](%141), scope: RNN_ENCODER\n  %144 : Float(6!, 48!, 300) = aten::slice[dim=0, start=0, end=6, step=1](%139), scope: RNN_ENCODER\n  %143 : Float(6!, 48!, 300) = aten::as_strided[size=[6, 48, 300], stride=[300, 4500, 1], storage_offset=0](%139), scope: RNN_ENCODER\n  %145 : Float(6, 48, 300) = aten::clone(%144), scope: RNN_ENCODER\n  %146 : Float(288, 300) = aten::view[size=[-1, 300]](%145), scope: RNN_ENCODER\n  %148 : Float(7!, 48!, 300) = aten::slice[dim=0, start=6, end=13, step=1](%139), scope: RNN_ENCODER\n  %147 : Float(7!, 48!, 300) = aten::as_strided[size=[7, 48, 300], stride=[300, 4500, 1], storage_offset=1800](%139), scope: RNN_ENCODER\n  %150 : Float(7!, 47!, 300) = aten::slice[dim=1, start=0, end=47, step=1](%148), scope: RNN_ENCODER\n  %149 : Float(7!, 47!, 300) = aten::as_strided[size=[7, 47, 300], stride=[300, 4500, 1], storage_offset=1800](%148), scope: RNN_ENCODER\n  %151 : Float(7, 47, 300) = aten::clone(%150), scope: RNN_ENCODER\n  %152 : Float(329, 300) = aten::view[size=[-1, 300]](%151), scope: RNN_ENCODER\n  %153 : Float(48, 15, 300) = aten::embedding[padding_idx=-1, scale_grad_by_freq=0, sparse=0](%4, %0), scope: RNN_ENCODER/Embedding[encoder]\n  %156 : Float(48, 15, 300), %157 : Handle = ^Dropout(0.5, False, False)(%153), scope: RNN_ENCODER/Dropout[drop]\n  %155 : Float(48, 15, 300) = aten::slice[dim=0, start=0, end=9223372036854775807, step=1](%153), scope: RNN_ENCODER/Dropout[drop]\n  %154 : Float(48, 15, 300) = aten::as_strided[size=[48, 15, 300], stride=[4500, 300, 1], storage_offset=0](%153), scope: RNN_ENCODER/Dropout[drop]\n  %158 : Long(48) = prim::Constant[value=<Tensor>](), scope: RNN_ENCODER\n  %210 : Float(509, 300), %211 : Long(15), %212 : Handle = ^PackPadded(True)(%156, %158), scope: RNN_ENCODER\n  %159 : Float(15!, 48!, 300) = aten::transpose[dim0=0, dim1=1](%156), scope: RNN_ENCODER\n  %161 : Long() = aten::select[dim=0, index=47](%158), scope: RNN_ENCODER\n  %160 : Long() = aten::as_strided[size=[], stride=[], storage_offset=47](%158), scope: RNN_ENCODER\n  %162 : Byte() = aten::le[other={0}](%161), scope: RNN_ENCODER\n  %164 : Float(8!, 48!, 300) = aten::slice[dim=0, start=0, end=8, step=1](%159), scope: RNN_ENCODER\n  %163 : Float(8!, 48!, 300) = aten::as_strided[size=[8, 48, 300], stride=[300, 4500, 1], storage_offset=0](%159), scope: RNN_ENCODER\n  %165 : Float(8, 48, 300) = aten::clone(%164), scope: RNN_ENCODER\n  %166 : Float(384, 300) = aten::view[size=[-1, 300]](%165), scope: RNN_ENCODER\n  %168 : Float(1!, 48!, 300) = aten::slice[dim=0, start=8, end=9, step=1](%159), scope: RNN_ENCODER\n  %167 : Float(1!, 48!, 300) = aten::as_strided[size=[1, 48, 300], stride=[300, 4500, 1], storage_offset=2400](%159), scope: RNN_ENCODER\n  %170 : Float(1!, 40!, 300) = aten::slice[dim=1, start=0, end=40, step=1](%168), scope: RNN_ENCODER\n  %169 : Float(1!, 40!, 300) = aten::as_strided[size=[1, 40, 300], stride=[300, 4500, 1], storage_offset=2400](%168), scope: RNN_ENCODER\n  %171 : Float(1, 40, 300) = aten::clone(%170), scope: RNN_ENCODER\n  %172 : Float(40, 300) = aten::view[size=[-1, 300]](%171), scope: RNN_ENCODER\n  %174 : Float(1!, 48!, 300) = aten::slice[dim=0, start=9, end=10, step=1](%159), scope: RNN_ENCODER\n  %173 : Float(1!, 48!, 300) = aten::as_strided[size=[1, 48, 300], stride=[300, 4500, 1], storage_offset=2700](%159), scope: RNN_ENCODER\n  %176 : Float(1!, 30!, 300) = aten::slice[dim=1, start=0, end=30, step=1](%174), scope: RNN_ENCODER\n  %175 : Float(1!, 30!, 300) = aten::as_strided[size=[1, 30, 300], stride=[300, 4500, 1], storage_offset=2700](%174), scope: RNN_ENCODER\n  %177 : Float(1, 30, 300) = aten::clone(%176), scope: RNN_ENCODER\n  %178 : Float(30, 300) = aten::view[size=[-1, 300]](%177), scope: RNN_ENCODER\n  %180 : Float(1!, 48!, 300) = aten::slice[dim=0, start=10, end=11, step=1](%159), scope: RNN_ENCODER\n  %179 : Float(1!, 48!, 300) = aten::as_strided[size=[1, 48, 300], stride=[300, 4500, 1], storage_offset=3000](%159), scope: RNN_ENCODER\n  %182 : Float(1!, 19!, 300) = aten::slice[dim=1, start=0, end=19, step=1](%180), scope: RNN_ENCODER\n  %181 : Float(1!, 19!, 300) = aten::as_strided[size=[1, 19, 300], stride=[300, 4500, 1], storage_offset=3000](%180), scope: RNN_ENCODER\n  %183 : Float(1, 19, 300) = aten::clone(%182), scope: RNN_ENCODER\n  %184 : Float(19, 300) = aten::view[size=[-1, 300]](%183), scope: RNN_ENCODER\n  %186 : Float(1!, 48!, 300) = aten::slice[dim=0, start=11, end=12, step=1](%159), scope: RNN_ENCODER\n  %185 : Float(1!, 48!, 300) = aten::as_strided[size=[1, 48, 300], stride=[300, 4500, 1], storage_offset=3300](%159), scope: RNN_ENCODER\n  %188 : Float(1!, 15!, 300) = aten::slice[dim=1, start=0, end=15, step=1](%186), scope: RNN_ENCODER\n  %187 : Float(1!, 15!, 300) = aten::as_strided[size=[1, 15, 300], stride=[300, 4500, 1], storage_offset=3300](%186), scope: RNN_ENCODER\n  %189 : Float(1, 15, 300) = aten::clone(%188), scope: RNN_ENCODER\n  %190 : Float(15, 300) = aten::view[size=[-1, 300]](%189), scope: RNN_ENCODER\n  %192 : Float(1!, 48!, 300) = aten::slice[dim=0, start=12, end=13, step=1](%159), scope: RNN_ENCODER\n  %191 : Float(1!, 48!, 300) = aten::as_strided[size=[1, 48, 300], stride=[300, 4500, 1], storage_offset=3600](%159), scope: RNN_ENCODER\n  %194 : Float(1!, 11!, 300) = aten::slice[dim=1, start=0, end=11, step=1](%192), scope: RNN_ENCODER\n  %193 : Float(1!, 11!, 300) = aten::as_strided[size=[1, 11, 300], stride=[300, 4500, 1], storage_offset=3600](%192), scope: RNN_ENCODER\n  %195 : Float(1, 11, 300) = aten::clone(%194), scope: RNN_ENCODER\n  %196 : Float(11, 300) = aten::view[size=[-1, 300]](%195), scope: RNN_ENCODER\n  %198 : Float(1!, 48!, 300) = aten::slice[dim=0, start=13, end=14, step=1](%159), scope: RNN_ENCODER\n  %197 : Float(1!, 48!, 300) = aten::as_strided[size=[1, 48, 300], stride=[300, 4500, 1], storage_offset=3900](%159), scope: RNN_ENCODER\n  %200 : Float(1!, 7!, 300) = aten::slice[dim=1, start=0, end=7, step=1](%198), scope: RNN_ENCODER\n  %199 : Float(1!, 7!, 300) = aten::as_strided[size=[1, 7, 300], stride=[300, 4500, 1], storage_offset=3900](%198), scope: RNN_ENCODER\n  %201 : Float(1, 7, 300) = aten::clone(%200), scope: RNN_ENCODER\n  %202 : Float(7, 300) = aten::view[size=[-1, 300]](%201), scope: RNN_ENCODER\n  %204 : Float(1!, 48!, 300) = aten::slice[dim=0, start=14, end=15, step=1](%159), scope: RNN_ENCODER\n  %203 : Float(1!, 48!, 300) = aten::as_strided[size=[1, 48, 300], stride=[300, 4500, 1], storage_offset=4200](%159), scope: RNN_ENCODER\n  %206 : Float(1!, 3!, 300) = aten::slice[dim=1, start=0, end=3, step=1](%204), scope: RNN_ENCODER\n  %205 : Float(1!, 3!, 300) = aten::as_strided[size=[1, 3, 300], stride=[300, 4500, 1], storage_offset=4200](%204), scope: RNN_ENCODER\n  %207 : Float(1, 3, 300) = aten::clone(%206), scope: RNN_ENCODER\n  %208 : Float(3, 300) = aten::view[size=[-1, 300]](%207), scope: RNN_ENCODER\n  %209 : Float(509, 300) = aten::cat[dim=0](%166, %172, %178, %184, %190, %196, %202, %208), scope: RNN_ENCODER\n  %213 : Long(48, 15) = prim::Constant[value=<Tensor>](), scope: RNN_ENCODER\n  %214 : Float(48, 15, 300) = aten::embedding[padding_idx=-1, scale_grad_by_freq=0, sparse=0](%4, %213), scope: RNN_ENCODER\n  %217 : Float(48, 15, 300), %218 : Handle = ^Dropout(0.5, False, False)(%214), scope: RNN_ENCODER/Dropout[drop]\n  %216 : Float(48, 15, 300) = aten::slice[dim=0, start=0, end=9223372036854775807, step=1](%214), scope: RNN_ENCODER/Dropout[drop]\n  %215 : Float(48, 15, 300) = aten::as_strided[size=[48, 15, 300], stride=[4500, 300, 1], storage_offset=0](%214), scope: RNN_ENCODER/Dropout[drop]\n  %219 : Long(48) = prim::Constant[value=<Tensor>](), scope: RNN_ENCODER\n  %271 : Float(509, 300), %272 : Long(15), %273 : Handle = ^PackPadded(True)(%217, %219), scope: RNN_ENCODER\n  %220 : Float(15!, 48!, 300) = aten::transpose[dim0=0, dim1=1](%217), scope: RNN_ENCODER\n  %222 : Long() = aten::select[dim=0, index=47](%219), scope: RNN_ENCODER\n  %221 : Long() = aten::as_strided[size=[], stride=[], storage_offset=47](%219), scope: RNN_ENCODER\n  %223 : Byte() = aten::le[other={0}](%222), scope: RNN_ENCODER\n  %225 : Float(8!, 48!, 300) = aten::slice[dim=0, start=0, end=8, step=1](%220), scope: RNN_ENCODER\n  %224 : Float(8!, 48!, 300) = aten::as_strided[size=[8, 48, 300], stride=[300, 4500, 1], storage_offset=0](%220), scope: RNN_ENCODER\n  %226 : Float(8, 48, 300) = aten::clone(%225), scope: RNN_ENCODER\n  %227 : Float(384, 300) = aten::view[size=[-1, 300]](%226), scope: RNN_ENCODER\n  %229 : Float(1!, 48!, 300) = aten::slice[dim=0, start=8, end=9, step=1](%220), scope: RNN_ENCODER\n  %228 : Float(1!, 48!, 300) = aten::as_strided[size=[1, 48, 300], stride=[300, 4500, 1], storage_offset=2400](%220), scope: RNN_ENCODER\n  %231 : Float(1!, 40!, 300) = aten::slice[dim=1, start=0, end=40, step=1](%229), scope: RNN_ENCODER\n  %230 : Float(1!, 40!, 300) = aten::as_strided[size=[1, 40, 300], stride=[300, 4500, 1], storage_offset=2400](%229), scope: RNN_ENCODER\n  %232 : Float(1, 40, 300) = aten::clone(%231), scope: RNN_ENCODER\n  %233 : Float(40, 300) = aten::view[size=[-1, 300]](%232), scope: RNN_ENCODER\n  %235 : Float(1!, 48!, 300) = aten::slice[dim=0, start=9, end=10, step=1](%220), scope: RNN_ENCODER\n  %234 : Float(1!, 48!, 300) = aten::as_strided[size=[1, 48, 300], stride=[300, 4500, 1], storage_offset=2700](%220), scope: RNN_ENCODER\n  %237 : Float(1!, 30!, 300) = aten::slice[dim=1, start=0, end=30, step=1](%235), scope: RNN_ENCODER\n  %236 : Float(1!, 30!, 300) = aten::as_strided[size=[1, 30, 300], stride=[300, 4500, 1], storage_offset=2700](%235), scope: RNN_ENCODER\n  %238 : Float(1, 30, 300) = aten::clone(%237), scope: RNN_ENCODER\n  %239 : Float(30, 300) = aten::view[size=[-1, 300]](%238), scope: RNN_ENCODER\n  %241 : Float(1!, 48!, 300) = aten::slice[dim=0, start=10, end=11, step=1](%220), scope: RNN_ENCODER\n  %240 : Float(1!, 48!, 300) = aten::as_strided[size=[1, 48, 300], stride=[300, 4500, 1], storage_offset=3000](%220), scope: RNN_ENCODER\n  %243 : Float(1!, 19!, 300) = aten::slice[dim=1, start=0, end=19, step=1](%241), scope: RNN_ENCODER\n  %242 : Float(1!, 19!, 300) = aten::as_strided[size=[1, 19, 300], stride=[300, 4500, 1], storage_offset=3000](%241), scope: RNN_ENCODER\n  %244 : Float(1, 19, 300) = aten::clone(%243), scope: RNN_ENCODER\n  %245 : Float(19, 300) = aten::view[size=[-1, 300]](%244), scope: RNN_ENCODER\n  %247 : Float(1!, 48!, 300) = aten::slice[dim=0, start=11, end=12, step=1](%220), scope: RNN_ENCODER\n  %246 : Float(1!, 48!, 300) = aten::as_strided[size=[1, 48, 300], stride=[300, 4500, 1], storage_offset=3300](%220), scope: RNN_ENCODER\n  %249 : Float(1!, 15!, 300) = aten::slice[dim=1, start=0, end=15, step=1](%247), scope: RNN_ENCODER\n  %248 : Float(1!, 15!, 300) = aten::as_strided[size=[1, 15, 300], stride=[300, 4500, 1], storage_offset=3300](%247), scope: RNN_ENCODER\n  %250 : Float(1, 15, 300) = aten::clone(%249), scope: RNN_ENCODER\n  %251 : Float(15, 300) = aten::view[size=[-1, 300]](%250), scope: RNN_ENCODER\n  %253 : Float(1!, 48!, 300) = aten::slice[dim=0, start=12, end=13, step=1](%220), scope: RNN_ENCODER\n  %252 : Float(1!, 48!, 300) = aten::as_strided[size=[1, 48, 300], stride=[300, 4500, 1], storage_offset=3600](%220), scope: RNN_ENCODER\n  %255 : Float(1!, 11!, 300) = aten::slice[dim=1, start=0, end=11, step=1](%253), scope: RNN_ENCODER\n  %254 : Float(1!, 11!, 300) = aten::as_strided[size=[1, 11, 300], stride=[300, 4500, 1], storage_offset=3600](%253), scope: RNN_ENCODER\n  %256 : Float(1, 11, 300) = aten::clone(%255), scope: RNN_ENCODER\n  %257 : Float(11, 300) = aten::view[size=[-1, 300]](%256), scope: RNN_ENCODER\n  %259 : Float(1!, 48!, 300) = aten::slice[dim=0, start=13, end=14, step=1](%220), scope: RNN_ENCODER\n  %258 : Float(1!, 48!, 300) = aten::as_strided[size=[1, 48, 300], stride=[300, 4500, 1], storage_offset=3900](%220), scope: RNN_ENCODER\n  %261 : Float(1!, 7!, 300) = aten::slice[dim=1, start=0, end=7, step=1](%259), scope: RNN_ENCODER\n  %260 : Float(1!, 7!, 300) = aten::as_strided[size=[1, 7, 300], stride=[300, 4500, 1], storage_offset=3900](%259), scope: RNN_ENCODER\n  %262 : Float(1, 7, 300) = aten::clone(%261), scope: RNN_ENCODER\n  %263 : Float(7, 300) = aten::view[size=[-1, 300]](%262), scope: RNN_ENCODER\n  %265 : Float(1!, 48!, 300) = aten::slice[dim=0, start=14, end=15, step=1](%220), scope: RNN_ENCODER\n  %264 : Float(1!, 48!, 300) = aten::as_strided[size=[1, 48, 300], stride=[300, 4500, 1], storage_offset=4200](%220), scope: RNN_ENCODER\n  %267 : Float(1!, 3!, 300) = aten::slice[dim=1, start=0, end=3, step=1](%265), scope: RNN_ENCODER\n  %266 : Float(1!, 3!, 300) = aten::as_strided[size=[1, 3, 300], stride=[300, 4500, 1], storage_offset=4200](%265), scope: RNN_ENCODER\n  %268 : Float(1, 3, 300) = aten::clone(%267), scope: RNN_ENCODER\n  %269 : Float(3, 300) = aten::view[size=[-1, 300]](%268), scope: RNN_ENCODER\n  %270 : Float(509, 300) = aten::cat[dim=0](%227, %233, %239, %245, %251, %257, %263, %269), scope: RNN_ENCODER\n  %274 : Long(48, 15) = prim::Constant[value=<Tensor>](), scope: RNN_ENCODER\n  %275 : Float(48, 15, 300) = aten::embedding[padding_idx=-1, scale_grad_by_freq=0, sparse=0](%4, %274), scope: RNN_ENCODER\n  %278 : Float(48, 15, 300), %279 : Handle = ^Dropout(0.5, False, False)(%275), scope: RNN_ENCODER/Dropout[drop]\n  %277 : Float(48, 15, 300) = aten::slice[dim=0, start=0, end=9223372036854775807, step=1](%275), scope: RNN_ENCODER/Dropout[drop]\n  %276 : Float(48, 15, 300) = aten::as_strided[size=[48, 15, 300], stride=[4500, 300, 1], storage_offset=0](%275), scope: RNN_ENCODER/Dropout[drop]\n  %280 : Long(48) = prim::Constant[value=<Tensor>](), scope: RNN_ENCODER\n  %332 : Float(509, 300), %333 : Long(15), %334 : Handle = ^PackPadded(True)(%278, %280), scope: RNN_ENCODER\n  %281 : Float(15!, 48!, 300) = aten::transpose[dim0=0, dim1=1](%278), scope: RNN_ENCODER\n  %283 : Long() = aten::select[dim=0, index=47](%280), scope: RNN_ENCODER\n  %282 : Long() = aten::as_strided[size=[], stride=[], storage_offset=47](%280), scope: RNN_ENCODER\n  %284 : Byte() = aten::le[other={0}](%283), scope: RNN_ENCODER\n  %286 : Float(8!, 48!, 300) = aten::slice[dim=0, start=0, end=8, step=1](%281), scope: RNN_ENCODER\n  %285 : Float(8!, 48!, 300) = aten::as_strided[size=[8, 48, 300], stride=[300, 4500, 1], storage_offset=0](%281), scope: RNN_ENCODER\n  %287 : Float(8, 48, 300) = aten::clone(%286), scope: RNN_ENCODER\n  %288 : Float(384, 300) = aten::view[size=[-1, 300]](%287), scope: RNN_ENCODER\n  %290 : Float(1!, 48!, 300) = aten::slice[dim=0, start=8, end=9, step=1](%281), scope: RNN_ENCODER\n  %289 : Float(1!, 48!, 300) = aten::as_strided[size=[1, 48, 300], stride=[300, 4500, 1], storage_offset=2400](%281), scope: RNN_ENCODER\n  %292 : Float(1!, 40!, 300) = aten::slice[dim=1, start=0, end=40, step=1](%290), scope: RNN_ENCODER\n  %291 : Float(1!, 40!, 300) = aten::as_strided[size=[1, 40, 300], stride=[300, 4500, 1], storage_offset=2400](%290), scope: RNN_ENCODER\n  %293 : Float(1, 40, 300) = aten::clone(%292), scope: RNN_ENCODER\n  %294 : Float(40, 300) = aten::view[size=[-1, 300]](%293), scope: RNN_ENCODER\n  %296 : Float(1!, 48!, 300) = aten::slice[dim=0, start=9, end=10, step=1](%281), scope: RNN_ENCODER\n  %295 : Float(1!, 48!, 300) = aten::as_strided[size=[1, 48, 300], stride=[300, 4500, 1], storage_offset=2700](%281), scope: RNN_ENCODER\n  %298 : Float(1!, 30!, 300) = aten::slice[dim=1, start=0, end=30, step=1](%296), scope: RNN_ENCODER\n  %297 : Float(1!, 30!, 300) = aten::as_strided[size=[1, 30, 300], stride=[300, 4500, 1], storage_offset=2700](%296), scope: RNN_ENCODER\n  %299 : Float(1, 30, 300) = aten::clone(%298), scope: RNN_ENCODER\n  %300 : Float(30, 300) = aten::view[size=[-1, 300]](%299), scope: RNN_ENCODER\n  %302 : Float(1!, 48!, 300) = aten::slice[dim=0, start=10, end=11, step=1](%281), scope: RNN_ENCODER\n  %301 : Float(1!, 48!, 300) = aten::as_strided[size=[1, 48, 300], stride=[300, 4500, 1], storage_offset=3000](%281), scope: RNN_ENCODER\n  %304 : Float(1!, 19!, 300) = aten::slice[dim=1, start=0, end=19, step=1](%302), scope: RNN_ENCODER\n  %303 : Float(1!, 19!, 300) = aten::as_strided[size=[1, 19, 300], stride=[300, 4500, 1], storage_offset=3000](%302), scope: RNN_ENCODER\n  %305 : Float(1, 19, 300) = aten::clone(%304), scope: RNN_ENCODER\n  %306 : Float(19, 300) = aten::view[size=[-1, 300]](%305), scope: RNN_ENCODER\n  %308 : Float(1!, 48!, 300) = aten::slice[dim=0, start=11, end=12, step=1](%281), scope: RNN_ENCODER\n  %307 : Float(1!, 48!, 300) = aten::as_strided[size=[1, 48, 300], stride=[300, 4500, 1], storage_offset=3300](%281), scope: RNN_ENCODER\n  %310 : Float(1!, 15!, 300) = aten::slice[dim=1, start=0, end=15, step=1](%308), scope: RNN_ENCODER\n  %309 : Float(1!, 15!, 300) = aten::as_strided[size=[1, 15, 300], stride=[300, 4500, 1], storage_offset=3300](%308), scope: RNN_ENCODER\n  %311 : Float(1, 15, 300) = aten::clone(%310), scope: RNN_ENCODER\n  %312 : Float(15, 300) = aten::view[size=[-1, 300]](%311), scope: RNN_ENCODER\n  %314 : Float(1!, 48!, 300) = aten::slice[dim=0, start=12, end=13, step=1](%281), scope: RNN_ENCODER\n  %313 : Float(1!, 48!, 300) = aten::as_strided[size=[1, 48, 300], stride=[300, 4500, 1], storage_offset=3600](%281), scope: RNN_ENCODER\n  %316 : Float(1!, 11!, 300) = aten::slice[dim=1, start=0, end=11, step=1](%314), scope: RNN_ENCODER\n  %315 : Float(1!, 11!, 300) = aten::as_strided[size=[1, 11, 300], stride=[300, 4500, 1], storage_offset=3600](%314), scope: RNN_ENCODER\n  %317 : Float(1, 11, 300) = aten::clone(%316), scope: RNN_ENCODER\n  %318 : Float(11, 300) = aten::view[size=[-1, 300]](%317), scope: RNN_ENCODER\n  %320 : Float(1!, 48!, 300) = aten::slice[dim=0, start=13, end=14, step=1](%281), scope: RNN_ENCODER\n  %319 : Float(1!, 48!, 300) = aten::as_strided[size=[1, 48, 300], stride=[300, 4500, 1], storage_offset=3900](%281), scope: RNN_ENCODER\n  %322 : Float(1!, 7!, 300) = aten::slice[dim=1, start=0, end=7, step=1](%320), scope: RNN_ENCODER\n  %321 : Float(1!, 7!, 300) = aten::as_strided[size=[1, 7, 300], stride=[300, 4500, 1], storage_offset=3900](%320), scope: RNN_ENCODER\n  %323 : Float(1, 7, 300) = aten::clone(%322), scope: RNN_ENCODER\n  %324 : Float(7, 300) = aten::view[size=[-1, 300]](%323), scope: RNN_ENCODER\n  %326 : Float(1!, 48!, 300) = aten::slice[dim=0, start=14, end=15, step=1](%281), scope: RNN_ENCODER\n  %325 : Float(1!, 48!, 300) = aten::as_strided[size=[1, 48, 300], stride=[300, 4500, 1], storage_offset=4200](%281), scope: RNN_ENCODER\n  %328 : Float(1!, 3!, 300) = aten::slice[dim=1, start=0, end=3, step=1](%326), scope: RNN_ENCODER\n  %327 : Float(1!, 3!, 300) = aten::as_strided[size=[1, 3, 300], stride=[300, 4500, 1], storage_offset=4200](%326), scope: RNN_ENCODER\n  %329 : Float(1, 3, 300) = aten::clone(%328), scope: RNN_ENCODER\n  %330 : Float(3, 300) = aten::view[size=[-1, 300]](%329), scope: RNN_ENCODER\n  %331 : Float(509, 300) = aten::cat[dim=0](%288, %294, %300, %306, %312, %318, %324, %330), scope: RNN_ENCODER\n  %335 : Long(48, 15) = prim::Constant[value=<Tensor>](), scope: RNN_ENCODER\n  %336 : Float(48, 15, 300) = aten::embedding[padding_idx=-1, scale_grad_by_freq=0, sparse=0](%4, %335), scope: RNN_ENCODER\n  %339 : Float(48, 15, 300), %340 : Handle = ^Dropout(0.5, False, False)(%336), scope: RNN_ENCODER/Dropout[drop]\n  %338 : Float(48, 15, 300) = aten::slice[dim=0, start=0, end=9223372036854775807, step=1](%336), scope: RNN_ENCODER/Dropout[drop]\n  %337 : Float(48, 15, 300) = aten::as_strided[size=[48, 15, 300], stride=[4500, 300, 1], storage_offset=0](%336), scope: RNN_ENCODER/Dropout[drop]\n  %341 : Long(48) = prim::Constant[value=<Tensor>](), scope: RNN_ENCODER\n  %393 : Float(509, 300), %394 : Long(15), %395 : Handle = ^PackPadded(True)(%339, %341), scope: RNN_ENCODER\n  %342 : Float(15!, 48!, 300) = aten::transpose[dim0=0, dim1=1](%339), scope: RNN_ENCODER\n  %344 : Long() = aten::select[dim=0, index=47](%341), scope: RNN_ENCODER\n  %343 : Long() = aten::as_strided[size=[], stride=[], storage_offset=47](%341), scope: RNN_ENCODER\n  %345 : Byte() = aten::le[other={0}](%344), scope: RNN_ENCODER\n  %347 : Float(8!, 48!, 300) = aten::slice[dim=0, start=0, end=8, step=1](%342), scope: RNN_ENCODER\n  %346 : Float(8!, 48!, 300) = aten::as_strided[size=[8, 48, 300], stride=[300, 4500, 1], storage_offset=0](%342), scope: RNN_ENCODER\n  %348 : Float(8, 48, 300) = aten::clone(%347), scope: RNN_ENCODER\n  %349 : Float(384, 300) = aten::view[size=[-1, 300]](%348), scope: RNN_ENCODER\n  %351 : Float(1!, 48!, 300) = aten::slice[dim=0, start=8, end=9, step=1](%342), scope: RNN_ENCODER\n  %350 : Float(1!, 48!, 300) = aten::as_strided[size=[1, 48, 300], stride=[300, 4500, 1], storage_offset=2400](%342), scope: RNN_ENCODER\n  %353 : Float(1!, 40!, 300) = aten::slice[dim=1, start=0, end=40, step=1](%351), scope: RNN_ENCODER\n  %352 : Float(1!, 40!, 300) = aten::as_strided[size=[1, 40, 300], stride=[300, 4500, 1], storage_offset=2400](%351), scope: RNN_ENCODER\n  %354 : Float(1, 40, 300) = aten::clone(%353), scope: RNN_ENCODER\n  %355 : Float(40, 300) = aten::view[size=[-1, 300]](%354), scope: RNN_ENCODER\n  %357 : Float(1!, 48!, 300) = aten::slice[dim=0, start=9, end=10, step=1](%342), scope: RNN_ENCODER\n  %356 : Float(1!, 48!, 300) = aten::as_strided[size=[1, 48, 300], stride=[300, 4500, 1], storage_offset=2700](%342), scope: RNN_ENCODER\n  %359 : Float(1!, 30!, 300) = aten::slice[dim=1, start=0, end=30, step=1](%357), scope: RNN_ENCODER\n  %358 : Float(1!, 30!, 300) = aten::as_strided[size=[1, 30, 300], stride=[300, 4500, 1], storage_offset=2700](%357), scope: RNN_ENCODER\n  %360 : Float(1, 30, 300) = aten::clone(%359), scope: RNN_ENCODER\n  %361 : Float(30, 300) = aten::view[size=[-1, 300]](%360), scope: RNN_ENCODER\n  %363 : Float(1!, 48!, 300) = aten::slice[dim=0, start=10, end=11, step=1](%342), scope: RNN_ENCODER\n  %362 : Float(1!, 48!, 300) = aten::as_strided[size=[1, 48, 300], stride=[300, 4500, 1], storage_offset=3000](%342), scope: RNN_ENCODER\n  %365 : Float(1!, 19!, 300) = aten::slice[dim=1, start=0, end=19, step=1](%363), scope: RNN_ENCODER\n  %364 : Float(1!, 19!, 300) = aten::as_strided[size=[1, 19, 300], stride=[300, 4500, 1], storage_offset=3000](%363), scope: RNN_ENCODER\n  %366 : Float(1, 19, 300) = aten::clone(%365), scope: RNN_ENCODER\n  %367 : Float(19, 300) = aten::view[size=[-1, 300]](%366), scope: RNN_ENCODER\n  %369 : Float(1!, 48!, 300) = aten::slice[dim=0, start=11, end=12, step=1](%342), scope: RNN_ENCODER\n  %368 : Float(1!, 48!, 300) = aten::as_strided[size=[1, 48, 300], stride=[300, 4500, 1], storage_offset=3300](%342), scope: RNN_ENCODER\n  %371 : Float(1!, 15!, 300) = aten::slice[dim=1, start=0, end=15, step=1](%369), scope: RNN_ENCODER\n  %370 : Float(1!, 15!, 300) = aten::as_strided[size=[1, 15, 300], stride=[300, 4500, 1], storage_offset=3300](%369), scope: RNN_ENCODER\n  %372 : Float(1, 15, 300) = aten::clone(%371), scope: RNN_ENCODER\n  %373 : Float(15, 300) = aten::view[size=[-1, 300]](%372), scope: RNN_ENCODER\n  %375 : Float(1!, 48!, 300) = aten::slice[dim=0, start=12, end=13, step=1](%342), scope: RNN_ENCODER\n  %374 : Float(1!, 48!, 300) = aten::as_strided[size=[1, 48, 300], stride=[300, 4500, 1], storage_offset=3600](%342), scope: RNN_ENCODER\n  %377 : Float(1!, 11!, 300) = aten::slice[dim=1, start=0, end=11, step=1](%375), scope: RNN_ENCODER\n  %376 : Float(1!, 11!, 300) = aten::as_strided[size=[1, 11, 300], stride=[300, 4500, 1], storage_offset=3600](%375), scope: RNN_ENCODER\n  %378 : Float(1, 11, 300) = aten::clone(%377), scope: RNN_ENCODER\n  %379 : Float(11, 300) = aten::view[size=[-1, 300]](%378), scope: RNN_ENCODER\n  %381 : Float(1!, 48!, 300) = aten::slice[dim=0, start=13, end=14, step=1](%342), scope: RNN_ENCODER\n  %380 : Float(1!, 48!, 300) = aten::as_strided[size=[1, 48, 300], stride=[300, 4500, 1], storage_offset=3900](%342), scope: RNN_ENCODER\n  %383 : Float(1!, 7!, 300) = aten::slice[dim=1, start=0, end=7, step=1](%381), scope: RNN_ENCODER\n  %382 : Float(1!, 7!, 300) = aten::as_strided[size=[1, 7, 300], stride=[300, 4500, 1], storage_offset=3900](%381), scope: RNN_ENCODER\n  %384 : Float(1, 7, 300) = aten::clone(%383), scope: RNN_ENCODER\n  %385 : Float(7, 300) = aten::view[size=[-1, 300]](%384), scope: RNN_ENCODER\n  %387 : Float(1!, 48!, 300) = aten::slice[dim=0, start=14, end=15, step=1](%342), scope: RNN_ENCODER\n  %386 : Float(1!, 48!, 300) = aten::as_strided[size=[1, 48, 300], stride=[300, 4500, 1], storage_offset=4200](%342), scope: RNN_ENCODER\n  %389 : Float(1!, 3!, 300) = aten::slice[dim=1, start=0, end=3, step=1](%387), scope: RNN_ENCODER\n  %388 : Float(1!, 3!, 300) = aten::as_strided[size=[1, 3, 300], stride=[300, 4500, 1], storage_offset=4200](%387), scope: RNN_ENCODER\n  %390 : Float(1, 3, 300) = aten::clone(%389), scope: RNN_ENCODER\n  %391 : Float(3, 300) = aten::view[size=[-1, 300]](%390), scope: RNN_ENCODER\n  %392 : Float(509, 300) = aten::cat[dim=0](%349, %355, %361, %367, %373, %379, %385, %391), scope: RNN_ENCODER\n  %396 : Long(48, 15) = prim::Constant[value=<Tensor>](), scope: RNN_ENCODER\n  %397 : Float(48, 15, 300) = aten::embedding[padding_idx=-1, scale_grad_by_freq=0, sparse=0](%4, %396), scope: RNN_ENCODER\n  %400 : Float(48, 15, 300), %401 : Handle = ^Dropout(0.5, False, False)(%397), scope: RNN_ENCODER/Dropout[drop]\n  %399 : Float(48, 15, 300) = aten::slice[dim=0, start=0, end=9223372036854775807, step=1](%397), scope: RNN_ENCODER/Dropout[drop]\n  %398 : Float(48, 15, 300) = aten::as_strided[size=[48, 15, 300], stride=[4500, 300, 1], storage_offset=0](%397), scope: RNN_ENCODER/Dropout[drop]\n  %402 : Long(48) = prim::Constant[value=<Tensor>](), scope: RNN_ENCODER\n  %454 : Float(509, 300), %455 : Long(15), %456 : Handle = ^PackPadded(True)(%400, %402), scope: RNN_ENCODER\n  %403 : Float(15!, 48!, 300) = aten::transpose[dim0=0, dim1=1](%400), scope: RNN_ENCODER\n  %405 : Long() = aten::select[dim=0, index=47](%402), scope: RNN_ENCODER\n  %404 : Long() = aten::as_strided[size=[], stride=[], storage_offset=47](%402), scope: RNN_ENCODER\n  %406 : Byte() = aten::le[other={0}](%405), scope: RNN_ENCODER\n  %408 : Float(8!, 48!, 300) = aten::slice[dim=0, start=0, end=8, step=1](%403), scope: RNN_ENCODER\n  %407 : Float(8!, 48!, 300) = aten::as_strided[size=[8, 48, 300], stride=[300, 4500, 1], storage_offset=0](%403), scope: RNN_ENCODER\n  %409 : Float(8, 48, 300) = aten::clone(%408), scope: RNN_ENCODER\n  %410 : Float(384, 300) = aten::view[size=[-1, 300]](%409), scope: RNN_ENCODER\n  %412 : Float(1!, 48!, 300) = aten::slice[dim=0, start=8, end=9, step=1](%403), scope: RNN_ENCODER\n  %411 : Float(1!, 48!, 300) = aten::as_strided[size=[1, 48, 300], stride=[300, 4500, 1], storage_offset=2400](%403), scope: RNN_ENCODER\n  %414 : Float(1!, 40!, 300) = aten::slice[dim=1, start=0, end=40, step=1](%412), scope: RNN_ENCODER\n  %413 : Float(1!, 40!, 300) = aten::as_strided[size=[1, 40, 300], stride=[300, 4500, 1], storage_offset=2400](%412), scope: RNN_ENCODER\n  %415 : Float(1, 40, 300) = aten::clone(%414), scope: RNN_ENCODER\n  %416 : Float(40, 300) = aten::view[size=[-1, 300]](%415), scope: RNN_ENCODER\n  %418 : Float(1!, 48!, 300) = aten::slice[dim=0, start=9, end=10, step=1](%403), scope: RNN_ENCODER\n  %417 : Float(1!, 48!, 300) = aten::as_strided[size=[1, 48, 300], stride=[300, 4500, 1], storage_offset=2700](%403), scope: RNN_ENCODER\n  %420 : Float(1!, 30!, 300) = aten::slice[dim=1, start=0, end=30, step=1](%418), scope: RNN_ENCODER\n  %419 : Float(1!, 30!, 300) = aten::as_strided[size=[1, 30, 300], stride=[300, 4500, 1], storage_offset=2700](%418), scope: RNN_ENCODER\n  %421 : Float(1, 30, 300) = aten::clone(%420), scope: RNN_ENCODER\n  %422 : Float(30, 300) = aten::view[size=[-1, 300]](%421), scope: RNN_ENCODER\n  %424 : Float(1!, 48!, 300) = aten::slice[dim=0, start=10, end=11, step=1](%403), scope: RNN_ENCODER\n  %423 : Float(1!, 48!, 300) = aten::as_strided[size=[1, 48, 300], stride=[300, 4500, 1], storage_offset=3000](%403), scope: RNN_ENCODER\n  %426 : Float(1!, 19!, 300) = aten::slice[dim=1, start=0, end=19, step=1](%424), scope: RNN_ENCODER\n  %425 : Float(1!, 19!, 300) = aten::as_strided[size=[1, 19, 300], stride=[300, 4500, 1], storage_offset=3000](%424), scope: RNN_ENCODER\n  %427 : Float(1, 19, 300) = aten::clone(%426), scope: RNN_ENCODER\n  %428 : Float(19, 300) = aten::view[size=[-1, 300]](%427), scope: RNN_ENCODER\n  %430 : Float(1!, 48!, 300) = aten::slice[dim=0, start=11, end=12, step=1](%403), scope: RNN_ENCODER\n  %429 : Float(1!, 48!, 300) = aten::as_strided[size=[1, 48, 300], stride=[300, 4500, 1], storage_offset=3300](%403), scope: RNN_ENCODER\n  %432 : Float(1!, 15!, 300) = aten::slice[dim=1, start=0, end=15, step=1](%430), scope: RNN_ENCODER\n  %431 : Float(1!, 15!, 300) = aten::as_strided[size=[1, 15, 300], stride=[300, 4500, 1], storage_offset=3300](%430), scope: RNN_ENCODER\n  %433 : Float(1, 15, 300) = aten::clone(%432), scope: RNN_ENCODER\n  %434 : Float(15, 300) = aten::view[size=[-1, 300]](%433), scope: RNN_ENCODER\n  %436 : Float(1!, 48!, 300) = aten::slice[dim=0, start=12, end=13, step=1](%403), scope: RNN_ENCODER\n  %435 : Float(1!, 48!, 300) = aten::as_strided[size=[1, 48, 300], stride=[300, 4500, 1], storage_offset=3600](%403), scope: RNN_ENCODER\n  %438 : Float(1!, 11!, 300) = aten::slice[dim=1, start=0, end=11, step=1](%436), scope: RNN_ENCODER\n  %437 : Float(1!, 11!, 300) = aten::as_strided[size=[1, 11, 300], stride=[300, 4500, 1], storage_offset=3600](%436), scope: RNN_ENCODER\n  %439 : Float(1, 11, 300) = aten::clone(%438), scope: RNN_ENCODER\n  %440 : Float(11, 300) = aten::view[size=[-1, 300]](%439), scope: RNN_ENCODER\n  %442 : Float(1!, 48!, 300) = aten::slice[dim=0, start=13, end=14, step=1](%403), scope: RNN_ENCODER\n  %441 : Float(1!, 48!, 300) = aten::as_strided[size=[1, 48, 300], stride=[300, 4500, 1], storage_offset=3900](%403), scope: RNN_ENCODER\n  %444 : Float(1!, 7!, 300) = aten::slice[dim=1, start=0, end=7, step=1](%442), scope: RNN_ENCODER\n  %443 : Float(1!, 7!, 300) = aten::as_strided[size=[1, 7, 300], stride=[300, 4500, 1], storage_offset=3900](%442), scope: RNN_ENCODER\n  %445 : Float(1, 7, 300) = aten::clone(%444), scope: RNN_ENCODER\n  %446 : Float(7, 300) = aten::view[size=[-1, 300]](%445), scope: RNN_ENCODER\n  %448 : Float(1!, 48!, 300) = aten::slice[dim=0, start=14, end=15, step=1](%403), scope: RNN_ENCODER\n  %447 : Float(1!, 48!, 300) = aten::as_strided[size=[1, 48, 300], stride=[300, 4500, 1], storage_offset=4200](%403), scope: RNN_ENCODER\n  %450 : Float(1!, 3!, 300) = aten::slice[dim=1, start=0, end=3, step=1](%448), scope: RNN_ENCODER\n  %449 : Float(1!, 3!, 300) = aten::as_strided[size=[1, 3, 300], stride=[300, 4500, 1], storage_offset=4200](%448), scope: RNN_ENCODER\n  %451 : Float(1, 3, 300) = aten::clone(%450), scope: RNN_ENCODER\n  %452 : Float(3, 300) = aten::view[size=[-1, 300]](%451), scope: RNN_ENCODER\n  %453 : Float(509, 300) = aten::cat[dim=0](%410, %416, %422, %428, %434, %440, %446, %452), scope: RNN_ENCODER\n  %458 : Long() = aten::select[dim=0, index=0](%1)\n  %457 : Long() = aten::as_strided[size=[], stride=[], storage_offset=0](%1)\n  %460 : Long() = aten::select[dim=0, index=1](%1)\n  %459 : Long() = aten::as_strided[size=[], stride=[], storage_offset=1](%1)\n  %462 : Long() = aten::select[dim=0, index=2](%1)\n  %461 : Long() = aten::as_strided[size=[], stride=[], storage_offset=2](%1)\n  %464 : Long() = aten::select[dim=0, index=3](%1)\n  %463 : Long() = aten::as_strided[size=[], stride=[], storage_offset=3](%1)\n  %466 : Long() = aten::select[dim=0, index=4](%1)\n  %465 : Long() = aten::as_strided[size=[], stride=[], storage_offset=4](%1)\n  %468 : Long() = aten::select[dim=0, index=5](%1)\n  %467 : Long() = aten::as_strided[size=[], stride=[], storage_offset=5](%1)\n  %470 : Long() = aten::select[dim=0, index=6](%1)\n  %469 : Long() = aten::as_strided[size=[], stride=[], storage_offset=6](%1)\n  %472 : Long() = aten::select[dim=0, index=7](%1)\n  %471 : Long() = aten::as_strided[size=[], stride=[], storage_offset=7](%1)\n  %474 : Long() = aten::select[dim=0, index=8](%1)\n  %473 : Long() = aten::as_strided[size=[], stride=[], storage_offset=8](%1)\n  %476 : Long() = aten::select[dim=0, index=9](%1)\n  %475 : Long() = aten::as_strided[size=[], stride=[], storage_offset=9](%1)\n  %478 : Long() = aten::select[dim=0, index=10](%1)\n  %477 : Long() = aten::as_strided[size=[], stride=[], storage_offset=10](%1)\n  %480 : Long() = aten::select[dim=0, index=11](%1)\n  %479 : Long() = aten::as_strided[size=[], stride=[], storage_offset=11](%1)\n  %482 : Long() = aten::select[dim=0, index=12](%1)\n  %481 : Long() = aten::as_strided[size=[], stride=[], storage_offset=12](%1)\n  %484 : Long() = aten::select[dim=0, index=13](%1)\n  %483 : Long() = aten::as_strided[size=[], stride=[], storage_offset=13](%1)\n  %486 : Long() = aten::select[dim=0, index=14](%1)\n  %485 : Long() = aten::as_strided[size=[], stride=[], storage_offset=14](%1)\n  %488 : Long() = aten::select[dim=0, index=15](%1)\n  %487 : Long() = aten::as_strided[size=[], stride=[], storage_offset=15](%1)\n  %490 : Long() = aten::select[dim=0, index=16](%1)\n  %489 : Long() = aten::as_strided[size=[], stride=[], storage_offset=16](%1)\n  %492 : Long() = aten::select[dim=0, index=17](%1)\n  %491 : Long() = aten::as_strided[size=[], stride=[], storage_offset=17](%1)\n  %494 : Long() = aten::select[dim=0, index=18](%1)\n  %493 : Long() = aten::as_strided[size=[], stride=[], storage_offset=18](%1)\n  %496 : Long() = aten::select[dim=0, index=19](%1)\n  %495 : Long() = aten::as_strided[size=[], stride=[], storage_offset=19](%1)\n  %498 : Long() = aten::select[dim=0, index=20](%1)\n  %497 : Long() = aten::as_strided[size=[], stride=[], storage_offset=20](%1)\n  %500 : Long() = aten::select[dim=0, index=21](%1)\n  %499 : Long() = aten::as_strided[size=[], stride=[], storage_offset=21](%1)\n  %502 : Long() = aten::select[dim=0, index=22](%1)\n  %501 : Long() = aten::as_strided[size=[], stride=[], storage_offset=22](%1)\n  %504 : Long() = aten::select[dim=0, index=23](%1)\n  %503 : Long() = aten::as_strided[size=[], stride=[], storage_offset=23](%1)\n  %506 : Long() = aten::select[dim=0, index=24](%1)\n  %505 : Long() = aten::as_strided[size=[], stride=[], storage_offset=24](%1)\n  %508 : Long() = aten::select[dim=0, index=25](%1)\n  %507 : Long() = aten::as_strided[size=[], stride=[], storage_offset=25](%1)\n  %510 : Long() = aten::select[dim=0, index=26](%1)\n  %509 : Long() = aten::as_strided[size=[], stride=[], storage_offset=26](%1)\n  %512 : Long() = aten::select[dim=0, index=27](%1)\n  %511 : Long() = aten::as_strided[size=[], stride=[], storage_offset=27](%1)\n  %514 : Long() = aten::select[dim=0, index=28](%1)\n  %513 : Long() = aten::as_strided[size=[], stride=[], storage_offset=28](%1)\n  %516 : Long() = aten::select[dim=0, index=29](%1)\n  %515 : Long() = aten::as_strided[size=[], stride=[], storage_offset=29](%1)\n  %518 : Long() = aten::select[dim=0, index=30](%1)\n  %517 : Long() = aten::as_strided[size=[], stride=[], storage_offset=30](%1)\n  %520 : Long() = aten::select[dim=0, index=31](%1)\n  %519 : Long() = aten::as_strided[size=[], stride=[], storage_offset=31](%1)\n  %522 : Long() = aten::select[dim=0, index=32](%1)\n  %521 : Long() = aten::as_strided[size=[], stride=[], storage_offset=32](%1)\n  %524 : Long() = aten::select[dim=0, index=33](%1)\n  %523 : Long() = aten::as_strided[size=[], stride=[], storage_offset=33](%1)\n  %526 : Long() = aten::select[dim=0, index=34](%1)\n  %525 : Long() = aten::as_strided[size=[], stride=[], storage_offset=34](%1)\n  %528 : Long() = aten::select[dim=0, index=35](%1)\n  %527 : Long() = aten::as_strided[size=[], stride=[], storage_offset=35](%1)\n  %530 : Long() = aten::select[dim=0, index=36](%1)\n  %529 : Long() = aten::as_strided[size=[], stride=[], storage_offset=36](%1)\n  %532 : Long() = aten::select[dim=0, index=37](%1)\n  %531 : Long() = aten::as_strided[size=[], stride=[], storage_offset=37](%1)\n  %534 : Long() = aten::select[dim=0, index=38](%1)\n  %533 : Long() = aten::as_strided[size=[], stride=[], storage_offset=38](%1)\n  %536 : Long() = aten::select[dim=0, index=39](%1)\n  %535 : Long() = aten::as_strided[size=[], stride=[], storage_offset=39](%1)\n  %538 : Long() = aten::select[dim=0, index=40](%1)\n  %537 : Long() = aten::as_strided[size=[], stride=[], storage_offset=40](%1)\n  %540 : Long() = aten::select[dim=0, index=41](%1)\n  %539 : Long() = aten::as_strided[size=[], stride=[], storage_offset=41](%1)\n  %542 : Long() = aten::select[dim=0, index=42](%1)\n  %541 : Long() = aten::as_strided[size=[], stride=[], storage_offset=42](%1)\n  %544 : Long() = aten::select[dim=0, index=43](%1)\n  %543 : Long() = aten::as_strided[size=[], stride=[], storage_offset=43](%1)\n  %546 : Long() = aten::select[dim=0, index=44](%1)\n  %545 : Long() = aten::as_strided[size=[], stride=[], storage_offset=44](%1)\n  %548 : Long() = aten::select[dim=0, index=45](%1)\n  %547 : Long() = aten::as_strided[size=[], stride=[], storage_offset=45](%1)\n  %550 : Long() = aten::select[dim=0, index=46](%1)\n  %549 : Long() = aten::as_strided[size=[], stride=[], storage_offset=46](%1)\n  %552 : Long() = aten::select[dim=0, index=47](%1)\n  %551 : Long() = aten::as_strided[size=[], stride=[], storage_offset=47](%1)\n  %553 : Long(48, 15) = prim::Constant[value=<Tensor>]()\n  %554 : Float(48, 15, 300) = aten::embedding[padding_idx=-1, scale_grad_by_freq=0, sparse=0](%4, %553)\n  %557 : Float(48, 15, 300), %558 : Handle = ^Dropout(0.5, False, False)(%554), scope: Dropout\n  %556 : Float(48, 15, 300) = aten::slice[dim=0, start=0, end=9223372036854775807, step=1](%554), scope: Dropout\n  %555 : Float(48, 15, 300) = aten::as_strided[size=[48, 15, 300], stride=[4500, 300, 1], storage_offset=0](%554), scope: Dropout\n  %559 : Long(48) = prim::Constant[value=<Tensor>]()\n   = ^PackPadded(True)(%557, %559)\n  %560 : Float(15!, 48!, 300) = aten::transpose[dim0=0, dim1=1](%557)\n  %562 : Long() = aten::select[dim=0, index=47](%559)\n  %561 : Long() = aten::as_strided[size=[], stride=[], storage_offset=47](%559)\n  %563 : Byte() = aten::le[other={0}](%562)\n  %565 : Float(8!, 48!, 300) = aten::slice[dim=0, start=0, end=8, step=1](%560)\n  %564 : Float(8!, 48!, 300) = aten::as_strided[size=[8, 48, 300], stride=[300, 4500, 1], storage_offset=0](%560)\n  %566 : Float(8, 48, 300) = aten::clone(%565)\n  %567 : Float(384, 300) = aten::view[size=[-1, 300]](%566)\n  %568 : Long(48, 15) = prim::Constant[value=<Tensor>]()\n  %569 : Float(48, 15, 300) = aten::embedding[padding_idx=-1, scale_grad_by_freq=0, sparse=0](%4, %568)\n  %572 : Float(48, 15, 300), %573 : Handle = ^Dropout(0.5, False, False)(%569), scope: Dropout\n  %571 : Float(48, 15, 300) = aten::slice[dim=0, start=0, end=9223372036854775807, step=1](%569), scope: Dropout\n  %570 : Float(48, 15, 300) = aten::as_strided[size=[48, 15, 300], stride=[4500, 300, 1], storage_offset=0](%569), scope: Dropout\n  %574 : Long(48) = prim::Constant[value=<Tensor>]()\n   = ^PackPadded(True)(%572, %574)\n  %575 : Float(15!, 48!, 300) = aten::transpose[dim0=0, dim1=1](%572)\n  %577 : Long() = aten::select[dim=0, index=47](%574)\n  %576 : Long() = aten::as_strided[size=[], stride=[], storage_offset=47](%574)\n  %578 : Byte() = aten::le[other={0}](%577)\n  %580 : Float(1!, 48!, 300) = aten::slice[dim=0, start=0, end=1, step=1](%575)\n  %579 : Float(1!, 48!, 300) = aten::as_strided[size=[1, 48, 300], stride=[300, 4500, 1], storage_offset=0](%575)\n  %581 : Float(1, 48, 300) = aten::clone(%580)\n  %582 : Float(48, 300) = aten::view[size=[-1, 300]](%581)\n  %584 : Float(12!, 48!, 300) = aten::slice[dim=0, start=1, end=13, step=1](%575)\n  %583 : Float(12!, 48!, 300) = aten::as_strided[size=[12, 48, 300], stride=[300, 4500, 1], storage_offset=300](%575)\n  %586 : Float(12!, 47!, 300) = aten::slice[dim=1, start=0, end=47, step=1](%584)\n  %585 : Float(12!, 47!, 300) = aten::as_strided[size=[12, 47, 300], stride=[300, 4500, 1], storage_offset=300](%584)\n  %587 : Float(12, 47, 300) = aten::clone(%586)\n  %588 : Float(564, 300) = aten::view[size=[-1, 300]](%587)\n  %589 : Long(48, 15) = prim::Constant[value=<Tensor>](), scope: RNN_ENCODER\n  %590 : Float(48, 15, 300) = aten::embedding[padding_idx=-1, scale_grad_by_freq=0, sparse=0](%4, %589), scope: RNN_ENCODER\n  %593 : Float(48, 15, 300), %594 : Handle = ^Dropout(0.5, False, False)(%590), scope: RNN_ENCODER/Dropout[drop]\n  %592 : Float(48, 15, 300) = aten::slice[dim=0, start=0, end=9223372036854775807, step=1](%590), scope: RNN_ENCODER/Dropout[drop]\n  %591 : Float(48, 15, 300) = aten::as_strided[size=[48, 15, 300], stride=[4500, 300, 1], storage_offset=0](%590), scope: RNN_ENCODER/Dropout[drop]\n  %595 : Long(48) = prim::Constant[value=<Tensor>](), scope: RNN_ENCODER\n  %647 : Float(509, 300), %648 : Long(15), %649 : Handle = ^PackPadded(True)(%593, %595), scope: RNN_ENCODER\n  %596 : Float(15!, 48!, 300) = aten::transpose[dim0=0, dim1=1](%593), scope: RNN_ENCODER\n  %598 : Long() = aten::select[dim=0, index=47](%595), scope: RNN_ENCODER\n  %597 : Long() = aten::as_strided[size=[], stride=[], storage_offset=47](%595), scope: RNN_ENCODER\n  %599 : Byte() = aten::le[other={0}](%598), scope: RNN_ENCODER\n  %601 : Float(8!, 48!, 300) = aten::slice[dim=0, start=0, end=8, step=1](%596), scope: RNN_ENCODER\n  %600 : Float(8!, 48!, 300) = aten::as_strided[size=[8, 48, 300], stride=[300, 4500, 1], storage_offset=0](%596), scope: RNN_ENCODER\n  %602 : Float(8, 48, 300) = aten::clone(%601), scope: RNN_ENCODER\n  %603 : Float(384, 300) = aten::view[size=[-1, 300]](%602), scope: RNN_ENCODER\n  %605 : Float(1!, 48!, 300) = aten::slice[dim=0, start=8, end=9, step=1](%596), scope: RNN_ENCODER\n  %604 : Float(1!, 48!, 300) = aten::as_strided[size=[1, 48, 300], stride=[300, 4500, 1], storage_offset=2400](%596), scope: RNN_ENCODER\n  %607 : Float(1!, 40!, 300) = aten::slice[dim=1, start=0, end=40, step=1](%605), scope: RNN_ENCODER\n  %606 : Float(1!, 40!, 300) = aten::as_strided[size=[1, 40, 300], stride=[300, 4500, 1], storage_offset=2400](%605), scope: RNN_ENCODER\n  %608 : Float(1, 40, 300) = aten::clone(%607), scope: RNN_ENCODER\n  %609 : Float(40, 300) = aten::view[size=[-1, 300]](%608), scope: RNN_ENCODER\n  %611 : Float(1!, 48!, 300) = aten::slice[dim=0, start=9, end=10, step=1](%596), scope: RNN_ENCODER\n  %610 : Float(1!, 48!, 300) = aten::as_strided[size=[1, 48, 300], stride=[300, 4500, 1], storage_offset=2700](%596), scope: RNN_ENCODER\n  %613 : Float(1!, 30!, 300) = aten::slice[dim=1, start=0, end=30, step=1](%611), scope: RNN_ENCODER\n  %612 : Float(1!, 30!, 300) = aten::as_strided[size=[1, 30, 300], stride=[300, 4500, 1], storage_offset=2700](%611), scope: RNN_ENCODER\n  %614 : Float(1, 30, 300) = aten::clone(%613), scope: RNN_ENCODER\n  %615 : Float(30, 300) = aten::view[size=[-1, 300]](%614), scope: RNN_ENCODER\n  %617 : Float(1!, 48!, 300) = aten::slice[dim=0, start=10, end=11, step=1](%596), scope: RNN_ENCODER\n  %616 : Float(1!, 48!, 300) = aten::as_strided[size=[1, 48, 300], stride=[300, 4500, 1], storage_offset=3000](%596), scope: RNN_ENCODER\n  %619 : Float(1!, 19!, 300) = aten::slice[dim=1, start=0, end=19, step=1](%617), scope: RNN_ENCODER\n  %618 : Float(1!, 19!, 300) = aten::as_strided[size=[1, 19, 300], stride=[300, 4500, 1], storage_offset=3000](%617), scope: RNN_ENCODER\n  %620 : Float(1, 19, 300) = aten::clone(%619), scope: RNN_ENCODER\n  %621 : Float(19, 300) = aten::view[size=[-1, 300]](%620), scope: RNN_ENCODER\n  %623 : Float(1!, 48!, 300) = aten::slice[dim=0, start=11, end=12, step=1](%596), scope: RNN_ENCODER\n  %622 : Float(1!, 48!, 300) = aten::as_strided[size=[1, 48, 300], stride=[300, 4500, 1], storage_offset=3300](%596), scope: RNN_ENCODER\n  %625 : Float(1!, 15!, 300) = aten::slice[dim=1, start=0, end=15, step=1](%623), scope: RNN_ENCODER\n  %624 : Float(1!, 15!, 300) = aten::as_strided[size=[1, 15, 300], stride=[300, 4500, 1], storage_offset=3300](%623), scope: RNN_ENCODER\n  %626 : Float(1, 15, 300) = aten::clone(%625), scope: RNN_ENCODER\n  %627 : Float(15, 300) = aten::view[size=[-1, 300]](%626), scope: RNN_ENCODER\n  %629 : Float(1!, 48!, 300) = aten::slice[dim=0, start=12, end=13, step=1](%596), scope: RNN_ENCODER\n  %628 : Float(1!, 48!, 300) = aten::as_strided[size=[1, 48, 300], stride=[300, 4500, 1], storage_offset=3600](%596), scope: RNN_ENCODER\n  %631 : Float(1!, 11!, 300) = aten::slice[dim=1, start=0, end=11, step=1](%629), scope: RNN_ENCODER\n  %630 : Float(1!, 11!, 300) = aten::as_strided[size=[1, 11, 300], stride=[300, 4500, 1], storage_offset=3600](%629), scope: RNN_ENCODER\n  %632 : Float(1, 11, 300) = aten::clone(%631), scope: RNN_ENCODER\n  %633 : Float(11, 300) = aten::view[size=[-1, 300]](%632), scope: RNN_ENCODER\n  %635 : Float(1!, 48!, 300) = aten::slice[dim=0, start=13, end=14, step=1](%596), scope: RNN_ENCODER\n  %634 : Float(1!, 48!, 300) = aten::as_strided[size=[1, 48, 300], stride=[300, 4500, 1], storage_offset=3900](%596), scope: RNN_ENCODER\n  %637 : Float(1!, 7!, 300) = aten::slice[dim=1, start=0, end=7, step=1](%635), scope: RNN_ENCODER\n  %636 : Float(1!, 7!, 300) = aten::as_strided[size=[1, 7, 300], stride=[300, 4500, 1], storage_offset=3900](%635), scope: RNN_ENCODER\n  %638 : Float(1, 7, 300) = aten::clone(%637), scope: RNN_ENCODER\n  %639 : Float(7, 300) = aten::view[size=[-1, 300]](%638), scope: RNN_ENCODER\n  %641 : Float(1!, 48!, 300) = aten::slice[dim=0, start=14, end=15, step=1](%596), scope: RNN_ENCODER\n  %640 : Float(1!, 48!, 300) = aten::as_strided[size=[1, 48, 300], stride=[300, 4500, 1], storage_offset=4200](%596), scope: RNN_ENCODER\n  %643 : Float(1!, 3!, 300) = aten::slice[dim=1, start=0, end=3, step=1](%641), scope: RNN_ENCODER\n  %642 : Float(1!, 3!, 300) = aten::as_strided[size=[1, 3, 300], stride=[300, 4500, 1], storage_offset=4200](%641), scope: RNN_ENCODER\n  %644 : Float(1, 3, 300) = aten::clone(%643), scope: RNN_ENCODER\n  %645 : Float(3, 300) = aten::view[size=[-1, 300]](%644), scope: RNN_ENCODER\n  %646 : Float(509, 300) = aten::cat[dim=0](%603, %609, %615, %621, %627, %633, %639, %645), scope: RNN_ENCODER\n  return ();\n}\n, <function _symbolic_pack_padded_sequence.<locals>.pack_padded_sequence_trace_wrapper at 0x1c1a14f6a8>, [593 defined in (%593 : Float(48, 15, 300), %594 : Handle = ^Dropout(0.5, False, False)(%590), scope: RNN_ENCODER/Dropout[drop]\n), [15, 15, 15, 14, 14, 14, 14, 13, 13, 13, 13, 12, 12, 12, 12, 11, 11, 11, 11, 10, 10, 10, 10, 10, 10, 10, 10, 10, 10, 10, 9, 9, 9, 9, 9, 9, 9, 9, 9, 9, 8, 8, 8, 8, 8, 8, 8, 8]], 2, <function _symbolic_pack_padded_sequence.<locals>._onnx_symbolic_pack_padded_sequence at 0x1c1a142c80>",
     "output_type": "error",
     "traceback": [
      "\u001b[0;31m---------------------------------------------------------------------------\u001b[0m",
      "\u001b[0;31mTypeError\u001b[0m                                 Traceback (most recent call last)",
      "\u001b[0;32m<ipython-input-35-5d42ac5930e3>\u001b[0m in \u001b[0;36m<module>\u001b[0;34m()\u001b[0m\n\u001b[1;32m      4\u001b[0m \u001b[0mhidden_fake_input\u001b[0m \u001b[0;34m=\u001b[0m \u001b[0mtorch\u001b[0m\u001b[0;34m.\u001b[0m\u001b[0mrandint\u001b[0m\u001b[0;34m(\u001b[0m\u001b[0;36m1\u001b[0m\u001b[0;34m,\u001b[0m \u001b[0;36m10\u001b[0m\u001b[0;34m,\u001b[0m \u001b[0;34m(\u001b[0m\u001b[0;36m2\u001b[0m\u001b[0;34m,\u001b[0m \u001b[0;36m48\u001b[0m\u001b[0;34m,\u001b[0m \u001b[0;36m128\u001b[0m\u001b[0;34m)\u001b[0m\u001b[0;34m,\u001b[0m \u001b[0mdtype\u001b[0m\u001b[0;34m=\u001b[0m\u001b[0mtorch\u001b[0m\u001b[0;34m.\u001b[0m\u001b[0mlong\u001b[0m\u001b[0;34m)\u001b[0m\u001b[0;34m\u001b[0m\u001b[0m\n\u001b[1;32m      5\u001b[0m \u001b[0;34m\u001b[0m\u001b[0m\n\u001b[0;32m----> 6\u001b[0;31m \u001b[0mwords_emb\u001b[0m\u001b[0;34m,\u001b[0m \u001b[0msent_emb\u001b[0m \u001b[0;34m=\u001b[0m \u001b[0mtext_encoder\u001b[0m\u001b[0;34m(\u001b[0m\u001b[0mcaptions_fake_input\u001b[0m\u001b[0;34m,\u001b[0m \u001b[0mcap_lens\u001b[0m\u001b[0;34m,\u001b[0m \u001b[0mhidden_fake_input\u001b[0m\u001b[0;34m)\u001b[0m\u001b[0;34m\u001b[0m\u001b[0m\n\u001b[0m",
      "\u001b[0;32m~/anaconda/lib/python3.6/site-packages/torch/nn/modules/module.py\u001b[0m in \u001b[0;36m__call__\u001b[0;34m(self, *input, **kwargs)\u001b[0m\n\u001b[1;32m    487\u001b[0m             \u001b[0mhook\u001b[0m\u001b[0;34m(\u001b[0m\u001b[0mself\u001b[0m\u001b[0;34m,\u001b[0m \u001b[0minput\u001b[0m\u001b[0;34m)\u001b[0m\u001b[0;34m\u001b[0m\u001b[0m\n\u001b[1;32m    488\u001b[0m         \u001b[0;32mif\u001b[0m \u001b[0mtorch\u001b[0m\u001b[0;34m.\u001b[0m\u001b[0mjit\u001b[0m\u001b[0;34m.\u001b[0m\u001b[0m_tracing\u001b[0m\u001b[0;34m:\u001b[0m\u001b[0;34m\u001b[0m\u001b[0m\n\u001b[0;32m--> 489\u001b[0;31m             \u001b[0mresult\u001b[0m \u001b[0;34m=\u001b[0m \u001b[0mself\u001b[0m\u001b[0;34m.\u001b[0m\u001b[0m_slow_forward\u001b[0m\u001b[0;34m(\u001b[0m\u001b[0;34m*\u001b[0m\u001b[0minput\u001b[0m\u001b[0;34m,\u001b[0m \u001b[0;34m**\u001b[0m\u001b[0mkwargs\u001b[0m\u001b[0;34m)\u001b[0m\u001b[0;34m\u001b[0m\u001b[0m\n\u001b[0m\u001b[1;32m    490\u001b[0m         \u001b[0;32melse\u001b[0m\u001b[0;34m:\u001b[0m\u001b[0;34m\u001b[0m\u001b[0m\n\u001b[1;32m    491\u001b[0m             \u001b[0mresult\u001b[0m \u001b[0;34m=\u001b[0m \u001b[0mself\u001b[0m\u001b[0;34m.\u001b[0m\u001b[0mforward\u001b[0m\u001b[0;34m(\u001b[0m\u001b[0;34m*\u001b[0m\u001b[0minput\u001b[0m\u001b[0;34m,\u001b[0m \u001b[0;34m**\u001b[0m\u001b[0mkwargs\u001b[0m\u001b[0;34m)\u001b[0m\u001b[0;34m\u001b[0m\u001b[0m\n",
      "\u001b[0;32m~/anaconda/lib/python3.6/site-packages/torch/nn/modules/module.py\u001b[0m in \u001b[0;36m_slow_forward\u001b[0;34m(self, *input, **kwargs)\u001b[0m\n\u001b[1;32m    477\u001b[0m         \u001b[0mtracing_state\u001b[0m\u001b[0;34m.\u001b[0m\u001b[0m_traced_module_stack\u001b[0m\u001b[0;34m.\u001b[0m\u001b[0mappend\u001b[0m\u001b[0;34m(\u001b[0m\u001b[0mself\u001b[0m\u001b[0;34m)\u001b[0m\u001b[0;34m\u001b[0m\u001b[0m\n\u001b[1;32m    478\u001b[0m         \u001b[0;32mtry\u001b[0m\u001b[0;34m:\u001b[0m\u001b[0;34m\u001b[0m\u001b[0m\n\u001b[0;32m--> 479\u001b[0;31m             \u001b[0mresult\u001b[0m \u001b[0;34m=\u001b[0m \u001b[0mself\u001b[0m\u001b[0;34m.\u001b[0m\u001b[0mforward\u001b[0m\u001b[0;34m(\u001b[0m\u001b[0;34m*\u001b[0m\u001b[0minput\u001b[0m\u001b[0;34m,\u001b[0m \u001b[0;34m**\u001b[0m\u001b[0mkwargs\u001b[0m\u001b[0;34m)\u001b[0m\u001b[0;34m\u001b[0m\u001b[0m\n\u001b[0m\u001b[1;32m    480\u001b[0m         \u001b[0;32mfinally\u001b[0m\u001b[0;34m:\u001b[0m\u001b[0;34m\u001b[0m\u001b[0m\n\u001b[1;32m    481\u001b[0m             \u001b[0mtracing_state\u001b[0m\u001b[0;34m.\u001b[0m\u001b[0mpop_scope\u001b[0m\u001b[0;34m(\u001b[0m\u001b[0;34m)\u001b[0m\u001b[0;34m\u001b[0m\u001b[0m\n",
      "\u001b[0;32m~/Desktop/text-to-image-transcribed/code/model.py\u001b[0m in \u001b[0;36mforward\u001b[0;34m(self, captions, cap_lens, hidden, mask)\u001b[0m\n\u001b[1;32m    153\u001b[0m \u001b[0;34m\u001b[0m\u001b[0m\n\u001b[1;32m    154\u001b[0m         \u001b[0;31m#print(\"======= Packed emb ====== \")\u001b[0m\u001b[0;34m\u001b[0m\u001b[0;34m\u001b[0m\u001b[0m\n\u001b[0;32m--> 155\u001b[0;31m         \u001b[0memb\u001b[0m \u001b[0;34m=\u001b[0m \u001b[0mpack_padded_sequence\u001b[0m\u001b[0;34m(\u001b[0m\u001b[0memb\u001b[0m\u001b[0;34m,\u001b[0m \u001b[0mcap_lens\u001b[0m\u001b[0;34m,\u001b[0m \u001b[0mbatch_first\u001b[0m\u001b[0;34m=\u001b[0m\u001b[0;32mTrue\u001b[0m\u001b[0;34m)\u001b[0m\u001b[0;34m\u001b[0m\u001b[0m\n\u001b[0m\u001b[1;32m    156\u001b[0m         \u001b[0;31m#print(\"emb: \", emb)\u001b[0m\u001b[0;34m\u001b[0m\u001b[0;34m\u001b[0m\u001b[0m\n\u001b[1;32m    157\u001b[0m         \u001b[0;31m#print(\"emb shape: \", emb.shape)\u001b[0m\u001b[0;34m\u001b[0m\u001b[0;34m\u001b[0m\u001b[0m\n",
      "\u001b[0;32m~/anaconda/lib/python3.6/site-packages/torch/onnx/__init__.py\u001b[0m in \u001b[0;36mwrapper\u001b[0;34m(*args, **kwargs)\u001b[0m\n\u001b[1;32m     71\u001b[0m \u001b[0;34m\u001b[0m\u001b[0m\n\u001b[1;32m     72\u001b[0m         \u001b[0msymbolic_args\u001b[0m \u001b[0;34m=\u001b[0m \u001b[0mfunction\u001b[0m\u001b[0;34m.\u001b[0m\u001b[0m_unflatten\u001b[0m\u001b[0;34m(\u001b[0m\u001b[0marg_values\u001b[0m\u001b[0;34m,\u001b[0m \u001b[0margs\u001b[0m\u001b[0;34m)\u001b[0m\u001b[0;34m\u001b[0m\u001b[0m\n\u001b[0;32m---> 73\u001b[0;31m         \u001b[0moutput_vals\u001b[0m \u001b[0;34m=\u001b[0m \u001b[0msymbolic_fn\u001b[0m\u001b[0;34m(\u001b[0m\u001b[0mtstate\u001b[0m\u001b[0;34m.\u001b[0m\u001b[0mgraph\u001b[0m\u001b[0;34m(\u001b[0m\u001b[0;34m)\u001b[0m\u001b[0;34m,\u001b[0m \u001b[0;34m*\u001b[0m\u001b[0msymbolic_args\u001b[0m\u001b[0;34m,\u001b[0m \u001b[0;34m**\u001b[0m\u001b[0mkwargs\u001b[0m\u001b[0;34m)\u001b[0m\u001b[0;34m\u001b[0m\u001b[0m\n\u001b[0m\u001b[1;32m     74\u001b[0m \u001b[0;34m\u001b[0m\u001b[0m\n\u001b[1;32m     75\u001b[0m         for var, val in zip(\n",
      "\u001b[0;32m~/anaconda/lib/python3.6/site-packages/torch/nn/utils/rnn.py\u001b[0m in \u001b[0;36m_symbolic_pack_padded_sequence\u001b[0;34m(g, input, lengths, batch_first, padding_value, total_length)\u001b[0m\n\u001b[1;32m    144\u001b[0m     outputs = g.wrapPyFuncWithSymbolic(\n\u001b[1;32m    145\u001b[0m         \u001b[0mpack_padded_sequence_trace_wrapper\u001b[0m\u001b[0;34m,\u001b[0m \u001b[0;34m[\u001b[0m\u001b[0minput\u001b[0m\u001b[0;34m,\u001b[0m \u001b[0mlengths\u001b[0m\u001b[0;34m]\u001b[0m\u001b[0;34m,\u001b[0m \u001b[0;36m2\u001b[0m\u001b[0;34m,\u001b[0m\u001b[0;34m\u001b[0m\u001b[0m\n\u001b[0;32m--> 146\u001b[0;31m         _onnx_symbolic_pack_padded_sequence)\n\u001b[0m\u001b[1;32m    147\u001b[0m     \u001b[0;32mreturn\u001b[0m \u001b[0mtuple\u001b[0m\u001b[0;34m(\u001b[0m\u001b[0mo\u001b[0m \u001b[0;32mfor\u001b[0m \u001b[0mo\u001b[0m \u001b[0;32min\u001b[0m \u001b[0moutputs\u001b[0m\u001b[0;34m)\u001b[0m\u001b[0;34m\u001b[0m\u001b[0m\n\u001b[1;32m    148\u001b[0m \u001b[0;34m\u001b[0m\u001b[0m\n",
      "\u001b[0;31mTypeError\u001b[0m: wrapPyFuncWithSymbolic(): incompatible function arguments. The following argument types are supported:\n    1. (self: torch._C.Graph, arg0: function, arg1: List[torch::jit::Value], arg2: int, arg3: function) -> iterator\n\nInvoked with: graph(%0 : Long(48, 15)\n      %1 : Long(48)\n      %2 : Float(2, 48, 128)\n      %3 : Float(2, 48, 128)\n      %4 : Float(27297, 300)\n      %5 : Float(512, 300)\n      %6 : Float(512, 128)\n      %7 : Float(512)\n      %8 : Float(512)\n      %9 : Float(512, 300)\n      %10 : Float(512, 128)\n      %11 : Float(512)\n      %12 : Float(512)) {\n  %13 : Float(48, 15, 300) = aten::embedding[padding_idx=-1, scale_grad_by_freq=0, sparse=0](%4, %0), scope: RNN_ENCODER/Embedding[encoder]\n  %16 : Float(48, 15, 300), %17 : Handle = ^Dropout(0.5, False, False)(%13), scope: RNN_ENCODER/Dropout[drop]\n  %15 : Float(48, 15, 300) = aten::slice[dim=0, start=0, end=9223372036854775807, step=1](%13), scope: RNN_ENCODER/Dropout[drop]\n  %14 : Float(48, 15, 300) = aten::as_strided[size=[48, 15, 300], stride=[4500, 300, 1], storage_offset=0](%13), scope: RNN_ENCODER/Dropout[drop]\n  %18 : Long(48) = prim::Constant[value=<Tensor>](), scope: RNN_ENCODER\n  %70 : Float(509, 300), %71 : Long(15), %72 : Handle = ^PackPadded(True)(%16, %18), scope: RNN_ENCODER\n  %19 : Float(15!, 48!, 300) = aten::transpose[dim0=0, dim1=1](%16), scope: RNN_ENCODER\n  %21 : Long() = aten::select[dim=0, index=47](%18), scope: RNN_ENCODER\n  %20 : Long() = aten::as_strided[size=[], stride=[], storage_offset=47](%18), scope: RNN_ENCODER\n  %22 : Byte() = aten::le[other={0}](%21), scope: RNN_ENCODER\n  %24 : Float(8!, 48!, 300) = aten::slice[dim=0, start=0, end=8, step=1](%19), scope: RNN_ENCODER\n  %23 : Float(8!, 48!, 300) = aten::as_strided[size=[8, 48, 300], stride=[300, 4500, 1], storage_offset=0](%19), scope: RNN_ENCODER\n  %25 : Float(8, 48, 300) = aten::clone(%24), scope: RNN_ENCODER\n  %26 : Float(384, 300) = aten::view[size=[-1, 300]](%25), scope: RNN_ENCODER\n  %28 : Float(1!, 48!, 300) = aten::slice[dim=0, start=8, end=9, step=1](%19), scope: RNN_ENCODER\n  %27 : Float(1!, 48!, 300) = aten::as_strided[size=[1, 48, 300], stride=[300, 4500, 1], storage_offset=2400](%19), scope: RNN_ENCODER\n  %30 : Float(1!, 40!, 300) = aten::slice[dim=1, start=0, end=40, step=1](%28), scope: RNN_ENCODER\n  %29 : Float(1!, 40!, 300) = aten::as_strided[size=[1, 40, 300], stride=[300, 4500, 1], storage_offset=2400](%28), scope: RNN_ENCODER\n  %31 : Float(1, 40, 300) = aten::clone(%30), scope: RNN_ENCODER\n  %32 : Float(40, 300) = aten::view[size=[-1, 300]](%31), scope: RNN_ENCODER\n  %34 : Float(1!, 48!, 300) = aten::slice[dim=0, start=9, end=10, step=1](%19), scope: RNN_ENCODER\n  %33 : Float(1!, 48!, 300) = aten::as_strided[size=[1, 48, 300], stride=[300, 4500, 1], storage_offset=2700](%19), scope: RNN_ENCODER\n  %36 : Float(1!, 30!, 300) = aten::slice[dim=1, start=0, end=30, step=1](%34), scope: RNN_ENCODER\n  %35 : Float(1!, 30!, 300) = aten::as_strided[size=[1, 30, 300], stride=[300, 4500, 1], storage_offset=2700](%34), scope: RNN_ENCODER\n  %37 : Float(1, 30, 300) = aten::clone(%36), scope: RNN_ENCODER\n  %38 : Float(30, 300) = aten::view[size=[-1, 300]](%37), scope: RNN_ENCODER\n  %40 : Float(1!, 48!, 300) = aten::slice[dim=0, start=10, end=11, step=1](%19), scope: RNN_ENCODER\n  %39 : Float(1!, 48!, 300) = aten::as_strided[size=[1, 48, 300], stride=[300, 4500, 1], storage_offset=3000](%19), scope: RNN_ENCODER\n  %42 : Float(1!, 19!, 300) = aten::slice[dim=1, start=0, end=19, step=1](%40), scope: RNN_ENCODER\n  %41 : Float(1!, 19!, 300) = aten::as_strided[size=[1, 19, 300], stride=[300, 4500, 1], storage_offset=3000](%40), scope: RNN_ENCODER\n  %43 : Float(1, 19, 300) = aten::clone(%42), scope: RNN_ENCODER\n  %44 : Float(19, 300) = aten::view[size=[-1, 300]](%43), scope: RNN_ENCODER\n  %46 : Float(1!, 48!, 300) = aten::slice[dim=0, start=11, end=12, step=1](%19), scope: RNN_ENCODER\n  %45 : Float(1!, 48!, 300) = aten::as_strided[size=[1, 48, 300], stride=[300, 4500, 1], storage_offset=3300](%19), scope: RNN_ENCODER\n  %48 : Float(1!, 15!, 300) = aten::slice[dim=1, start=0, end=15, step=1](%46), scope: RNN_ENCODER\n  %47 : Float(1!, 15!, 300) = aten::as_strided[size=[1, 15, 300], stride=[300, 4500, 1], storage_offset=3300](%46), scope: RNN_ENCODER\n  %49 : Float(1, 15, 300) = aten::clone(%48), scope: RNN_ENCODER\n  %50 : Float(15, 300) = aten::view[size=[-1, 300]](%49), scope: RNN_ENCODER\n  %52 : Float(1!, 48!, 300) = aten::slice[dim=0, start=12, end=13, step=1](%19), scope: RNN_ENCODER\n  %51 : Float(1!, 48!, 300) = aten::as_strided[size=[1, 48, 300], stride=[300, 4500, 1], storage_offset=3600](%19), scope: RNN_ENCODER\n  %54 : Float(1!, 11!, 300) = aten::slice[dim=1, start=0, end=11, step=1](%52), scope: RNN_ENCODER\n  %53 : Float(1!, 11!, 300) = aten::as_strided[size=[1, 11, 300], stride=[300, 4500, 1], storage_offset=3600](%52), scope: RNN_ENCODER\n  %55 : Float(1, 11, 300) = aten::clone(%54), scope: RNN_ENCODER\n  %56 : Float(11, 300) = aten::view[size=[-1, 300]](%55), scope: RNN_ENCODER\n  %58 : Float(1!, 48!, 300) = aten::slice[dim=0, start=13, end=14, step=1](%19), scope: RNN_ENCODER\n  %57 : Float(1!, 48!, 300) = aten::as_strided[size=[1, 48, 300], stride=[300, 4500, 1], storage_offset=3900](%19), scope: RNN_ENCODER\n  %60 : Float(1!, 7!, 300) = aten::slice[dim=1, start=0, end=7, step=1](%58), scope: RNN_ENCODER\n  %59 : Float(1!, 7!, 300) = aten::as_strided[size=[1, 7, 300], stride=[300, 4500, 1], storage_offset=3900](%58), scope: RNN_ENCODER\n  %61 : Float(1, 7, 300) = aten::clone(%60), scope: RNN_ENCODER\n  %62 : Float(7, 300) = aten::view[size=[-1, 300]](%61), scope: RNN_ENCODER\n  %64 : Float(1!, 48!, 300) = aten::slice[dim=0, start=14, end=15, step=1](%19), scope: RNN_ENCODER\n  %63 : Float(1!, 48!, 300) = aten::as_strided[size=[1, 48, 300], stride=[300, 4500, 1], storage_offset=4200](%19), scope: RNN_ENCODER\n  %66 : Float(1!, 3!, 300) = aten::slice[dim=1, start=0, end=3, step=1](%64), scope: RNN_ENCODER\n  %65 : Float(1!, 3!, 300) = aten::as_strided[size=[1, 3, 300], stride=[300, 4500, 1], storage_offset=4200](%64), scope: RNN_ENCODER\n  %67 : Float(1, 3, 300) = aten::clone(%66), scope: RNN_ENCODER\n  %68 : Float(3, 300) = aten::view[size=[-1, 300]](%67), scope: RNN_ENCODER\n  %69 : Float(509, 300) = aten::cat[dim=0](%26, %32, %38, %44, %50, %56, %62, %68), scope: RNN_ENCODER\n  %73 : Float(48, 15, 300) = aten::embedding[padding_idx=-1, scale_grad_by_freq=0, sparse=0](%4, %0), scope: RNN_ENCODER/Embedding[encoder]\n  %76 : Float(48, 15, 300), %77 : Handle = ^Dropout(0.5, False, False)(%73), scope: RNN_ENCODER/Dropout[drop]\n  %75 : Float(48, 15, 300) = aten::slice[dim=0, start=0, end=9223372036854775807, step=1](%73), scope: RNN_ENCODER/Dropout[drop]\n  %74 : Float(48, 15, 300) = aten::as_strided[size=[48, 15, 300], stride=[4500, 300, 1], storage_offset=0](%73), scope: RNN_ENCODER/Dropout[drop]\n  %78 : Long(48) = prim::Constant[value=<Tensor>](), scope: RNN_ENCODER\n  %130 : Float(509, 300), %131 : Long(15), %132 : Handle = ^PackPadded(True)(%76, %78), scope: RNN_ENCODER\n  %79 : Float(15!, 48!, 300) = aten::transpose[dim0=0, dim1=1](%76), scope: RNN_ENCODER\n  %81 : Long() = aten::select[dim=0, index=47](%78), scope: RNN_ENCODER\n  %80 : Long() = aten::as_strided[size=[], stride=[], storage_offset=47](%78), scope: RNN_ENCODER\n  %82 : Byte() = aten::le[other={0}](%81), scope: RNN_ENCODER\n  %84 : Float(8!, 48!, 300) = aten::slice[dim=0, start=0, end=8, step=1](%79), scope: RNN_ENCODER\n  %83 : Float(8!, 48!, 300) = aten::as_strided[size=[8, 48, 300], stride=[300, 4500, 1], storage_offset=0](%79), scope: RNN_ENCODER\n  %85 : Float(8, 48, 300) = aten::clone(%84), scope: RNN_ENCODER\n  %86 : Float(384, 300) = aten::view[size=[-1, 300]](%85), scope: RNN_ENCODER\n  %88 : Float(1!, 48!, 300) = aten::slice[dim=0, start=8, end=9, step=1](%79), scope: RNN_ENCODER\n  %87 : Float(1!, 48!, 300) = aten::as_strided[size=[1, 48, 300], stride=[300, 4500, 1], storage_offset=2400](%79), scope: RNN_ENCODER\n  %90 : Float(1!, 40!, 300) = aten::slice[dim=1, start=0, end=40, step=1](%88), scope: RNN_ENCODER\n  %89 : Float(1!, 40!, 300) = aten::as_strided[size=[1, 40, 300], stride=[300, 4500, 1], storage_offset=2400](%88), scope: RNN_ENCODER\n  %91 : Float(1, 40, 300) = aten::clone(%90), scope: RNN_ENCODER\n  %92 : Float(40, 300) = aten::view[size=[-1, 300]](%91), scope: RNN_ENCODER\n  %94 : Float(1!, 48!, 300) = aten::slice[dim=0, start=9, end=10, step=1](%79), scope: RNN_ENCODER\n  %93 : Float(1!, 48!, 300) = aten::as_strided[size=[1, 48, 300], stride=[300, 4500, 1], storage_offset=2700](%79), scope: RNN_ENCODER\n  %96 : Float(1!, 30!, 300) = aten::slice[dim=1, start=0, end=30, step=1](%94), scope: RNN_ENCODER\n  %95 : Float(1!, 30!, 300) = aten::as_strided[size=[1, 30, 300], stride=[300, 4500, 1], storage_offset=2700](%94), scope: RNN_ENCODER\n  %97 : Float(1, 30, 300) = aten::clone(%96), scope: RNN_ENCODER\n  %98 : Float(30, 300) = aten::view[size=[-1, 300]](%97), scope: RNN_ENCODER\n  %100 : Float(1!, 48!, 300) = aten::slice[dim=0, start=10, end=11, step=1](%79), scope: RNN_ENCODER\n  %99 : Float(1!, 48!, 300) = aten::as_strided[size=[1, 48, 300], stride=[300, 4500, 1], storage_offset=3000](%79), scope: RNN_ENCODER\n  %102 : Float(1!, 19!, 300) = aten::slice[dim=1, start=0, end=19, step=1](%100), scope: RNN_ENCODER\n  %101 : Float(1!, 19!, 300) = aten::as_strided[size=[1, 19, 300], stride=[300, 4500, 1], storage_offset=3000](%100), scope: RNN_ENCODER\n  %103 : Float(1, 19, 300) = aten::clone(%102), scope: RNN_ENCODER\n  %104 : Float(19, 300) = aten::view[size=[-1, 300]](%103), scope: RNN_ENCODER\n  %106 : Float(1!, 48!, 300) = aten::slice[dim=0, start=11, end=12, step=1](%79), scope: RNN_ENCODER\n  %105 : Float(1!, 48!, 300) = aten::as_strided[size=[1, 48, 300], stride=[300, 4500, 1], storage_offset=3300](%79), scope: RNN_ENCODER\n  %108 : Float(1!, 15!, 300) = aten::slice[dim=1, start=0, end=15, step=1](%106), scope: RNN_ENCODER\n  %107 : Float(1!, 15!, 300) = aten::as_strided[size=[1, 15, 300], stride=[300, 4500, 1], storage_offset=3300](%106), scope: RNN_ENCODER\n  %109 : Float(1, 15, 300) = aten::clone(%108), scope: RNN_ENCODER\n  %110 : Float(15, 300) = aten::view[size=[-1, 300]](%109), scope: RNN_ENCODER\n  %112 : Float(1!, 48!, 300) = aten::slice[dim=0, start=12, end=13, step=1](%79), scope: RNN_ENCODER\n  %111 : Float(1!, 48!, 300) = aten::as_strided[size=[1, 48, 300], stride=[300, 4500, 1], storage_offset=3600](%79), scope: RNN_ENCODER\n  %114 : Float(1!, 11!, 300) = aten::slice[dim=1, start=0, end=11, step=1](%112), scope: RNN_ENCODER\n  %113 : Float(1!, 11!, 300) = aten::as_strided[size=[1, 11, 300], stride=[300, 4500, 1], storage_offset=3600](%112), scope: RNN_ENCODER\n  %115 : Float(1, 11, 300) = aten::clone(%114), scope: RNN_ENCODER\n  %116 : Float(11, 300) = aten::view[size=[-1, 300]](%115), scope: RNN_ENCODER\n  %118 : Float(1!, 48!, 300) = aten::slice[dim=0, start=13, end=14, step=1](%79), scope: RNN_ENCODER\n  %117 : Float(1!, 48!, 300) = aten::as_strided[size=[1, 48, 300], stride=[300, 4500, 1], storage_offset=3900](%79), scope: RNN_ENCODER\n  %120 : Float(1!, 7!, 300) = aten::slice[dim=1, start=0, end=7, step=1](%118), scope: RNN_ENCODER\n  %119 : Float(1!, 7!, 300) = aten::as_strided[size=[1, 7, 300], stride=[300, 4500, 1], storage_offset=3900](%118), scope: RNN_ENCODER\n  %121 : Float(1, 7, 300) = aten::clone(%120), scope: RNN_ENCODER\n  %122 : Float(7, 300) = aten::view[size=[-1, 300]](%121), scope: RNN_ENCODER\n  %124 : Float(1!, 48!, 300) = aten::slice[dim=0, start=14, end=15, step=1](%79), scope: RNN_ENCODER\n  %123 : Float(1!, 48!, 300) = aten::as_strided[size=[1, 48, 300], stride=[300, 4500, 1], storage_offset=4200](%79), scope: RNN_ENCODER\n  %126 : Float(1!, 3!, 300) = aten::slice[dim=1, start=0, end=3, step=1](%124), scope: RNN_ENCODER\n  %125 : Float(1!, 3!, 300) = aten::as_strided[size=[1, 3, 300], stride=[300, 4500, 1], storage_offset=4200](%124), scope: RNN_ENCODER\n  %127 : Float(1, 3, 300) = aten::clone(%126), scope: RNN_ENCODER\n  %128 : Float(3, 300) = aten::view[size=[-1, 300]](%127), scope: RNN_ENCODER\n  %129 : Float(509, 300) = aten::cat[dim=0](%86, %92, %98, %104, %110, %116, %122, %128), scope: RNN_ENCODER\n  %133 : Float(48, 15, 300) = aten::embedding[padding_idx=-1, scale_grad_by_freq=0, sparse=0](%4, %0), scope: RNN_ENCODER/Embedding[encoder]\n  %136 : Float(48, 15, 300), %137 : Handle = ^Dropout(0.5, False, False)(%133), scope: RNN_ENCODER/Dropout[drop]\n  %135 : Float(48, 15, 300) = aten::slice[dim=0, start=0, end=9223372036854775807, step=1](%133), scope: RNN_ENCODER/Dropout[drop]\n  %134 : Float(48, 15, 300) = aten::as_strided[size=[48, 15, 300], stride=[4500, 300, 1], storage_offset=0](%133), scope: RNN_ENCODER/Dropout[drop]\n  %138 : Long(48) = prim::Constant[value=<Tensor>](), scope: RNN_ENCODER\n   = ^PackPadded(True)(%136, %138), scope: RNN_ENCODER\n  %139 : Float(15!, 48!, 300) = aten::transpose[dim0=0, dim1=1](%136), scope: RNN_ENCODER\n  %141 : Long() = aten::select[dim=0, index=47](%138), scope: RNN_ENCODER\n  %140 : Long() = aten::as_strided[size=[], stride=[], storage_offset=47](%138), scope: RNN_ENCODER\n  %142 : Byte() = aten::le[other={0}](%141), scope: RNN_ENCODER\n  %144 : Float(6!, 48!, 300) = aten::slice[dim=0, start=0, end=6, step=1](%139), scope: RNN_ENCODER\n  %143 : Float(6!, 48!, 300) = aten::as_strided[size=[6, 48, 300], stride=[300, 4500, 1], storage_offset=0](%139), scope: RNN_ENCODER\n  %145 : Float(6, 48, 300) = aten::clone(%144), scope: RNN_ENCODER\n  %146 : Float(288, 300) = aten::view[size=[-1, 300]](%145), scope: RNN_ENCODER\n  %148 : Float(7!, 48!, 300) = aten::slice[dim=0, start=6, end=13, step=1](%139), scope: RNN_ENCODER\n  %147 : Float(7!, 48!, 300) = aten::as_strided[size=[7, 48, 300], stride=[300, 4500, 1], storage_offset=1800](%139), scope: RNN_ENCODER\n  %150 : Float(7!, 47!, 300) = aten::slice[dim=1, start=0, end=47, step=1](%148), scope: RNN_ENCODER\n  %149 : Float(7!, 47!, 300) = aten::as_strided[size=[7, 47, 300], stride=[300, 4500, 1], storage_offset=1800](%148), scope: RNN_ENCODER\n  %151 : Float(7, 47, 300) = aten::clone(%150), scope: RNN_ENCODER\n  %152 : Float(329, 300) = aten::view[size=[-1, 300]](%151), scope: RNN_ENCODER\n  %153 : Float(48, 15, 300) = aten::embedding[padding_idx=-1, scale_grad_by_freq=0, sparse=0](%4, %0), scope: RNN_ENCODER/Embedding[encoder]\n  %156 : Float(48, 15, 300), %157 : Handle = ^Dropout(0.5, False, False)(%153), scope: RNN_ENCODER/Dropout[drop]\n  %155 : Float(48, 15, 300) = aten::slice[dim=0, start=0, end=9223372036854775807, step=1](%153), scope: RNN_ENCODER/Dropout[drop]\n  %154 : Float(48, 15, 300) = aten::as_strided[size=[48, 15, 300], stride=[4500, 300, 1], storage_offset=0](%153), scope: RNN_ENCODER/Dropout[drop]\n  %158 : Long(48) = prim::Constant[value=<Tensor>](), scope: RNN_ENCODER\n  %210 : Float(509, 300), %211 : Long(15), %212 : Handle = ^PackPadded(True)(%156, %158), scope: RNN_ENCODER\n  %159 : Float(15!, 48!, 300) = aten::transpose[dim0=0, dim1=1](%156), scope: RNN_ENCODER\n  %161 : Long() = aten::select[dim=0, index=47](%158), scope: RNN_ENCODER\n  %160 : Long() = aten::as_strided[size=[], stride=[], storage_offset=47](%158), scope: RNN_ENCODER\n  %162 : Byte() = aten::le[other={0}](%161), scope: RNN_ENCODER\n  %164 : Float(8!, 48!, 300) = aten::slice[dim=0, start=0, end=8, step=1](%159), scope: RNN_ENCODER\n  %163 : Float(8!, 48!, 300) = aten::as_strided[size=[8, 48, 300], stride=[300, 4500, 1], storage_offset=0](%159), scope: RNN_ENCODER\n  %165 : Float(8, 48, 300) = aten::clone(%164), scope: RNN_ENCODER\n  %166 : Float(384, 300) = aten::view[size=[-1, 300]](%165), scope: RNN_ENCODER\n  %168 : Float(1!, 48!, 300) = aten::slice[dim=0, start=8, end=9, step=1](%159), scope: RNN_ENCODER\n  %167 : Float(1!, 48!, 300) = aten::as_strided[size=[1, 48, 300], stride=[300, 4500, 1], storage_offset=2400](%159), scope: RNN_ENCODER\n  %170 : Float(1!, 40!, 300) = aten::slice[dim=1, start=0, end=40, step=1](%168), scope: RNN_ENCODER\n  %169 : Float(1!, 40!, 300) = aten::as_strided[size=[1, 40, 300], stride=[300, 4500, 1], storage_offset=2400](%168), scope: RNN_ENCODER\n  %171 : Float(1, 40, 300) = aten::clone(%170), scope: RNN_ENCODER\n  %172 : Float(40, 300) = aten::view[size=[-1, 300]](%171), scope: RNN_ENCODER\n  %174 : Float(1!, 48!, 300) = aten::slice[dim=0, start=9, end=10, step=1](%159), scope: RNN_ENCODER\n  %173 : Float(1!, 48!, 300) = aten::as_strided[size=[1, 48, 300], stride=[300, 4500, 1], storage_offset=2700](%159), scope: RNN_ENCODER\n  %176 : Float(1!, 30!, 300) = aten::slice[dim=1, start=0, end=30, step=1](%174), scope: RNN_ENCODER\n  %175 : Float(1!, 30!, 300) = aten::as_strided[size=[1, 30, 300], stride=[300, 4500, 1], storage_offset=2700](%174), scope: RNN_ENCODER\n  %177 : Float(1, 30, 300) = aten::clone(%176), scope: RNN_ENCODER\n  %178 : Float(30, 300) = aten::view[size=[-1, 300]](%177), scope: RNN_ENCODER\n  %180 : Float(1!, 48!, 300) = aten::slice[dim=0, start=10, end=11, step=1](%159), scope: RNN_ENCODER\n  %179 : Float(1!, 48!, 300) = aten::as_strided[size=[1, 48, 300], stride=[300, 4500, 1], storage_offset=3000](%159), scope: RNN_ENCODER\n  %182 : Float(1!, 19!, 300) = aten::slice[dim=1, start=0, end=19, step=1](%180), scope: RNN_ENCODER\n  %181 : Float(1!, 19!, 300) = aten::as_strided[size=[1, 19, 300], stride=[300, 4500, 1], storage_offset=3000](%180), scope: RNN_ENCODER\n  %183 : Float(1, 19, 300) = aten::clone(%182), scope: RNN_ENCODER\n  %184 : Float(19, 300) = aten::view[size=[-1, 300]](%183), scope: RNN_ENCODER\n  %186 : Float(1!, 48!, 300) = aten::slice[dim=0, start=11, end=12, step=1](%159), scope: RNN_ENCODER\n  %185 : Float(1!, 48!, 300) = aten::as_strided[size=[1, 48, 300], stride=[300, 4500, 1], storage_offset=3300](%159), scope: RNN_ENCODER\n  %188 : Float(1!, 15!, 300) = aten::slice[dim=1, start=0, end=15, step=1](%186), scope: RNN_ENCODER\n  %187 : Float(1!, 15!, 300) = aten::as_strided[size=[1, 15, 300], stride=[300, 4500, 1], storage_offset=3300](%186), scope: RNN_ENCODER\n  %189 : Float(1, 15, 300) = aten::clone(%188), scope: RNN_ENCODER\n  %190 : Float(15, 300) = aten::view[size=[-1, 300]](%189), scope: RNN_ENCODER\n  %192 : Float(1!, 48!, 300) = aten::slice[dim=0, start=12, end=13, step=1](%159), scope: RNN_ENCODER\n  %191 : Float(1!, 48!, 300) = aten::as_strided[size=[1, 48, 300], stride=[300, 4500, 1], storage_offset=3600](%159), scope: RNN_ENCODER\n  %194 : Float(1!, 11!, 300) = aten::slice[dim=1, start=0, end=11, step=1](%192), scope: RNN_ENCODER\n  %193 : Float(1!, 11!, 300) = aten::as_strided[size=[1, 11, 300], stride=[300, 4500, 1], storage_offset=3600](%192), scope: RNN_ENCODER\n  %195 : Float(1, 11, 300) = aten::clone(%194), scope: RNN_ENCODER\n  %196 : Float(11, 300) = aten::view[size=[-1, 300]](%195), scope: RNN_ENCODER\n  %198 : Float(1!, 48!, 300) = aten::slice[dim=0, start=13, end=14, step=1](%159), scope: RNN_ENCODER\n  %197 : Float(1!, 48!, 300) = aten::as_strided[size=[1, 48, 300], stride=[300, 4500, 1], storage_offset=3900](%159), scope: RNN_ENCODER\n  %200 : Float(1!, 7!, 300) = aten::slice[dim=1, start=0, end=7, step=1](%198), scope: RNN_ENCODER\n  %199 : Float(1!, 7!, 300) = aten::as_strided[size=[1, 7, 300], stride=[300, 4500, 1], storage_offset=3900](%198), scope: RNN_ENCODER\n  %201 : Float(1, 7, 300) = aten::clone(%200), scope: RNN_ENCODER\n  %202 : Float(7, 300) = aten::view[size=[-1, 300]](%201), scope: RNN_ENCODER\n  %204 : Float(1!, 48!, 300) = aten::slice[dim=0, start=14, end=15, step=1](%159), scope: RNN_ENCODER\n  %203 : Float(1!, 48!, 300) = aten::as_strided[size=[1, 48, 300], stride=[300, 4500, 1], storage_offset=4200](%159), scope: RNN_ENCODER\n  %206 : Float(1!, 3!, 300) = aten::slice[dim=1, start=0, end=3, step=1](%204), scope: RNN_ENCODER\n  %205 : Float(1!, 3!, 300) = aten::as_strided[size=[1, 3, 300], stride=[300, 4500, 1], storage_offset=4200](%204), scope: RNN_ENCODER\n  %207 : Float(1, 3, 300) = aten::clone(%206), scope: RNN_ENCODER\n  %208 : Float(3, 300) = aten::view[size=[-1, 300]](%207), scope: RNN_ENCODER\n  %209 : Float(509, 300) = aten::cat[dim=0](%166, %172, %178, %184, %190, %196, %202, %208), scope: RNN_ENCODER\n  %213 : Long(48, 15) = prim::Constant[value=<Tensor>](), scope: RNN_ENCODER\n  %214 : Float(48, 15, 300) = aten::embedding[padding_idx=-1, scale_grad_by_freq=0, sparse=0](%4, %213), scope: RNN_ENCODER\n  %217 : Float(48, 15, 300), %218 : Handle = ^Dropout(0.5, False, False)(%214), scope: RNN_ENCODER/Dropout[drop]\n  %216 : Float(48, 15, 300) = aten::slice[dim=0, start=0, end=9223372036854775807, step=1](%214), scope: RNN_ENCODER/Dropout[drop]\n  %215 : Float(48, 15, 300) = aten::as_strided[size=[48, 15, 300], stride=[4500, 300, 1], storage_offset=0](%214), scope: RNN_ENCODER/Dropout[drop]\n  %219 : Long(48) = prim::Constant[value=<Tensor>](), scope: RNN_ENCODER\n  %271 : Float(509, 300), %272 : Long(15), %273 : Handle = ^PackPadded(True)(%217, %219), scope: RNN_ENCODER\n  %220 : Float(15!, 48!, 300) = aten::transpose[dim0=0, dim1=1](%217), scope: RNN_ENCODER\n  %222 : Long() = aten::select[dim=0, index=47](%219), scope: RNN_ENCODER\n  %221 : Long() = aten::as_strided[size=[], stride=[], storage_offset=47](%219), scope: RNN_ENCODER\n  %223 : Byte() = aten::le[other={0}](%222), scope: RNN_ENCODER\n  %225 : Float(8!, 48!, 300) = aten::slice[dim=0, start=0, end=8, step=1](%220), scope: RNN_ENCODER\n  %224 : Float(8!, 48!, 300) = aten::as_strided[size=[8, 48, 300], stride=[300, 4500, 1], storage_offset=0](%220), scope: RNN_ENCODER\n  %226 : Float(8, 48, 300) = aten::clone(%225), scope: RNN_ENCODER\n  %227 : Float(384, 300) = aten::view[size=[-1, 300]](%226), scope: RNN_ENCODER\n  %229 : Float(1!, 48!, 300) = aten::slice[dim=0, start=8, end=9, step=1](%220), scope: RNN_ENCODER\n  %228 : Float(1!, 48!, 300) = aten::as_strided[size=[1, 48, 300], stride=[300, 4500, 1], storage_offset=2400](%220), scope: RNN_ENCODER\n  %231 : Float(1!, 40!, 300) = aten::slice[dim=1, start=0, end=40, step=1](%229), scope: RNN_ENCODER\n  %230 : Float(1!, 40!, 300) = aten::as_strided[size=[1, 40, 300], stride=[300, 4500, 1], storage_offset=2400](%229), scope: RNN_ENCODER\n  %232 : Float(1, 40, 300) = aten::clone(%231), scope: RNN_ENCODER\n  %233 : Float(40, 300) = aten::view[size=[-1, 300]](%232), scope: RNN_ENCODER\n  %235 : Float(1!, 48!, 300) = aten::slice[dim=0, start=9, end=10, step=1](%220), scope: RNN_ENCODER\n  %234 : Float(1!, 48!, 300) = aten::as_strided[size=[1, 48, 300], stride=[300, 4500, 1], storage_offset=2700](%220), scope: RNN_ENCODER\n  %237 : Float(1!, 30!, 300) = aten::slice[dim=1, start=0, end=30, step=1](%235), scope: RNN_ENCODER\n  %236 : Float(1!, 30!, 300) = aten::as_strided[size=[1, 30, 300], stride=[300, 4500, 1], storage_offset=2700](%235), scope: RNN_ENCODER\n  %238 : Float(1, 30, 300) = aten::clone(%237), scope: RNN_ENCODER\n  %239 : Float(30, 300) = aten::view[size=[-1, 300]](%238), scope: RNN_ENCODER\n  %241 : Float(1!, 48!, 300) = aten::slice[dim=0, start=10, end=11, step=1](%220), scope: RNN_ENCODER\n  %240 : Float(1!, 48!, 300) = aten::as_strided[size=[1, 48, 300], stride=[300, 4500, 1], storage_offset=3000](%220), scope: RNN_ENCODER\n  %243 : Float(1!, 19!, 300) = aten::slice[dim=1, start=0, end=19, step=1](%241), scope: RNN_ENCODER\n  %242 : Float(1!, 19!, 300) = aten::as_strided[size=[1, 19, 300], stride=[300, 4500, 1], storage_offset=3000](%241), scope: RNN_ENCODER\n  %244 : Float(1, 19, 300) = aten::clone(%243), scope: RNN_ENCODER\n  %245 : Float(19, 300) = aten::view[size=[-1, 300]](%244), scope: RNN_ENCODER\n  %247 : Float(1!, 48!, 300) = aten::slice[dim=0, start=11, end=12, step=1](%220), scope: RNN_ENCODER\n  %246 : Float(1!, 48!, 300) = aten::as_strided[size=[1, 48, 300], stride=[300, 4500, 1], storage_offset=3300](%220), scope: RNN_ENCODER\n  %249 : Float(1!, 15!, 300) = aten::slice[dim=1, start=0, end=15, step=1](%247), scope: RNN_ENCODER\n  %248 : Float(1!, 15!, 300) = aten::as_strided[size=[1, 15, 300], stride=[300, 4500, 1], storage_offset=3300](%247), scope: RNN_ENCODER\n  %250 : Float(1, 15, 300) = aten::clone(%249), scope: RNN_ENCODER\n  %251 : Float(15, 300) = aten::view[size=[-1, 300]](%250), scope: RNN_ENCODER\n  %253 : Float(1!, 48!, 300) = aten::slice[dim=0, start=12, end=13, step=1](%220), scope: RNN_ENCODER\n  %252 : Float(1!, 48!, 300) = aten::as_strided[size=[1, 48, 300], stride=[300, 4500, 1], storage_offset=3600](%220), scope: RNN_ENCODER\n  %255 : Float(1!, 11!, 300) = aten::slice[dim=1, start=0, end=11, step=1](%253), scope: RNN_ENCODER\n  %254 : Float(1!, 11!, 300) = aten::as_strided[size=[1, 11, 300], stride=[300, 4500, 1], storage_offset=3600](%253), scope: RNN_ENCODER\n  %256 : Float(1, 11, 300) = aten::clone(%255), scope: RNN_ENCODER\n  %257 : Float(11, 300) = aten::view[size=[-1, 300]](%256), scope: RNN_ENCODER\n  %259 : Float(1!, 48!, 300) = aten::slice[dim=0, start=13, end=14, step=1](%220), scope: RNN_ENCODER\n  %258 : Float(1!, 48!, 300) = aten::as_strided[size=[1, 48, 300], stride=[300, 4500, 1], storage_offset=3900](%220), scope: RNN_ENCODER\n  %261 : Float(1!, 7!, 300) = aten::slice[dim=1, start=0, end=7, step=1](%259), scope: RNN_ENCODER\n  %260 : Float(1!, 7!, 300) = aten::as_strided[size=[1, 7, 300], stride=[300, 4500, 1], storage_offset=3900](%259), scope: RNN_ENCODER\n  %262 : Float(1, 7, 300) = aten::clone(%261), scope: RNN_ENCODER\n  %263 : Float(7, 300) = aten::view[size=[-1, 300]](%262), scope: RNN_ENCODER\n  %265 : Float(1!, 48!, 300) = aten::slice[dim=0, start=14, end=15, step=1](%220), scope: RNN_ENCODER\n  %264 : Float(1!, 48!, 300) = aten::as_strided[size=[1, 48, 300], stride=[300, 4500, 1], storage_offset=4200](%220), scope: RNN_ENCODER\n  %267 : Float(1!, 3!, 300) = aten::slice[dim=1, start=0, end=3, step=1](%265), scope: RNN_ENCODER\n  %266 : Float(1!, 3!, 300) = aten::as_strided[size=[1, 3, 300], stride=[300, 4500, 1], storage_offset=4200](%265), scope: RNN_ENCODER\n  %268 : Float(1, 3, 300) = aten::clone(%267), scope: RNN_ENCODER\n  %269 : Float(3, 300) = aten::view[size=[-1, 300]](%268), scope: RNN_ENCODER\n  %270 : Float(509, 300) = aten::cat[dim=0](%227, %233, %239, %245, %251, %257, %263, %269), scope: RNN_ENCODER\n  %274 : Long(48, 15) = prim::Constant[value=<Tensor>](), scope: RNN_ENCODER\n  %275 : Float(48, 15, 300) = aten::embedding[padding_idx=-1, scale_grad_by_freq=0, sparse=0](%4, %274), scope: RNN_ENCODER\n  %278 : Float(48, 15, 300), %279 : Handle = ^Dropout(0.5, False, False)(%275), scope: RNN_ENCODER/Dropout[drop]\n  %277 : Float(48, 15, 300) = aten::slice[dim=0, start=0, end=9223372036854775807, step=1](%275), scope: RNN_ENCODER/Dropout[drop]\n  %276 : Float(48, 15, 300) = aten::as_strided[size=[48, 15, 300], stride=[4500, 300, 1], storage_offset=0](%275), scope: RNN_ENCODER/Dropout[drop]\n  %280 : Long(48) = prim::Constant[value=<Tensor>](), scope: RNN_ENCODER\n  %332 : Float(509, 300), %333 : Long(15), %334 : Handle = ^PackPadded(True)(%278, %280), scope: RNN_ENCODER\n  %281 : Float(15!, 48!, 300) = aten::transpose[dim0=0, dim1=1](%278), scope: RNN_ENCODER\n  %283 : Long() = aten::select[dim=0, index=47](%280), scope: RNN_ENCODER\n  %282 : Long() = aten::as_strided[size=[], stride=[], storage_offset=47](%280), scope: RNN_ENCODER\n  %284 : Byte() = aten::le[other={0}](%283), scope: RNN_ENCODER\n  %286 : Float(8!, 48!, 300) = aten::slice[dim=0, start=0, end=8, step=1](%281), scope: RNN_ENCODER\n  %285 : Float(8!, 48!, 300) = aten::as_strided[size=[8, 48, 300], stride=[300, 4500, 1], storage_offset=0](%281), scope: RNN_ENCODER\n  %287 : Float(8, 48, 300) = aten::clone(%286), scope: RNN_ENCODER\n  %288 : Float(384, 300) = aten::view[size=[-1, 300]](%287), scope: RNN_ENCODER\n  %290 : Float(1!, 48!, 300) = aten::slice[dim=0, start=8, end=9, step=1](%281), scope: RNN_ENCODER\n  %289 : Float(1!, 48!, 300) = aten::as_strided[size=[1, 48, 300], stride=[300, 4500, 1], storage_offset=2400](%281), scope: RNN_ENCODER\n  %292 : Float(1!, 40!, 300) = aten::slice[dim=1, start=0, end=40, step=1](%290), scope: RNN_ENCODER\n  %291 : Float(1!, 40!, 300) = aten::as_strided[size=[1, 40, 300], stride=[300, 4500, 1], storage_offset=2400](%290), scope: RNN_ENCODER\n  %293 : Float(1, 40, 300) = aten::clone(%292), scope: RNN_ENCODER\n  %294 : Float(40, 300) = aten::view[size=[-1, 300]](%293), scope: RNN_ENCODER\n  %296 : Float(1!, 48!, 300) = aten::slice[dim=0, start=9, end=10, step=1](%281), scope: RNN_ENCODER\n  %295 : Float(1!, 48!, 300) = aten::as_strided[size=[1, 48, 300], stride=[300, 4500, 1], storage_offset=2700](%281), scope: RNN_ENCODER\n  %298 : Float(1!, 30!, 300) = aten::slice[dim=1, start=0, end=30, step=1](%296), scope: RNN_ENCODER\n  %297 : Float(1!, 30!, 300) = aten::as_strided[size=[1, 30, 300], stride=[300, 4500, 1], storage_offset=2700](%296), scope: RNN_ENCODER\n  %299 : Float(1, 30, 300) = aten::clone(%298), scope: RNN_ENCODER\n  %300 : Float(30, 300) = aten::view[size=[-1, 300]](%299), scope: RNN_ENCODER\n  %302 : Float(1!, 48!, 300) = aten::slice[dim=0, start=10, end=11, step=1](%281), scope: RNN_ENCODER\n  %301 : Float(1!, 48!, 300) = aten::as_strided[size=[1, 48, 300], stride=[300, 4500, 1], storage_offset=3000](%281), scope: RNN_ENCODER\n  %304 : Float(1!, 19!, 300) = aten::slice[dim=1, start=0, end=19, step=1](%302), scope: RNN_ENCODER\n  %303 : Float(1!, 19!, 300) = aten::as_strided[size=[1, 19, 300], stride=[300, 4500, 1], storage_offset=3000](%302), scope: RNN_ENCODER\n  %305 : Float(1, 19, 300) = aten::clone(%304), scope: RNN_ENCODER\n  %306 : Float(19, 300) = aten::view[size=[-1, 300]](%305), scope: RNN_ENCODER\n  %308 : Float(1!, 48!, 300) = aten::slice[dim=0, start=11, end=12, step=1](%281), scope: RNN_ENCODER\n  %307 : Float(1!, 48!, 300) = aten::as_strided[size=[1, 48, 300], stride=[300, 4500, 1], storage_offset=3300](%281), scope: RNN_ENCODER\n  %310 : Float(1!, 15!, 300) = aten::slice[dim=1, start=0, end=15, step=1](%308), scope: RNN_ENCODER\n  %309 : Float(1!, 15!, 300) = aten::as_strided[size=[1, 15, 300], stride=[300, 4500, 1], storage_offset=3300](%308), scope: RNN_ENCODER\n  %311 : Float(1, 15, 300) = aten::clone(%310), scope: RNN_ENCODER\n  %312 : Float(15, 300) = aten::view[size=[-1, 300]](%311), scope: RNN_ENCODER\n  %314 : Float(1!, 48!, 300) = aten::slice[dim=0, start=12, end=13, step=1](%281), scope: RNN_ENCODER\n  %313 : Float(1!, 48!, 300) = aten::as_strided[size=[1, 48, 300], stride=[300, 4500, 1], storage_offset=3600](%281), scope: RNN_ENCODER\n  %316 : Float(1!, 11!, 300) = aten::slice[dim=1, start=0, end=11, step=1](%314), scope: RNN_ENCODER\n  %315 : Float(1!, 11!, 300) = aten::as_strided[size=[1, 11, 300], stride=[300, 4500, 1], storage_offset=3600](%314), scope: RNN_ENCODER\n  %317 : Float(1, 11, 300) = aten::clone(%316), scope: RNN_ENCODER\n  %318 : Float(11, 300) = aten::view[size=[-1, 300]](%317), scope: RNN_ENCODER\n  %320 : Float(1!, 48!, 300) = aten::slice[dim=0, start=13, end=14, step=1](%281), scope: RNN_ENCODER\n  %319 : Float(1!, 48!, 300) = aten::as_strided[size=[1, 48, 300], stride=[300, 4500, 1], storage_offset=3900](%281), scope: RNN_ENCODER\n  %322 : Float(1!, 7!, 300) = aten::slice[dim=1, start=0, end=7, step=1](%320), scope: RNN_ENCODER\n  %321 : Float(1!, 7!, 300) = aten::as_strided[size=[1, 7, 300], stride=[300, 4500, 1], storage_offset=3900](%320), scope: RNN_ENCODER\n  %323 : Float(1, 7, 300) = aten::clone(%322), scope: RNN_ENCODER\n  %324 : Float(7, 300) = aten::view[size=[-1, 300]](%323), scope: RNN_ENCODER\n  %326 : Float(1!, 48!, 300) = aten::slice[dim=0, start=14, end=15, step=1](%281), scope: RNN_ENCODER\n  %325 : Float(1!, 48!, 300) = aten::as_strided[size=[1, 48, 300], stride=[300, 4500, 1], storage_offset=4200](%281), scope: RNN_ENCODER\n  %328 : Float(1!, 3!, 300) = aten::slice[dim=1, start=0, end=3, step=1](%326), scope: RNN_ENCODER\n  %327 : Float(1!, 3!, 300) = aten::as_strided[size=[1, 3, 300], stride=[300, 4500, 1], storage_offset=4200](%326), scope: RNN_ENCODER\n  %329 : Float(1, 3, 300) = aten::clone(%328), scope: RNN_ENCODER\n  %330 : Float(3, 300) = aten::view[size=[-1, 300]](%329), scope: RNN_ENCODER\n  %331 : Float(509, 300) = aten::cat[dim=0](%288, %294, %300, %306, %312, %318, %324, %330), scope: RNN_ENCODER\n  %335 : Long(48, 15) = prim::Constant[value=<Tensor>](), scope: RNN_ENCODER\n  %336 : Float(48, 15, 300) = aten::embedding[padding_idx=-1, scale_grad_by_freq=0, sparse=0](%4, %335), scope: RNN_ENCODER\n  %339 : Float(48, 15, 300), %340 : Handle = ^Dropout(0.5, False, False)(%336), scope: RNN_ENCODER/Dropout[drop]\n  %338 : Float(48, 15, 300) = aten::slice[dim=0, start=0, end=9223372036854775807, step=1](%336), scope: RNN_ENCODER/Dropout[drop]\n  %337 : Float(48, 15, 300) = aten::as_strided[size=[48, 15, 300], stride=[4500, 300, 1], storage_offset=0](%336), scope: RNN_ENCODER/Dropout[drop]\n  %341 : Long(48) = prim::Constant[value=<Tensor>](), scope: RNN_ENCODER\n  %393 : Float(509, 300), %394 : Long(15), %395 : Handle = ^PackPadded(True)(%339, %341), scope: RNN_ENCODER\n  %342 : Float(15!, 48!, 300) = aten::transpose[dim0=0, dim1=1](%339), scope: RNN_ENCODER\n  %344 : Long() = aten::select[dim=0, index=47](%341), scope: RNN_ENCODER\n  %343 : Long() = aten::as_strided[size=[], stride=[], storage_offset=47](%341), scope: RNN_ENCODER\n  %345 : Byte() = aten::le[other={0}](%344), scope: RNN_ENCODER\n  %347 : Float(8!, 48!, 300) = aten::slice[dim=0, start=0, end=8, step=1](%342), scope: RNN_ENCODER\n  %346 : Float(8!, 48!, 300) = aten::as_strided[size=[8, 48, 300], stride=[300, 4500, 1], storage_offset=0](%342), scope: RNN_ENCODER\n  %348 : Float(8, 48, 300) = aten::clone(%347), scope: RNN_ENCODER\n  %349 : Float(384, 300) = aten::view[size=[-1, 300]](%348), scope: RNN_ENCODER\n  %351 : Float(1!, 48!, 300) = aten::slice[dim=0, start=8, end=9, step=1](%342), scope: RNN_ENCODER\n  %350 : Float(1!, 48!, 300) = aten::as_strided[size=[1, 48, 300], stride=[300, 4500, 1], storage_offset=2400](%342), scope: RNN_ENCODER\n  %353 : Float(1!, 40!, 300) = aten::slice[dim=1, start=0, end=40, step=1](%351), scope: RNN_ENCODER\n  %352 : Float(1!, 40!, 300) = aten::as_strided[size=[1, 40, 300], stride=[300, 4500, 1], storage_offset=2400](%351), scope: RNN_ENCODER\n  %354 : Float(1, 40, 300) = aten::clone(%353), scope: RNN_ENCODER\n  %355 : Float(40, 300) = aten::view[size=[-1, 300]](%354), scope: RNN_ENCODER\n  %357 : Float(1!, 48!, 300) = aten::slice[dim=0, start=9, end=10, step=1](%342), scope: RNN_ENCODER\n  %356 : Float(1!, 48!, 300) = aten::as_strided[size=[1, 48, 300], stride=[300, 4500, 1], storage_offset=2700](%342), scope: RNN_ENCODER\n  %359 : Float(1!, 30!, 300) = aten::slice[dim=1, start=0, end=30, step=1](%357), scope: RNN_ENCODER\n  %358 : Float(1!, 30!, 300) = aten::as_strided[size=[1, 30, 300], stride=[300, 4500, 1], storage_offset=2700](%357), scope: RNN_ENCODER\n  %360 : Float(1, 30, 300) = aten::clone(%359), scope: RNN_ENCODER\n  %361 : Float(30, 300) = aten::view[size=[-1, 300]](%360), scope: RNN_ENCODER\n  %363 : Float(1!, 48!, 300) = aten::slice[dim=0, start=10, end=11, step=1](%342), scope: RNN_ENCODER\n  %362 : Float(1!, 48!, 300) = aten::as_strided[size=[1, 48, 300], stride=[300, 4500, 1], storage_offset=3000](%342), scope: RNN_ENCODER\n  %365 : Float(1!, 19!, 300) = aten::slice[dim=1, start=0, end=19, step=1](%363), scope: RNN_ENCODER\n  %364 : Float(1!, 19!, 300) = aten::as_strided[size=[1, 19, 300], stride=[300, 4500, 1], storage_offset=3000](%363), scope: RNN_ENCODER\n  %366 : Float(1, 19, 300) = aten::clone(%365), scope: RNN_ENCODER\n  %367 : Float(19, 300) = aten::view[size=[-1, 300]](%366), scope: RNN_ENCODER\n  %369 : Float(1!, 48!, 300) = aten::slice[dim=0, start=11, end=12, step=1](%342), scope: RNN_ENCODER\n  %368 : Float(1!, 48!, 300) = aten::as_strided[size=[1, 48, 300], stride=[300, 4500, 1], storage_offset=3300](%342), scope: RNN_ENCODER\n  %371 : Float(1!, 15!, 300) = aten::slice[dim=1, start=0, end=15, step=1](%369), scope: RNN_ENCODER\n  %370 : Float(1!, 15!, 300) = aten::as_strided[size=[1, 15, 300], stride=[300, 4500, 1], storage_offset=3300](%369), scope: RNN_ENCODER\n  %372 : Float(1, 15, 300) = aten::clone(%371), scope: RNN_ENCODER\n  %373 : Float(15, 300) = aten::view[size=[-1, 300]](%372), scope: RNN_ENCODER\n  %375 : Float(1!, 48!, 300) = aten::slice[dim=0, start=12, end=13, step=1](%342), scope: RNN_ENCODER\n  %374 : Float(1!, 48!, 300) = aten::as_strided[size=[1, 48, 300], stride=[300, 4500, 1], storage_offset=3600](%342), scope: RNN_ENCODER\n  %377 : Float(1!, 11!, 300) = aten::slice[dim=1, start=0, end=11, step=1](%375), scope: RNN_ENCODER\n  %376 : Float(1!, 11!, 300) = aten::as_strided[size=[1, 11, 300], stride=[300, 4500, 1], storage_offset=3600](%375), scope: RNN_ENCODER\n  %378 : Float(1, 11, 300) = aten::clone(%377), scope: RNN_ENCODER\n  %379 : Float(11, 300) = aten::view[size=[-1, 300]](%378), scope: RNN_ENCODER\n  %381 : Float(1!, 48!, 300) = aten::slice[dim=0, start=13, end=14, step=1](%342), scope: RNN_ENCODER\n  %380 : Float(1!, 48!, 300) = aten::as_strided[size=[1, 48, 300], stride=[300, 4500, 1], storage_offset=3900](%342), scope: RNN_ENCODER\n  %383 : Float(1!, 7!, 300) = aten::slice[dim=1, start=0, end=7, step=1](%381), scope: RNN_ENCODER\n  %382 : Float(1!, 7!, 300) = aten::as_strided[size=[1, 7, 300], stride=[300, 4500, 1], storage_offset=3900](%381), scope: RNN_ENCODER\n  %384 : Float(1, 7, 300) = aten::clone(%383), scope: RNN_ENCODER\n  %385 : Float(7, 300) = aten::view[size=[-1, 300]](%384), scope: RNN_ENCODER\n  %387 : Float(1!, 48!, 300) = aten::slice[dim=0, start=14, end=15, step=1](%342), scope: RNN_ENCODER\n  %386 : Float(1!, 48!, 300) = aten::as_strided[size=[1, 48, 300], stride=[300, 4500, 1], storage_offset=4200](%342), scope: RNN_ENCODER\n  %389 : Float(1!, 3!, 300) = aten::slice[dim=1, start=0, end=3, step=1](%387), scope: RNN_ENCODER\n  %388 : Float(1!, 3!, 300) = aten::as_strided[size=[1, 3, 300], stride=[300, 4500, 1], storage_offset=4200](%387), scope: RNN_ENCODER\n  %390 : Float(1, 3, 300) = aten::clone(%389), scope: RNN_ENCODER\n  %391 : Float(3, 300) = aten::view[size=[-1, 300]](%390), scope: RNN_ENCODER\n  %392 : Float(509, 300) = aten::cat[dim=0](%349, %355, %361, %367, %373, %379, %385, %391), scope: RNN_ENCODER\n  %396 : Long(48, 15) = prim::Constant[value=<Tensor>](), scope: RNN_ENCODER\n  %397 : Float(48, 15, 300) = aten::embedding[padding_idx=-1, scale_grad_by_freq=0, sparse=0](%4, %396), scope: RNN_ENCODER\n  %400 : Float(48, 15, 300), %401 : Handle = ^Dropout(0.5, False, False)(%397), scope: RNN_ENCODER/Dropout[drop]\n  %399 : Float(48, 15, 300) = aten::slice[dim=0, start=0, end=9223372036854775807, step=1](%397), scope: RNN_ENCODER/Dropout[drop]\n  %398 : Float(48, 15, 300) = aten::as_strided[size=[48, 15, 300], stride=[4500, 300, 1], storage_offset=0](%397), scope: RNN_ENCODER/Dropout[drop]\n  %402 : Long(48) = prim::Constant[value=<Tensor>](), scope: RNN_ENCODER\n  %454 : Float(509, 300), %455 : Long(15), %456 : Handle = ^PackPadded(True)(%400, %402), scope: RNN_ENCODER\n  %403 : Float(15!, 48!, 300) = aten::transpose[dim0=0, dim1=1](%400), scope: RNN_ENCODER\n  %405 : Long() = aten::select[dim=0, index=47](%402), scope: RNN_ENCODER\n  %404 : Long() = aten::as_strided[size=[], stride=[], storage_offset=47](%402), scope: RNN_ENCODER\n  %406 : Byte() = aten::le[other={0}](%405), scope: RNN_ENCODER\n  %408 : Float(8!, 48!, 300) = aten::slice[dim=0, start=0, end=8, step=1](%403), scope: RNN_ENCODER\n  %407 : Float(8!, 48!, 300) = aten::as_strided[size=[8, 48, 300], stride=[300, 4500, 1], storage_offset=0](%403), scope: RNN_ENCODER\n  %409 : Float(8, 48, 300) = aten::clone(%408), scope: RNN_ENCODER\n  %410 : Float(384, 300) = aten::view[size=[-1, 300]](%409), scope: RNN_ENCODER\n  %412 : Float(1!, 48!, 300) = aten::slice[dim=0, start=8, end=9, step=1](%403), scope: RNN_ENCODER\n  %411 : Float(1!, 48!, 300) = aten::as_strided[size=[1, 48, 300], stride=[300, 4500, 1], storage_offset=2400](%403), scope: RNN_ENCODER\n  %414 : Float(1!, 40!, 300) = aten::slice[dim=1, start=0, end=40, step=1](%412), scope: RNN_ENCODER\n  %413 : Float(1!, 40!, 300) = aten::as_strided[size=[1, 40, 300], stride=[300, 4500, 1], storage_offset=2400](%412), scope: RNN_ENCODER\n  %415 : Float(1, 40, 300) = aten::clone(%414), scope: RNN_ENCODER\n  %416 : Float(40, 300) = aten::view[size=[-1, 300]](%415), scope: RNN_ENCODER\n  %418 : Float(1!, 48!, 300) = aten::slice[dim=0, start=9, end=10, step=1](%403), scope: RNN_ENCODER\n  %417 : Float(1!, 48!, 300) = aten::as_strided[size=[1, 48, 300], stride=[300, 4500, 1], storage_offset=2700](%403), scope: RNN_ENCODER\n  %420 : Float(1!, 30!, 300) = aten::slice[dim=1, start=0, end=30, step=1](%418), scope: RNN_ENCODER\n  %419 : Float(1!, 30!, 300) = aten::as_strided[size=[1, 30, 300], stride=[300, 4500, 1], storage_offset=2700](%418), scope: RNN_ENCODER\n  %421 : Float(1, 30, 300) = aten::clone(%420), scope: RNN_ENCODER\n  %422 : Float(30, 300) = aten::view[size=[-1, 300]](%421), scope: RNN_ENCODER\n  %424 : Float(1!, 48!, 300) = aten::slice[dim=0, start=10, end=11, step=1](%403), scope: RNN_ENCODER\n  %423 : Float(1!, 48!, 300) = aten::as_strided[size=[1, 48, 300], stride=[300, 4500, 1], storage_offset=3000](%403), scope: RNN_ENCODER\n  %426 : Float(1!, 19!, 300) = aten::slice[dim=1, start=0, end=19, step=1](%424), scope: RNN_ENCODER\n  %425 : Float(1!, 19!, 300) = aten::as_strided[size=[1, 19, 300], stride=[300, 4500, 1], storage_offset=3000](%424), scope: RNN_ENCODER\n  %427 : Float(1, 19, 300) = aten::clone(%426), scope: RNN_ENCODER\n  %428 : Float(19, 300) = aten::view[size=[-1, 300]](%427), scope: RNN_ENCODER\n  %430 : Float(1!, 48!, 300) = aten::slice[dim=0, start=11, end=12, step=1](%403), scope: RNN_ENCODER\n  %429 : Float(1!, 48!, 300) = aten::as_strided[size=[1, 48, 300], stride=[300, 4500, 1], storage_offset=3300](%403), scope: RNN_ENCODER\n  %432 : Float(1!, 15!, 300) = aten::slice[dim=1, start=0, end=15, step=1](%430), scope: RNN_ENCODER\n  %431 : Float(1!, 15!, 300) = aten::as_strided[size=[1, 15, 300], stride=[300, 4500, 1], storage_offset=3300](%430), scope: RNN_ENCODER\n  %433 : Float(1, 15, 300) = aten::clone(%432), scope: RNN_ENCODER\n  %434 : Float(15, 300) = aten::view[size=[-1, 300]](%433), scope: RNN_ENCODER\n  %436 : Float(1!, 48!, 300) = aten::slice[dim=0, start=12, end=13, step=1](%403), scope: RNN_ENCODER\n  %435 : Float(1!, 48!, 300) = aten::as_strided[size=[1, 48, 300], stride=[300, 4500, 1], storage_offset=3600](%403), scope: RNN_ENCODER\n  %438 : Float(1!, 11!, 300) = aten::slice[dim=1, start=0, end=11, step=1](%436), scope: RNN_ENCODER\n  %437 : Float(1!, 11!, 300) = aten::as_strided[size=[1, 11, 300], stride=[300, 4500, 1], storage_offset=3600](%436), scope: RNN_ENCODER\n  %439 : Float(1, 11, 300) = aten::clone(%438), scope: RNN_ENCODER\n  %440 : Float(11, 300) = aten::view[size=[-1, 300]](%439), scope: RNN_ENCODER\n  %442 : Float(1!, 48!, 300) = aten::slice[dim=0, start=13, end=14, step=1](%403), scope: RNN_ENCODER\n  %441 : Float(1!, 48!, 300) = aten::as_strided[size=[1, 48, 300], stride=[300, 4500, 1], storage_offset=3900](%403), scope: RNN_ENCODER\n  %444 : Float(1!, 7!, 300) = aten::slice[dim=1, start=0, end=7, step=1](%442), scope: RNN_ENCODER\n  %443 : Float(1!, 7!, 300) = aten::as_strided[size=[1, 7, 300], stride=[300, 4500, 1], storage_offset=3900](%442), scope: RNN_ENCODER\n  %445 : Float(1, 7, 300) = aten::clone(%444), scope: RNN_ENCODER\n  %446 : Float(7, 300) = aten::view[size=[-1, 300]](%445), scope: RNN_ENCODER\n  %448 : Float(1!, 48!, 300) = aten::slice[dim=0, start=14, end=15, step=1](%403), scope: RNN_ENCODER\n  %447 : Float(1!, 48!, 300) = aten::as_strided[size=[1, 48, 300], stride=[300, 4500, 1], storage_offset=4200](%403), scope: RNN_ENCODER\n  %450 : Float(1!, 3!, 300) = aten::slice[dim=1, start=0, end=3, step=1](%448), scope: RNN_ENCODER\n  %449 : Float(1!, 3!, 300) = aten::as_strided[size=[1, 3, 300], stride=[300, 4500, 1], storage_offset=4200](%448), scope: RNN_ENCODER\n  %451 : Float(1, 3, 300) = aten::clone(%450), scope: RNN_ENCODER\n  %452 : Float(3, 300) = aten::view[size=[-1, 300]](%451), scope: RNN_ENCODER\n  %453 : Float(509, 300) = aten::cat[dim=0](%410, %416, %422, %428, %434, %440, %446, %452), scope: RNN_ENCODER\n  %458 : Long() = aten::select[dim=0, index=0](%1)\n  %457 : Long() = aten::as_strided[size=[], stride=[], storage_offset=0](%1)\n  %460 : Long() = aten::select[dim=0, index=1](%1)\n  %459 : Long() = aten::as_strided[size=[], stride=[], storage_offset=1](%1)\n  %462 : Long() = aten::select[dim=0, index=2](%1)\n  %461 : Long() = aten::as_strided[size=[], stride=[], storage_offset=2](%1)\n  %464 : Long() = aten::select[dim=0, index=3](%1)\n  %463 : Long() = aten::as_strided[size=[], stride=[], storage_offset=3](%1)\n  %466 : Long() = aten::select[dim=0, index=4](%1)\n  %465 : Long() = aten::as_strided[size=[], stride=[], storage_offset=4](%1)\n  %468 : Long() = aten::select[dim=0, index=5](%1)\n  %467 : Long() = aten::as_strided[size=[], stride=[], storage_offset=5](%1)\n  %470 : Long() = aten::select[dim=0, index=6](%1)\n  %469 : Long() = aten::as_strided[size=[], stride=[], storage_offset=6](%1)\n  %472 : Long() = aten::select[dim=0, index=7](%1)\n  %471 : Long() = aten::as_strided[size=[], stride=[], storage_offset=7](%1)\n  %474 : Long() = aten::select[dim=0, index=8](%1)\n  %473 : Long() = aten::as_strided[size=[], stride=[], storage_offset=8](%1)\n  %476 : Long() = aten::select[dim=0, index=9](%1)\n  %475 : Long() = aten::as_strided[size=[], stride=[], storage_offset=9](%1)\n  %478 : Long() = aten::select[dim=0, index=10](%1)\n  %477 : Long() = aten::as_strided[size=[], stride=[], storage_offset=10](%1)\n  %480 : Long() = aten::select[dim=0, index=11](%1)\n  %479 : Long() = aten::as_strided[size=[], stride=[], storage_offset=11](%1)\n  %482 : Long() = aten::select[dim=0, index=12](%1)\n  %481 : Long() = aten::as_strided[size=[], stride=[], storage_offset=12](%1)\n  %484 : Long() = aten::select[dim=0, index=13](%1)\n  %483 : Long() = aten::as_strided[size=[], stride=[], storage_offset=13](%1)\n  %486 : Long() = aten::select[dim=0, index=14](%1)\n  %485 : Long() = aten::as_strided[size=[], stride=[], storage_offset=14](%1)\n  %488 : Long() = aten::select[dim=0, index=15](%1)\n  %487 : Long() = aten::as_strided[size=[], stride=[], storage_offset=15](%1)\n  %490 : Long() = aten::select[dim=0, index=16](%1)\n  %489 : Long() = aten::as_strided[size=[], stride=[], storage_offset=16](%1)\n  %492 : Long() = aten::select[dim=0, index=17](%1)\n  %491 : Long() = aten::as_strided[size=[], stride=[], storage_offset=17](%1)\n  %494 : Long() = aten::select[dim=0, index=18](%1)\n  %493 : Long() = aten::as_strided[size=[], stride=[], storage_offset=18](%1)\n  %496 : Long() = aten::select[dim=0, index=19](%1)\n  %495 : Long() = aten::as_strided[size=[], stride=[], storage_offset=19](%1)\n  %498 : Long() = aten::select[dim=0, index=20](%1)\n  %497 : Long() = aten::as_strided[size=[], stride=[], storage_offset=20](%1)\n  %500 : Long() = aten::select[dim=0, index=21](%1)\n  %499 : Long() = aten::as_strided[size=[], stride=[], storage_offset=21](%1)\n  %502 : Long() = aten::select[dim=0, index=22](%1)\n  %501 : Long() = aten::as_strided[size=[], stride=[], storage_offset=22](%1)\n  %504 : Long() = aten::select[dim=0, index=23](%1)\n  %503 : Long() = aten::as_strided[size=[], stride=[], storage_offset=23](%1)\n  %506 : Long() = aten::select[dim=0, index=24](%1)\n  %505 : Long() = aten::as_strided[size=[], stride=[], storage_offset=24](%1)\n  %508 : Long() = aten::select[dim=0, index=25](%1)\n  %507 : Long() = aten::as_strided[size=[], stride=[], storage_offset=25](%1)\n  %510 : Long() = aten::select[dim=0, index=26](%1)\n  %509 : Long() = aten::as_strided[size=[], stride=[], storage_offset=26](%1)\n  %512 : Long() = aten::select[dim=0, index=27](%1)\n  %511 : Long() = aten::as_strided[size=[], stride=[], storage_offset=27](%1)\n  %514 : Long() = aten::select[dim=0, index=28](%1)\n  %513 : Long() = aten::as_strided[size=[], stride=[], storage_offset=28](%1)\n  %516 : Long() = aten::select[dim=0, index=29](%1)\n  %515 : Long() = aten::as_strided[size=[], stride=[], storage_offset=29](%1)\n  %518 : Long() = aten::select[dim=0, index=30](%1)\n  %517 : Long() = aten::as_strided[size=[], stride=[], storage_offset=30](%1)\n  %520 : Long() = aten::select[dim=0, index=31](%1)\n  %519 : Long() = aten::as_strided[size=[], stride=[], storage_offset=31](%1)\n  %522 : Long() = aten::select[dim=0, index=32](%1)\n  %521 : Long() = aten::as_strided[size=[], stride=[], storage_offset=32](%1)\n  %524 : Long() = aten::select[dim=0, index=33](%1)\n  %523 : Long() = aten::as_strided[size=[], stride=[], storage_offset=33](%1)\n  %526 : Long() = aten::select[dim=0, index=34](%1)\n  %525 : Long() = aten::as_strided[size=[], stride=[], storage_offset=34](%1)\n  %528 : Long() = aten::select[dim=0, index=35](%1)\n  %527 : Long() = aten::as_strided[size=[], stride=[], storage_offset=35](%1)\n  %530 : Long() = aten::select[dim=0, index=36](%1)\n  %529 : Long() = aten::as_strided[size=[], stride=[], storage_offset=36](%1)\n  %532 : Long() = aten::select[dim=0, index=37](%1)\n  %531 : Long() = aten::as_strided[size=[], stride=[], storage_offset=37](%1)\n  %534 : Long() = aten::select[dim=0, index=38](%1)\n  %533 : Long() = aten::as_strided[size=[], stride=[], storage_offset=38](%1)\n  %536 : Long() = aten::select[dim=0, index=39](%1)\n  %535 : Long() = aten::as_strided[size=[], stride=[], storage_offset=39](%1)\n  %538 : Long() = aten::select[dim=0, index=40](%1)\n  %537 : Long() = aten::as_strided[size=[], stride=[], storage_offset=40](%1)\n  %540 : Long() = aten::select[dim=0, index=41](%1)\n  %539 : Long() = aten::as_strided[size=[], stride=[], storage_offset=41](%1)\n  %542 : Long() = aten::select[dim=0, index=42](%1)\n  %541 : Long() = aten::as_strided[size=[], stride=[], storage_offset=42](%1)\n  %544 : Long() = aten::select[dim=0, index=43](%1)\n  %543 : Long() = aten::as_strided[size=[], stride=[], storage_offset=43](%1)\n  %546 : Long() = aten::select[dim=0, index=44](%1)\n  %545 : Long() = aten::as_strided[size=[], stride=[], storage_offset=44](%1)\n  %548 : Long() = aten::select[dim=0, index=45](%1)\n  %547 : Long() = aten::as_strided[size=[], stride=[], storage_offset=45](%1)\n  %550 : Long() = aten::select[dim=0, index=46](%1)\n  %549 : Long() = aten::as_strided[size=[], stride=[], storage_offset=46](%1)\n  %552 : Long() = aten::select[dim=0, index=47](%1)\n  %551 : Long() = aten::as_strided[size=[], stride=[], storage_offset=47](%1)\n  %553 : Long(48, 15) = prim::Constant[value=<Tensor>]()\n  %554 : Float(48, 15, 300) = aten::embedding[padding_idx=-1, scale_grad_by_freq=0, sparse=0](%4, %553)\n  %557 : Float(48, 15, 300), %558 : Handle = ^Dropout(0.5, False, False)(%554), scope: Dropout\n  %556 : Float(48, 15, 300) = aten::slice[dim=0, start=0, end=9223372036854775807, step=1](%554), scope: Dropout\n  %555 : Float(48, 15, 300) = aten::as_strided[size=[48, 15, 300], stride=[4500, 300, 1], storage_offset=0](%554), scope: Dropout\n  %559 : Long(48) = prim::Constant[value=<Tensor>]()\n   = ^PackPadded(True)(%557, %559)\n  %560 : Float(15!, 48!, 300) = aten::transpose[dim0=0, dim1=1](%557)\n  %562 : Long() = aten::select[dim=0, index=47](%559)\n  %561 : Long() = aten::as_strided[size=[], stride=[], storage_offset=47](%559)\n  %563 : Byte() = aten::le[other={0}](%562)\n  %565 : Float(8!, 48!, 300) = aten::slice[dim=0, start=0, end=8, step=1](%560)\n  %564 : Float(8!, 48!, 300) = aten::as_strided[size=[8, 48, 300], stride=[300, 4500, 1], storage_offset=0](%560)\n  %566 : Float(8, 48, 300) = aten::clone(%565)\n  %567 : Float(384, 300) = aten::view[size=[-1, 300]](%566)\n  %568 : Long(48, 15) = prim::Constant[value=<Tensor>]()\n  %569 : Float(48, 15, 300) = aten::embedding[padding_idx=-1, scale_grad_by_freq=0, sparse=0](%4, %568)\n  %572 : Float(48, 15, 300), %573 : Handle = ^Dropout(0.5, False, False)(%569), scope: Dropout\n  %571 : Float(48, 15, 300) = aten::slice[dim=0, start=0, end=9223372036854775807, step=1](%569), scope: Dropout\n  %570 : Float(48, 15, 300) = aten::as_strided[size=[48, 15, 300], stride=[4500, 300, 1], storage_offset=0](%569), scope: Dropout\n  %574 : Long(48) = prim::Constant[value=<Tensor>]()\n   = ^PackPadded(True)(%572, %574)\n  %575 : Float(15!, 48!, 300) = aten::transpose[dim0=0, dim1=1](%572)\n  %577 : Long() = aten::select[dim=0, index=47](%574)\n  %576 : Long() = aten::as_strided[size=[], stride=[], storage_offset=47](%574)\n  %578 : Byte() = aten::le[other={0}](%577)\n  %580 : Float(1!, 48!, 300) = aten::slice[dim=0, start=0, end=1, step=1](%575)\n  %579 : Float(1!, 48!, 300) = aten::as_strided[size=[1, 48, 300], stride=[300, 4500, 1], storage_offset=0](%575)\n  %581 : Float(1, 48, 300) = aten::clone(%580)\n  %582 : Float(48, 300) = aten::view[size=[-1, 300]](%581)\n  %584 : Float(12!, 48!, 300) = aten::slice[dim=0, start=1, end=13, step=1](%575)\n  %583 : Float(12!, 48!, 300) = aten::as_strided[size=[12, 48, 300], stride=[300, 4500, 1], storage_offset=300](%575)\n  %586 : Float(12!, 47!, 300) = aten::slice[dim=1, start=0, end=47, step=1](%584)\n  %585 : Float(12!, 47!, 300) = aten::as_strided[size=[12, 47, 300], stride=[300, 4500, 1], storage_offset=300](%584)\n  %587 : Float(12, 47, 300) = aten::clone(%586)\n  %588 : Float(564, 300) = aten::view[size=[-1, 300]](%587)\n  %589 : Long(48, 15) = prim::Constant[value=<Tensor>](), scope: RNN_ENCODER\n  %590 : Float(48, 15, 300) = aten::embedding[padding_idx=-1, scale_grad_by_freq=0, sparse=0](%4, %589), scope: RNN_ENCODER\n  %593 : Float(48, 15, 300), %594 : Handle = ^Dropout(0.5, False, False)(%590), scope: RNN_ENCODER/Dropout[drop]\n  %592 : Float(48, 15, 300) = aten::slice[dim=0, start=0, end=9223372036854775807, step=1](%590), scope: RNN_ENCODER/Dropout[drop]\n  %591 : Float(48, 15, 300) = aten::as_strided[size=[48, 15, 300], stride=[4500, 300, 1], storage_offset=0](%590), scope: RNN_ENCODER/Dropout[drop]\n  %595 : Long(48) = prim::Constant[value=<Tensor>](), scope: RNN_ENCODER\n  %647 : Float(509, 300), %648 : Long(15), %649 : Handle = ^PackPadded(True)(%593, %595), scope: RNN_ENCODER\n  %596 : Float(15!, 48!, 300) = aten::transpose[dim0=0, dim1=1](%593), scope: RNN_ENCODER\n  %598 : Long() = aten::select[dim=0, index=47](%595), scope: RNN_ENCODER\n  %597 : Long() = aten::as_strided[size=[], stride=[], storage_offset=47](%595), scope: RNN_ENCODER\n  %599 : Byte() = aten::le[other={0}](%598), scope: RNN_ENCODER\n  %601 : Float(8!, 48!, 300) = aten::slice[dim=0, start=0, end=8, step=1](%596), scope: RNN_ENCODER\n  %600 : Float(8!, 48!, 300) = aten::as_strided[size=[8, 48, 300], stride=[300, 4500, 1], storage_offset=0](%596), scope: RNN_ENCODER\n  %602 : Float(8, 48, 300) = aten::clone(%601), scope: RNN_ENCODER\n  %603 : Float(384, 300) = aten::view[size=[-1, 300]](%602), scope: RNN_ENCODER\n  %605 : Float(1!, 48!, 300) = aten::slice[dim=0, start=8, end=9, step=1](%596), scope: RNN_ENCODER\n  %604 : Float(1!, 48!, 300) = aten::as_strided[size=[1, 48, 300], stride=[300, 4500, 1], storage_offset=2400](%596), scope: RNN_ENCODER\n  %607 : Float(1!, 40!, 300) = aten::slice[dim=1, start=0, end=40, step=1](%605), scope: RNN_ENCODER\n  %606 : Float(1!, 40!, 300) = aten::as_strided[size=[1, 40, 300], stride=[300, 4500, 1], storage_offset=2400](%605), scope: RNN_ENCODER\n  %608 : Float(1, 40, 300) = aten::clone(%607), scope: RNN_ENCODER\n  %609 : Float(40, 300) = aten::view[size=[-1, 300]](%608), scope: RNN_ENCODER\n  %611 : Float(1!, 48!, 300) = aten::slice[dim=0, start=9, end=10, step=1](%596), scope: RNN_ENCODER\n  %610 : Float(1!, 48!, 300) = aten::as_strided[size=[1, 48, 300], stride=[300, 4500, 1], storage_offset=2700](%596), scope: RNN_ENCODER\n  %613 : Float(1!, 30!, 300) = aten::slice[dim=1, start=0, end=30, step=1](%611), scope: RNN_ENCODER\n  %612 : Float(1!, 30!, 300) = aten::as_strided[size=[1, 30, 300], stride=[300, 4500, 1], storage_offset=2700](%611), scope: RNN_ENCODER\n  %614 : Float(1, 30, 300) = aten::clone(%613), scope: RNN_ENCODER\n  %615 : Float(30, 300) = aten::view[size=[-1, 300]](%614), scope: RNN_ENCODER\n  %617 : Float(1!, 48!, 300) = aten::slice[dim=0, start=10, end=11, step=1](%596), scope: RNN_ENCODER\n  %616 : Float(1!, 48!, 300) = aten::as_strided[size=[1, 48, 300], stride=[300, 4500, 1], storage_offset=3000](%596), scope: RNN_ENCODER\n  %619 : Float(1!, 19!, 300) = aten::slice[dim=1, start=0, end=19, step=1](%617), scope: RNN_ENCODER\n  %618 : Float(1!, 19!, 300) = aten::as_strided[size=[1, 19, 300], stride=[300, 4500, 1], storage_offset=3000](%617), scope: RNN_ENCODER\n  %620 : Float(1, 19, 300) = aten::clone(%619), scope: RNN_ENCODER\n  %621 : Float(19, 300) = aten::view[size=[-1, 300]](%620), scope: RNN_ENCODER\n  %623 : Float(1!, 48!, 300) = aten::slice[dim=0, start=11, end=12, step=1](%596), scope: RNN_ENCODER\n  %622 : Float(1!, 48!, 300) = aten::as_strided[size=[1, 48, 300], stride=[300, 4500, 1], storage_offset=3300](%596), scope: RNN_ENCODER\n  %625 : Float(1!, 15!, 300) = aten::slice[dim=1, start=0, end=15, step=1](%623), scope: RNN_ENCODER\n  %624 : Float(1!, 15!, 300) = aten::as_strided[size=[1, 15, 300], stride=[300, 4500, 1], storage_offset=3300](%623), scope: RNN_ENCODER\n  %626 : Float(1, 15, 300) = aten::clone(%625), scope: RNN_ENCODER\n  %627 : Float(15, 300) = aten::view[size=[-1, 300]](%626), scope: RNN_ENCODER\n  %629 : Float(1!, 48!, 300) = aten::slice[dim=0, start=12, end=13, step=1](%596), scope: RNN_ENCODER\n  %628 : Float(1!, 48!, 300) = aten::as_strided[size=[1, 48, 300], stride=[300, 4500, 1], storage_offset=3600](%596), scope: RNN_ENCODER\n  %631 : Float(1!, 11!, 300) = aten::slice[dim=1, start=0, end=11, step=1](%629), scope: RNN_ENCODER\n  %630 : Float(1!, 11!, 300) = aten::as_strided[size=[1, 11, 300], stride=[300, 4500, 1], storage_offset=3600](%629), scope: RNN_ENCODER\n  %632 : Float(1, 11, 300) = aten::clone(%631), scope: RNN_ENCODER\n  %633 : Float(11, 300) = aten::view[size=[-1, 300]](%632), scope: RNN_ENCODER\n  %635 : Float(1!, 48!, 300) = aten::slice[dim=0, start=13, end=14, step=1](%596), scope: RNN_ENCODER\n  %634 : Float(1!, 48!, 300) = aten::as_strided[size=[1, 48, 300], stride=[300, 4500, 1], storage_offset=3900](%596), scope: RNN_ENCODER\n  %637 : Float(1!, 7!, 300) = aten::slice[dim=1, start=0, end=7, step=1](%635), scope: RNN_ENCODER\n  %636 : Float(1!, 7!, 300) = aten::as_strided[size=[1, 7, 300], stride=[300, 4500, 1], storage_offset=3900](%635), scope: RNN_ENCODER\n  %638 : Float(1, 7, 300) = aten::clone(%637), scope: RNN_ENCODER\n  %639 : Float(7, 300) = aten::view[size=[-1, 300]](%638), scope: RNN_ENCODER\n  %641 : Float(1!, 48!, 300) = aten::slice[dim=0, start=14, end=15, step=1](%596), scope: RNN_ENCODER\n  %640 : Float(1!, 48!, 300) = aten::as_strided[size=[1, 48, 300], stride=[300, 4500, 1], storage_offset=4200](%596), scope: RNN_ENCODER\n  %643 : Float(1!, 3!, 300) = aten::slice[dim=1, start=0, end=3, step=1](%641), scope: RNN_ENCODER\n  %642 : Float(1!, 3!, 300) = aten::as_strided[size=[1, 3, 300], stride=[300, 4500, 1], storage_offset=4200](%641), scope: RNN_ENCODER\n  %644 : Float(1, 3, 300) = aten::clone(%643), scope: RNN_ENCODER\n  %645 : Float(3, 300) = aten::view[size=[-1, 300]](%644), scope: RNN_ENCODER\n  %646 : Float(509, 300) = aten::cat[dim=0](%603, %609, %615, %621, %627, %633, %639, %645), scope: RNN_ENCODER\n  return ();\n}\n, <function _symbolic_pack_padded_sequence.<locals>.pack_padded_sequence_trace_wrapper at 0x1c1a14f6a8>, [593 defined in (%593 : Float(48, 15, 300), %594 : Handle = ^Dropout(0.5, False, False)(%590), scope: RNN_ENCODER/Dropout[drop]\n), [15, 15, 15, 14, 14, 14, 14, 13, 13, 13, 13, 12, 12, 12, 12, 11, 11, 11, 11, 10, 10, 10, 10, 10, 10, 10, 10, 10, 10, 10, 9, 9, 9, 9, 9, 9, 9, 9, 9, 9, 8, 8, 8, 8, 8, 8, 8, 8]], 2, <function _symbolic_pack_padded_sequence.<locals>._onnx_symbolic_pack_padded_sequence at 0x1c1a142c80>"
     ]
    }
   ],
   "source": [
    "# output = text_encoder(captions, cap_lens, hidden)\n",
    "captions_fake_input = torch.randint(1, 23046, (48, 15), dtype=torch.long)\n",
    "cap_lens_fake_input = torch.randint(1, 15, (48,), dtype=torch.long)\n",
    "hidden_fake_input = torch.randint(1, 10, (2, 48, 128), dtype=torch.long)\n",
    "\n",
    "words_emb, sent_emb = text_encoder(captions_fake_input, cap_lens, hidden_fake_input)"
   ]
  },
  {
   "cell_type": "code",
   "execution_count": 24,
   "metadata": {
    "collapsed": false
   },
   "outputs": [
    {
     "ename": "TypeError",
     "evalue": "wrapPyFuncWithSymbolic(): incompatible function arguments. The following argument types are supported:\n    1. (self: torch._C.Graph, arg0: function, arg1: List[torch::jit::Value], arg2: int, arg3: function) -> iterator\n\nInvoked with: graph(%0 : Long(48, 15)\n      %1 : Long(48)\n      %2 : Float(2, 48, 128)\n      %3 : Float(2, 48, 128)\n      %4 : Float(27297, 300)\n      %5 : Float(512, 300)\n      %6 : Float(512, 128)\n      %7 : Float(512)\n      %8 : Float(512)\n      %9 : Float(512, 300)\n      %10 : Float(512, 128)\n      %11 : Float(512)\n      %12 : Float(512)) {\n  %13 : Float(48, 15, 300) = aten::embedding[padding_idx=-1, scale_grad_by_freq=0, sparse=0](%4, %0), scope: RNN_ENCODER/Embedding[encoder]\n  %16 : Float(48, 15, 300), %17 : Handle = ^Dropout(0.5, False, False)(%13), scope: RNN_ENCODER/Dropout[drop]\n  %15 : Float(48, 15, 300) = aten::slice[dim=0, start=0, end=9223372036854775807, step=1](%13), scope: RNN_ENCODER/Dropout[drop]\n  %14 : Float(48, 15, 300) = aten::as_strided[size=[48, 15, 300], stride=[4500, 300, 1], storage_offset=0](%13), scope: RNN_ENCODER/Dropout[drop]\n  %18 : Long(48) = prim::Constant[value=<Tensor>](), scope: RNN_ENCODER\n  %70 : Float(509, 300), %71 : Long(15), %72 : Handle = ^PackPadded(True)(%16, %18), scope: RNN_ENCODER\n  %19 : Float(15!, 48!, 300) = aten::transpose[dim0=0, dim1=1](%16), scope: RNN_ENCODER\n  %21 : Long() = aten::select[dim=0, index=47](%18), scope: RNN_ENCODER\n  %20 : Long() = aten::as_strided[size=[], stride=[], storage_offset=47](%18), scope: RNN_ENCODER\n  %22 : Byte() = aten::le[other={0}](%21), scope: RNN_ENCODER\n  %24 : Float(8!, 48!, 300) = aten::slice[dim=0, start=0, end=8, step=1](%19), scope: RNN_ENCODER\n  %23 : Float(8!, 48!, 300) = aten::as_strided[size=[8, 48, 300], stride=[300, 4500, 1], storage_offset=0](%19), scope: RNN_ENCODER\n  %25 : Float(8, 48, 300) = aten::clone(%24), scope: RNN_ENCODER\n  %26 : Float(384, 300) = aten::view[size=[-1, 300]](%25), scope: RNN_ENCODER\n  %28 : Float(1!, 48!, 300) = aten::slice[dim=0, start=8, end=9, step=1](%19), scope: RNN_ENCODER\n  %27 : Float(1!, 48!, 300) = aten::as_strided[size=[1, 48, 300], stride=[300, 4500, 1], storage_offset=2400](%19), scope: RNN_ENCODER\n  %30 : Float(1!, 40!, 300) = aten::slice[dim=1, start=0, end=40, step=1](%28), scope: RNN_ENCODER\n  %29 : Float(1!, 40!, 300) = aten::as_strided[size=[1, 40, 300], stride=[300, 4500, 1], storage_offset=2400](%28), scope: RNN_ENCODER\n  %31 : Float(1, 40, 300) = aten::clone(%30), scope: RNN_ENCODER\n  %32 : Float(40, 300) = aten::view[size=[-1, 300]](%31), scope: RNN_ENCODER\n  %34 : Float(1!, 48!, 300) = aten::slice[dim=0, start=9, end=10, step=1](%19), scope: RNN_ENCODER\n  %33 : Float(1!, 48!, 300) = aten::as_strided[size=[1, 48, 300], stride=[300, 4500, 1], storage_offset=2700](%19), scope: RNN_ENCODER\n  %36 : Float(1!, 30!, 300) = aten::slice[dim=1, start=0, end=30, step=1](%34), scope: RNN_ENCODER\n  %35 : Float(1!, 30!, 300) = aten::as_strided[size=[1, 30, 300], stride=[300, 4500, 1], storage_offset=2700](%34), scope: RNN_ENCODER\n  %37 : Float(1, 30, 300) = aten::clone(%36), scope: RNN_ENCODER\n  %38 : Float(30, 300) = aten::view[size=[-1, 300]](%37), scope: RNN_ENCODER\n  %40 : Float(1!, 48!, 300) = aten::slice[dim=0, start=10, end=11, step=1](%19), scope: RNN_ENCODER\n  %39 : Float(1!, 48!, 300) = aten::as_strided[size=[1, 48, 300], stride=[300, 4500, 1], storage_offset=3000](%19), scope: RNN_ENCODER\n  %42 : Float(1!, 19!, 300) = aten::slice[dim=1, start=0, end=19, step=1](%40), scope: RNN_ENCODER\n  %41 : Float(1!, 19!, 300) = aten::as_strided[size=[1, 19, 300], stride=[300, 4500, 1], storage_offset=3000](%40), scope: RNN_ENCODER\n  %43 : Float(1, 19, 300) = aten::clone(%42), scope: RNN_ENCODER\n  %44 : Float(19, 300) = aten::view[size=[-1, 300]](%43), scope: RNN_ENCODER\n  %46 : Float(1!, 48!, 300) = aten::slice[dim=0, start=11, end=12, step=1](%19), scope: RNN_ENCODER\n  %45 : Float(1!, 48!, 300) = aten::as_strided[size=[1, 48, 300], stride=[300, 4500, 1], storage_offset=3300](%19), scope: RNN_ENCODER\n  %48 : Float(1!, 15!, 300) = aten::slice[dim=1, start=0, end=15, step=1](%46), scope: RNN_ENCODER\n  %47 : Float(1!, 15!, 300) = aten::as_strided[size=[1, 15, 300], stride=[300, 4500, 1], storage_offset=3300](%46), scope: RNN_ENCODER\n  %49 : Float(1, 15, 300) = aten::clone(%48), scope: RNN_ENCODER\n  %50 : Float(15, 300) = aten::view[size=[-1, 300]](%49), scope: RNN_ENCODER\n  %52 : Float(1!, 48!, 300) = aten::slice[dim=0, start=12, end=13, step=1](%19), scope: RNN_ENCODER\n  %51 : Float(1!, 48!, 300) = aten::as_strided[size=[1, 48, 300], stride=[300, 4500, 1], storage_offset=3600](%19), scope: RNN_ENCODER\n  %54 : Float(1!, 11!, 300) = aten::slice[dim=1, start=0, end=11, step=1](%52), scope: RNN_ENCODER\n  %53 : Float(1!, 11!, 300) = aten::as_strided[size=[1, 11, 300], stride=[300, 4500, 1], storage_offset=3600](%52), scope: RNN_ENCODER\n  %55 : Float(1, 11, 300) = aten::clone(%54), scope: RNN_ENCODER\n  %56 : Float(11, 300) = aten::view[size=[-1, 300]](%55), scope: RNN_ENCODER\n  %58 : Float(1!, 48!, 300) = aten::slice[dim=0, start=13, end=14, step=1](%19), scope: RNN_ENCODER\n  %57 : Float(1!, 48!, 300) = aten::as_strided[size=[1, 48, 300], stride=[300, 4500, 1], storage_offset=3900](%19), scope: RNN_ENCODER\n  %60 : Float(1!, 7!, 300) = aten::slice[dim=1, start=0, end=7, step=1](%58), scope: RNN_ENCODER\n  %59 : Float(1!, 7!, 300) = aten::as_strided[size=[1, 7, 300], stride=[300, 4500, 1], storage_offset=3900](%58), scope: RNN_ENCODER\n  %61 : Float(1, 7, 300) = aten::clone(%60), scope: RNN_ENCODER\n  %62 : Float(7, 300) = aten::view[size=[-1, 300]](%61), scope: RNN_ENCODER\n  %64 : Float(1!, 48!, 300) = aten::slice[dim=0, start=14, end=15, step=1](%19), scope: RNN_ENCODER\n  %63 : Float(1!, 48!, 300) = aten::as_strided[size=[1, 48, 300], stride=[300, 4500, 1], storage_offset=4200](%19), scope: RNN_ENCODER\n  %66 : Float(1!, 3!, 300) = aten::slice[dim=1, start=0, end=3, step=1](%64), scope: RNN_ENCODER\n  %65 : Float(1!, 3!, 300) = aten::as_strided[size=[1, 3, 300], stride=[300, 4500, 1], storage_offset=4200](%64), scope: RNN_ENCODER\n  %67 : Float(1, 3, 300) = aten::clone(%66), scope: RNN_ENCODER\n  %68 : Float(3, 300) = aten::view[size=[-1, 300]](%67), scope: RNN_ENCODER\n  %69 : Float(509, 300) = aten::cat[dim=0](%26, %32, %38, %44, %50, %56, %62, %68), scope: RNN_ENCODER\n  return ();\n}\n, <function _symbolic_pack_padded_sequence.<locals>.pack_padded_sequence_trace_wrapper at 0x1c1a14f8c8>, [16 defined in (%16 : Float(48, 15, 300), %17 : Handle = ^Dropout(0.5, False, False)(%13), scope: RNN_ENCODER/Dropout[drop]\n), [15, 15, 15, 14, 14, 14, 14, 13, 13, 13, 13, 12, 12, 12, 12, 11, 11, 11, 11, 10, 10, 10, 10, 10, 10, 10, 10, 10, 10, 10, 9, 9, 9, 9, 9, 9, 9, 9, 9, 9, 8, 8, 8, 8, 8, 8, 8, 8]], 2, <function _symbolic_pack_padded_sequence.<locals>._onnx_symbolic_pack_padded_sequence at 0x1c1a14f840>",
     "output_type": "error",
     "traceback": [
      "\u001b[0;31m---------------------------------------------------------------------------\u001b[0m",
      "\u001b[0;31mTypeError\u001b[0m                                 Traceback (most recent call last)",
      "\u001b[0;32m<ipython-input-24-d2ab48902192>\u001b[0m in \u001b[0;36m<module>\u001b[0;34m()\u001b[0m\n\u001b[1;32m      3\u001b[0m                                \u001b[0;34m(\u001b[0m\u001b[0mcaptions_fake_input\u001b[0m\u001b[0;34m,\u001b[0m \u001b[0mcap_lens\u001b[0m\u001b[0;34m,\u001b[0m \u001b[0mhidden\u001b[0m\u001b[0;34m)\u001b[0m\u001b[0;34m,\u001b[0m \u001b[0;31m# model input (or a tuple for multiple inputs)\u001b[0m\u001b[0;34m\u001b[0m\u001b[0m\n\u001b[1;32m      4\u001b[0m                                \u001b[0;34m\"super_resolution.onnx\"\u001b[0m\u001b[0;34m,\u001b[0m      \u001b[0;31m# where to save the model (can be a file or file-like object)\u001b[0m\u001b[0;34m\u001b[0m\u001b[0m\n\u001b[0;32m----> 5\u001b[0;31m                                export_params=True)           # store the trained parameter weights inside the model file\n\u001b[0m",
      "\u001b[0;32m~/anaconda/lib/python3.6/site-packages/torch/onnx/__init__.py\u001b[0m in \u001b[0;36m_export\u001b[0;34m(*args, **kwargs)\u001b[0m\n\u001b[1;32m     18\u001b[0m \u001b[0;32mdef\u001b[0m \u001b[0m_export\u001b[0m\u001b[0;34m(\u001b[0m\u001b[0;34m*\u001b[0m\u001b[0margs\u001b[0m\u001b[0;34m,\u001b[0m \u001b[0;34m**\u001b[0m\u001b[0mkwargs\u001b[0m\u001b[0;34m)\u001b[0m\u001b[0;34m:\u001b[0m\u001b[0;34m\u001b[0m\u001b[0m\n\u001b[1;32m     19\u001b[0m     \u001b[0;32mfrom\u001b[0m \u001b[0mtorch\u001b[0m\u001b[0;34m.\u001b[0m\u001b[0monnx\u001b[0m \u001b[0;32mimport\u001b[0m \u001b[0mutils\u001b[0m\u001b[0;34m\u001b[0m\u001b[0m\n\u001b[0;32m---> 20\u001b[0;31m     \u001b[0;32mreturn\u001b[0m \u001b[0mutils\u001b[0m\u001b[0;34m.\u001b[0m\u001b[0m_export\u001b[0m\u001b[0;34m(\u001b[0m\u001b[0;34m*\u001b[0m\u001b[0margs\u001b[0m\u001b[0;34m,\u001b[0m \u001b[0;34m**\u001b[0m\u001b[0mkwargs\u001b[0m\u001b[0;34m)\u001b[0m\u001b[0;34m\u001b[0m\u001b[0m\n\u001b[0m\u001b[1;32m     21\u001b[0m \u001b[0;34m\u001b[0m\u001b[0m\n\u001b[1;32m     22\u001b[0m \u001b[0;34m\u001b[0m\u001b[0m\n",
      "\u001b[0;32m~/anaconda/lib/python3.6/site-packages/torch/onnx/utils.py\u001b[0m in \u001b[0;36m_export\u001b[0;34m(model, args, f, export_params, verbose, training, input_names, output_names, aten, export_type)\u001b[0m\n\u001b[1;32m    132\u001b[0m     \u001b[0;31m# training mode was.)\u001b[0m\u001b[0;34m\u001b[0m\u001b[0;34m\u001b[0m\u001b[0m\n\u001b[1;32m    133\u001b[0m     \u001b[0;32mwith\u001b[0m \u001b[0mset_training\u001b[0m\u001b[0;34m(\u001b[0m\u001b[0mmodel\u001b[0m\u001b[0;34m,\u001b[0m \u001b[0mtraining\u001b[0m\u001b[0;34m)\u001b[0m\u001b[0;34m:\u001b[0m\u001b[0;34m\u001b[0m\u001b[0m\n\u001b[0;32m--> 134\u001b[0;31m         \u001b[0mtrace\u001b[0m\u001b[0;34m,\u001b[0m \u001b[0mtorch_out\u001b[0m \u001b[0;34m=\u001b[0m \u001b[0mtorch\u001b[0m\u001b[0;34m.\u001b[0m\u001b[0mjit\u001b[0m\u001b[0;34m.\u001b[0m\u001b[0mget_trace_graph\u001b[0m\u001b[0;34m(\u001b[0m\u001b[0mmodel\u001b[0m\u001b[0;34m,\u001b[0m \u001b[0margs\u001b[0m\u001b[0;34m)\u001b[0m\u001b[0;34m\u001b[0m\u001b[0m\n\u001b[0m\u001b[1;32m    135\u001b[0m \u001b[0;34m\u001b[0m\u001b[0m\n\u001b[1;32m    136\u001b[0m     \u001b[0;32mif\u001b[0m \u001b[0morig_state_dict_keys\u001b[0m \u001b[0;34m!=\u001b[0m \u001b[0m_unique_state_dict\u001b[0m\u001b[0;34m(\u001b[0m\u001b[0mmodel\u001b[0m\u001b[0;34m)\u001b[0m\u001b[0;34m.\u001b[0m\u001b[0mkeys\u001b[0m\u001b[0;34m(\u001b[0m\u001b[0;34m)\u001b[0m\u001b[0;34m:\u001b[0m\u001b[0;34m\u001b[0m\u001b[0m\n",
      "\u001b[0;32m~/anaconda/lib/python3.6/site-packages/torch/jit/__init__.py\u001b[0m in \u001b[0;36mget_trace_graph\u001b[0;34m(f, args, kwargs, nderivs)\u001b[0m\n\u001b[1;32m    253\u001b[0m     \u001b[0;32mif\u001b[0m \u001b[0;32mnot\u001b[0m \u001b[0misinstance\u001b[0m\u001b[0;34m(\u001b[0m\u001b[0margs\u001b[0m\u001b[0;34m,\u001b[0m \u001b[0mtuple\u001b[0m\u001b[0;34m)\u001b[0m\u001b[0;34m:\u001b[0m\u001b[0;34m\u001b[0m\u001b[0m\n\u001b[1;32m    254\u001b[0m         \u001b[0margs\u001b[0m \u001b[0;34m=\u001b[0m \u001b[0;34m(\u001b[0m\u001b[0margs\u001b[0m\u001b[0;34m,\u001b[0m\u001b[0;34m)\u001b[0m\u001b[0;34m\u001b[0m\u001b[0m\n\u001b[0;32m--> 255\u001b[0;31m     \u001b[0;32mreturn\u001b[0m \u001b[0mLegacyTracedModule\u001b[0m\u001b[0;34m(\u001b[0m\u001b[0mf\u001b[0m\u001b[0;34m,\u001b[0m \u001b[0mnderivs\u001b[0m\u001b[0;34m=\u001b[0m\u001b[0mnderivs\u001b[0m\u001b[0;34m)\u001b[0m\u001b[0;34m(\u001b[0m\u001b[0;34m*\u001b[0m\u001b[0margs\u001b[0m\u001b[0;34m,\u001b[0m \u001b[0;34m**\u001b[0m\u001b[0mkwargs\u001b[0m\u001b[0;34m)\u001b[0m\u001b[0;34m\u001b[0m\u001b[0m\n\u001b[0m\u001b[1;32m    256\u001b[0m \u001b[0;34m\u001b[0m\u001b[0m\n\u001b[1;32m    257\u001b[0m \u001b[0;34m\u001b[0m\u001b[0m\n",
      "\u001b[0;32m~/anaconda/lib/python3.6/site-packages/torch/nn/modules/module.py\u001b[0m in \u001b[0;36m__call__\u001b[0;34m(self, *input, **kwargs)\u001b[0m\n\u001b[1;32m    489\u001b[0m             \u001b[0mresult\u001b[0m \u001b[0;34m=\u001b[0m \u001b[0mself\u001b[0m\u001b[0;34m.\u001b[0m\u001b[0m_slow_forward\u001b[0m\u001b[0;34m(\u001b[0m\u001b[0;34m*\u001b[0m\u001b[0minput\u001b[0m\u001b[0;34m,\u001b[0m \u001b[0;34m**\u001b[0m\u001b[0mkwargs\u001b[0m\u001b[0;34m)\u001b[0m\u001b[0;34m\u001b[0m\u001b[0m\n\u001b[1;32m    490\u001b[0m         \u001b[0;32melse\u001b[0m\u001b[0;34m:\u001b[0m\u001b[0;34m\u001b[0m\u001b[0m\n\u001b[0;32m--> 491\u001b[0;31m             \u001b[0mresult\u001b[0m \u001b[0;34m=\u001b[0m \u001b[0mself\u001b[0m\u001b[0;34m.\u001b[0m\u001b[0mforward\u001b[0m\u001b[0;34m(\u001b[0m\u001b[0;34m*\u001b[0m\u001b[0minput\u001b[0m\u001b[0;34m,\u001b[0m \u001b[0;34m**\u001b[0m\u001b[0mkwargs\u001b[0m\u001b[0;34m)\u001b[0m\u001b[0;34m\u001b[0m\u001b[0m\n\u001b[0m\u001b[1;32m    492\u001b[0m         \u001b[0;32mfor\u001b[0m \u001b[0mhook\u001b[0m \u001b[0;32min\u001b[0m \u001b[0mself\u001b[0m\u001b[0;34m.\u001b[0m\u001b[0m_forward_hooks\u001b[0m\u001b[0;34m.\u001b[0m\u001b[0mvalues\u001b[0m\u001b[0;34m(\u001b[0m\u001b[0;34m)\u001b[0m\u001b[0;34m:\u001b[0m\u001b[0;34m\u001b[0m\u001b[0m\n\u001b[1;32m    493\u001b[0m             \u001b[0mhook_result\u001b[0m \u001b[0;34m=\u001b[0m \u001b[0mhook\u001b[0m\u001b[0;34m(\u001b[0m\u001b[0mself\u001b[0m\u001b[0;34m,\u001b[0m \u001b[0minput\u001b[0m\u001b[0;34m,\u001b[0m \u001b[0mresult\u001b[0m\u001b[0;34m)\u001b[0m\u001b[0;34m\u001b[0m\u001b[0m\n",
      "\u001b[0;32m~/anaconda/lib/python3.6/site-packages/torch/jit/__init__.py\u001b[0m in \u001b[0;36mforward\u001b[0;34m(self, *args)\u001b[0m\n\u001b[1;32m    286\u001b[0m         \u001b[0m_tracing\u001b[0m \u001b[0;34m=\u001b[0m \u001b[0;32mTrue\u001b[0m\u001b[0;34m\u001b[0m\u001b[0m\n\u001b[1;32m    287\u001b[0m         \u001b[0mtrace_inputs\u001b[0m \u001b[0;34m=\u001b[0m \u001b[0m_unflatten\u001b[0m\u001b[0;34m(\u001b[0m\u001b[0mall_trace_inputs\u001b[0m\u001b[0;34m[\u001b[0m\u001b[0;34m:\u001b[0m\u001b[0mlen\u001b[0m\u001b[0;34m(\u001b[0m\u001b[0min_vars\u001b[0m\u001b[0;34m)\u001b[0m\u001b[0;34m]\u001b[0m\u001b[0;34m,\u001b[0m \u001b[0min_desc\u001b[0m\u001b[0;34m)\u001b[0m\u001b[0;34m\u001b[0m\u001b[0m\n\u001b[0;32m--> 288\u001b[0;31m         \u001b[0mout\u001b[0m \u001b[0;34m=\u001b[0m \u001b[0mself\u001b[0m\u001b[0;34m.\u001b[0m\u001b[0minner\u001b[0m\u001b[0;34m(\u001b[0m\u001b[0;34m*\u001b[0m\u001b[0mtrace_inputs\u001b[0m\u001b[0;34m)\u001b[0m\u001b[0;34m\u001b[0m\u001b[0m\n\u001b[0m\u001b[1;32m    289\u001b[0m         \u001b[0mout_vars\u001b[0m\u001b[0;34m,\u001b[0m \u001b[0m_\u001b[0m \u001b[0;34m=\u001b[0m \u001b[0m_flatten\u001b[0m\u001b[0;34m(\u001b[0m\u001b[0mout\u001b[0m\u001b[0;34m)\u001b[0m\u001b[0;34m\u001b[0m\u001b[0m\n\u001b[1;32m    290\u001b[0m         \u001b[0m_tracing\u001b[0m \u001b[0;34m=\u001b[0m \u001b[0;32mFalse\u001b[0m\u001b[0;34m\u001b[0m\u001b[0m\n",
      "\u001b[0;32m~/anaconda/lib/python3.6/site-packages/torch/nn/modules/module.py\u001b[0m in \u001b[0;36m__call__\u001b[0;34m(self, *input, **kwargs)\u001b[0m\n\u001b[1;32m    487\u001b[0m             \u001b[0mhook\u001b[0m\u001b[0;34m(\u001b[0m\u001b[0mself\u001b[0m\u001b[0;34m,\u001b[0m \u001b[0minput\u001b[0m\u001b[0;34m)\u001b[0m\u001b[0;34m\u001b[0m\u001b[0m\n\u001b[1;32m    488\u001b[0m         \u001b[0;32mif\u001b[0m \u001b[0mtorch\u001b[0m\u001b[0;34m.\u001b[0m\u001b[0mjit\u001b[0m\u001b[0;34m.\u001b[0m\u001b[0m_tracing\u001b[0m\u001b[0;34m:\u001b[0m\u001b[0;34m\u001b[0m\u001b[0m\n\u001b[0;32m--> 489\u001b[0;31m             \u001b[0mresult\u001b[0m \u001b[0;34m=\u001b[0m \u001b[0mself\u001b[0m\u001b[0;34m.\u001b[0m\u001b[0m_slow_forward\u001b[0m\u001b[0;34m(\u001b[0m\u001b[0;34m*\u001b[0m\u001b[0minput\u001b[0m\u001b[0;34m,\u001b[0m \u001b[0;34m**\u001b[0m\u001b[0mkwargs\u001b[0m\u001b[0;34m)\u001b[0m\u001b[0;34m\u001b[0m\u001b[0m\n\u001b[0m\u001b[1;32m    490\u001b[0m         \u001b[0;32melse\u001b[0m\u001b[0;34m:\u001b[0m\u001b[0;34m\u001b[0m\u001b[0m\n\u001b[1;32m    491\u001b[0m             \u001b[0mresult\u001b[0m \u001b[0;34m=\u001b[0m \u001b[0mself\u001b[0m\u001b[0;34m.\u001b[0m\u001b[0mforward\u001b[0m\u001b[0;34m(\u001b[0m\u001b[0;34m*\u001b[0m\u001b[0minput\u001b[0m\u001b[0;34m,\u001b[0m \u001b[0;34m**\u001b[0m\u001b[0mkwargs\u001b[0m\u001b[0;34m)\u001b[0m\u001b[0;34m\u001b[0m\u001b[0m\n",
      "\u001b[0;32m~/anaconda/lib/python3.6/site-packages/torch/nn/modules/module.py\u001b[0m in \u001b[0;36m_slow_forward\u001b[0;34m(self, *input, **kwargs)\u001b[0m\n\u001b[1;32m    477\u001b[0m         \u001b[0mtracing_state\u001b[0m\u001b[0;34m.\u001b[0m\u001b[0m_traced_module_stack\u001b[0m\u001b[0;34m.\u001b[0m\u001b[0mappend\u001b[0m\u001b[0;34m(\u001b[0m\u001b[0mself\u001b[0m\u001b[0;34m)\u001b[0m\u001b[0;34m\u001b[0m\u001b[0m\n\u001b[1;32m    478\u001b[0m         \u001b[0;32mtry\u001b[0m\u001b[0;34m:\u001b[0m\u001b[0;34m\u001b[0m\u001b[0m\n\u001b[0;32m--> 479\u001b[0;31m             \u001b[0mresult\u001b[0m \u001b[0;34m=\u001b[0m \u001b[0mself\u001b[0m\u001b[0;34m.\u001b[0m\u001b[0mforward\u001b[0m\u001b[0;34m(\u001b[0m\u001b[0;34m*\u001b[0m\u001b[0minput\u001b[0m\u001b[0;34m,\u001b[0m \u001b[0;34m**\u001b[0m\u001b[0mkwargs\u001b[0m\u001b[0;34m)\u001b[0m\u001b[0;34m\u001b[0m\u001b[0m\n\u001b[0m\u001b[1;32m    480\u001b[0m         \u001b[0;32mfinally\u001b[0m\u001b[0;34m:\u001b[0m\u001b[0;34m\u001b[0m\u001b[0m\n\u001b[1;32m    481\u001b[0m             \u001b[0mtracing_state\u001b[0m\u001b[0;34m.\u001b[0m\u001b[0mpop_scope\u001b[0m\u001b[0;34m(\u001b[0m\u001b[0;34m)\u001b[0m\u001b[0;34m\u001b[0m\u001b[0m\n",
      "\u001b[0;32m~/Desktop/text-to-image-transcribed/code/model.py\u001b[0m in \u001b[0;36mforward\u001b[0;34m(self, captions, cap_lens, hidden, mask)\u001b[0m\n\u001b[1;32m    153\u001b[0m \u001b[0;34m\u001b[0m\u001b[0m\n\u001b[1;32m    154\u001b[0m         \u001b[0;31m#print(\"======= Packed emb ====== \")\u001b[0m\u001b[0;34m\u001b[0m\u001b[0;34m\u001b[0m\u001b[0m\n\u001b[0;32m--> 155\u001b[0;31m         \u001b[0memb\u001b[0m \u001b[0;34m=\u001b[0m \u001b[0mpack_padded_sequence\u001b[0m\u001b[0;34m(\u001b[0m\u001b[0memb\u001b[0m\u001b[0;34m,\u001b[0m \u001b[0mcap_lens\u001b[0m\u001b[0;34m,\u001b[0m \u001b[0mbatch_first\u001b[0m\u001b[0;34m=\u001b[0m\u001b[0;32mTrue\u001b[0m\u001b[0;34m)\u001b[0m\u001b[0;34m\u001b[0m\u001b[0m\n\u001b[0m\u001b[1;32m    156\u001b[0m         \u001b[0;31m#print(\"emb: \", emb)\u001b[0m\u001b[0;34m\u001b[0m\u001b[0;34m\u001b[0m\u001b[0m\n\u001b[1;32m    157\u001b[0m         \u001b[0;31m#print(\"emb shape: \", emb.shape)\u001b[0m\u001b[0;34m\u001b[0m\u001b[0;34m\u001b[0m\u001b[0m\n",
      "\u001b[0;32m~/anaconda/lib/python3.6/site-packages/torch/onnx/__init__.py\u001b[0m in \u001b[0;36mwrapper\u001b[0;34m(*args, **kwargs)\u001b[0m\n\u001b[1;32m     71\u001b[0m \u001b[0;34m\u001b[0m\u001b[0m\n\u001b[1;32m     72\u001b[0m         \u001b[0msymbolic_args\u001b[0m \u001b[0;34m=\u001b[0m \u001b[0mfunction\u001b[0m\u001b[0;34m.\u001b[0m\u001b[0m_unflatten\u001b[0m\u001b[0;34m(\u001b[0m\u001b[0marg_values\u001b[0m\u001b[0;34m,\u001b[0m \u001b[0margs\u001b[0m\u001b[0;34m)\u001b[0m\u001b[0;34m\u001b[0m\u001b[0m\n\u001b[0;32m---> 73\u001b[0;31m         \u001b[0moutput_vals\u001b[0m \u001b[0;34m=\u001b[0m \u001b[0msymbolic_fn\u001b[0m\u001b[0;34m(\u001b[0m\u001b[0mtstate\u001b[0m\u001b[0;34m.\u001b[0m\u001b[0mgraph\u001b[0m\u001b[0;34m(\u001b[0m\u001b[0;34m)\u001b[0m\u001b[0;34m,\u001b[0m \u001b[0;34m*\u001b[0m\u001b[0msymbolic_args\u001b[0m\u001b[0;34m,\u001b[0m \u001b[0;34m**\u001b[0m\u001b[0mkwargs\u001b[0m\u001b[0;34m)\u001b[0m\u001b[0;34m\u001b[0m\u001b[0m\n\u001b[0m\u001b[1;32m     74\u001b[0m \u001b[0;34m\u001b[0m\u001b[0m\n\u001b[1;32m     75\u001b[0m         for var, val in zip(\n",
      "\u001b[0;32m~/anaconda/lib/python3.6/site-packages/torch/nn/utils/rnn.py\u001b[0m in \u001b[0;36m_symbolic_pack_padded_sequence\u001b[0;34m(g, input, lengths, batch_first, padding_value, total_length)\u001b[0m\n\u001b[1;32m    144\u001b[0m     outputs = g.wrapPyFuncWithSymbolic(\n\u001b[1;32m    145\u001b[0m         \u001b[0mpack_padded_sequence_trace_wrapper\u001b[0m\u001b[0;34m,\u001b[0m \u001b[0;34m[\u001b[0m\u001b[0minput\u001b[0m\u001b[0;34m,\u001b[0m \u001b[0mlengths\u001b[0m\u001b[0;34m]\u001b[0m\u001b[0;34m,\u001b[0m \u001b[0;36m2\u001b[0m\u001b[0;34m,\u001b[0m\u001b[0;34m\u001b[0m\u001b[0m\n\u001b[0;32m--> 146\u001b[0;31m         _onnx_symbolic_pack_padded_sequence)\n\u001b[0m\u001b[1;32m    147\u001b[0m     \u001b[0;32mreturn\u001b[0m \u001b[0mtuple\u001b[0m\u001b[0;34m(\u001b[0m\u001b[0mo\u001b[0m \u001b[0;32mfor\u001b[0m \u001b[0mo\u001b[0m \u001b[0;32min\u001b[0m \u001b[0moutputs\u001b[0m\u001b[0;34m)\u001b[0m\u001b[0;34m\u001b[0m\u001b[0m\n\u001b[1;32m    148\u001b[0m \u001b[0;34m\u001b[0m\u001b[0m\n",
      "\u001b[0;31mTypeError\u001b[0m: wrapPyFuncWithSymbolic(): incompatible function arguments. The following argument types are supported:\n    1. (self: torch._C.Graph, arg0: function, arg1: List[torch::jit::Value], arg2: int, arg3: function) -> iterator\n\nInvoked with: graph(%0 : Long(48, 15)\n      %1 : Long(48)\n      %2 : Float(2, 48, 128)\n      %3 : Float(2, 48, 128)\n      %4 : Float(27297, 300)\n      %5 : Float(512, 300)\n      %6 : Float(512, 128)\n      %7 : Float(512)\n      %8 : Float(512)\n      %9 : Float(512, 300)\n      %10 : Float(512, 128)\n      %11 : Float(512)\n      %12 : Float(512)) {\n  %13 : Float(48, 15, 300) = aten::embedding[padding_idx=-1, scale_grad_by_freq=0, sparse=0](%4, %0), scope: RNN_ENCODER/Embedding[encoder]\n  %16 : Float(48, 15, 300), %17 : Handle = ^Dropout(0.5, False, False)(%13), scope: RNN_ENCODER/Dropout[drop]\n  %15 : Float(48, 15, 300) = aten::slice[dim=0, start=0, end=9223372036854775807, step=1](%13), scope: RNN_ENCODER/Dropout[drop]\n  %14 : Float(48, 15, 300) = aten::as_strided[size=[48, 15, 300], stride=[4500, 300, 1], storage_offset=0](%13), scope: RNN_ENCODER/Dropout[drop]\n  %18 : Long(48) = prim::Constant[value=<Tensor>](), scope: RNN_ENCODER\n  %70 : Float(509, 300), %71 : Long(15), %72 : Handle = ^PackPadded(True)(%16, %18), scope: RNN_ENCODER\n  %19 : Float(15!, 48!, 300) = aten::transpose[dim0=0, dim1=1](%16), scope: RNN_ENCODER\n  %21 : Long() = aten::select[dim=0, index=47](%18), scope: RNN_ENCODER\n  %20 : Long() = aten::as_strided[size=[], stride=[], storage_offset=47](%18), scope: RNN_ENCODER\n  %22 : Byte() = aten::le[other={0}](%21), scope: RNN_ENCODER\n  %24 : Float(8!, 48!, 300) = aten::slice[dim=0, start=0, end=8, step=1](%19), scope: RNN_ENCODER\n  %23 : Float(8!, 48!, 300) = aten::as_strided[size=[8, 48, 300], stride=[300, 4500, 1], storage_offset=0](%19), scope: RNN_ENCODER\n  %25 : Float(8, 48, 300) = aten::clone(%24), scope: RNN_ENCODER\n  %26 : Float(384, 300) = aten::view[size=[-1, 300]](%25), scope: RNN_ENCODER\n  %28 : Float(1!, 48!, 300) = aten::slice[dim=0, start=8, end=9, step=1](%19), scope: RNN_ENCODER\n  %27 : Float(1!, 48!, 300) = aten::as_strided[size=[1, 48, 300], stride=[300, 4500, 1], storage_offset=2400](%19), scope: RNN_ENCODER\n  %30 : Float(1!, 40!, 300) = aten::slice[dim=1, start=0, end=40, step=1](%28), scope: RNN_ENCODER\n  %29 : Float(1!, 40!, 300) = aten::as_strided[size=[1, 40, 300], stride=[300, 4500, 1], storage_offset=2400](%28), scope: RNN_ENCODER\n  %31 : Float(1, 40, 300) = aten::clone(%30), scope: RNN_ENCODER\n  %32 : Float(40, 300) = aten::view[size=[-1, 300]](%31), scope: RNN_ENCODER\n  %34 : Float(1!, 48!, 300) = aten::slice[dim=0, start=9, end=10, step=1](%19), scope: RNN_ENCODER\n  %33 : Float(1!, 48!, 300) = aten::as_strided[size=[1, 48, 300], stride=[300, 4500, 1], storage_offset=2700](%19), scope: RNN_ENCODER\n  %36 : Float(1!, 30!, 300) = aten::slice[dim=1, start=0, end=30, step=1](%34), scope: RNN_ENCODER\n  %35 : Float(1!, 30!, 300) = aten::as_strided[size=[1, 30, 300], stride=[300, 4500, 1], storage_offset=2700](%34), scope: RNN_ENCODER\n  %37 : Float(1, 30, 300) = aten::clone(%36), scope: RNN_ENCODER\n  %38 : Float(30, 300) = aten::view[size=[-1, 300]](%37), scope: RNN_ENCODER\n  %40 : Float(1!, 48!, 300) = aten::slice[dim=0, start=10, end=11, step=1](%19), scope: RNN_ENCODER\n  %39 : Float(1!, 48!, 300) = aten::as_strided[size=[1, 48, 300], stride=[300, 4500, 1], storage_offset=3000](%19), scope: RNN_ENCODER\n  %42 : Float(1!, 19!, 300) = aten::slice[dim=1, start=0, end=19, step=1](%40), scope: RNN_ENCODER\n  %41 : Float(1!, 19!, 300) = aten::as_strided[size=[1, 19, 300], stride=[300, 4500, 1], storage_offset=3000](%40), scope: RNN_ENCODER\n  %43 : Float(1, 19, 300) = aten::clone(%42), scope: RNN_ENCODER\n  %44 : Float(19, 300) = aten::view[size=[-1, 300]](%43), scope: RNN_ENCODER\n  %46 : Float(1!, 48!, 300) = aten::slice[dim=0, start=11, end=12, step=1](%19), scope: RNN_ENCODER\n  %45 : Float(1!, 48!, 300) = aten::as_strided[size=[1, 48, 300], stride=[300, 4500, 1], storage_offset=3300](%19), scope: RNN_ENCODER\n  %48 : Float(1!, 15!, 300) = aten::slice[dim=1, start=0, end=15, step=1](%46), scope: RNN_ENCODER\n  %47 : Float(1!, 15!, 300) = aten::as_strided[size=[1, 15, 300], stride=[300, 4500, 1], storage_offset=3300](%46), scope: RNN_ENCODER\n  %49 : Float(1, 15, 300) = aten::clone(%48), scope: RNN_ENCODER\n  %50 : Float(15, 300) = aten::view[size=[-1, 300]](%49), scope: RNN_ENCODER\n  %52 : Float(1!, 48!, 300) = aten::slice[dim=0, start=12, end=13, step=1](%19), scope: RNN_ENCODER\n  %51 : Float(1!, 48!, 300) = aten::as_strided[size=[1, 48, 300], stride=[300, 4500, 1], storage_offset=3600](%19), scope: RNN_ENCODER\n  %54 : Float(1!, 11!, 300) = aten::slice[dim=1, start=0, end=11, step=1](%52), scope: RNN_ENCODER\n  %53 : Float(1!, 11!, 300) = aten::as_strided[size=[1, 11, 300], stride=[300, 4500, 1], storage_offset=3600](%52), scope: RNN_ENCODER\n  %55 : Float(1, 11, 300) = aten::clone(%54), scope: RNN_ENCODER\n  %56 : Float(11, 300) = aten::view[size=[-1, 300]](%55), scope: RNN_ENCODER\n  %58 : Float(1!, 48!, 300) = aten::slice[dim=0, start=13, end=14, step=1](%19), scope: RNN_ENCODER\n  %57 : Float(1!, 48!, 300) = aten::as_strided[size=[1, 48, 300], stride=[300, 4500, 1], storage_offset=3900](%19), scope: RNN_ENCODER\n  %60 : Float(1!, 7!, 300) = aten::slice[dim=1, start=0, end=7, step=1](%58), scope: RNN_ENCODER\n  %59 : Float(1!, 7!, 300) = aten::as_strided[size=[1, 7, 300], stride=[300, 4500, 1], storage_offset=3900](%58), scope: RNN_ENCODER\n  %61 : Float(1, 7, 300) = aten::clone(%60), scope: RNN_ENCODER\n  %62 : Float(7, 300) = aten::view[size=[-1, 300]](%61), scope: RNN_ENCODER\n  %64 : Float(1!, 48!, 300) = aten::slice[dim=0, start=14, end=15, step=1](%19), scope: RNN_ENCODER\n  %63 : Float(1!, 48!, 300) = aten::as_strided[size=[1, 48, 300], stride=[300, 4500, 1], storage_offset=4200](%19), scope: RNN_ENCODER\n  %66 : Float(1!, 3!, 300) = aten::slice[dim=1, start=0, end=3, step=1](%64), scope: RNN_ENCODER\n  %65 : Float(1!, 3!, 300) = aten::as_strided[size=[1, 3, 300], stride=[300, 4500, 1], storage_offset=4200](%64), scope: RNN_ENCODER\n  %67 : Float(1, 3, 300) = aten::clone(%66), scope: RNN_ENCODER\n  %68 : Float(3, 300) = aten::view[size=[-1, 300]](%67), scope: RNN_ENCODER\n  %69 : Float(509, 300) = aten::cat[dim=0](%26, %32, %38, %44, %50, %56, %62, %68), scope: RNN_ENCODER\n  return ();\n}\n, <function _symbolic_pack_padded_sequence.<locals>.pack_padded_sequence_trace_wrapper at 0x1c1a14f8c8>, [16 defined in (%16 : Float(48, 15, 300), %17 : Handle = ^Dropout(0.5, False, False)(%13), scope: RNN_ENCODER/Dropout[drop]\n), [15, 15, 15, 14, 14, 14, 14, 13, 13, 13, 13, 12, 12, 12, 12, 11, 11, 11, 11, 10, 10, 10, 10, 10, 10, 10, 10, 10, 10, 10, 9, 9, 9, 9, 9, 9, 9, 9, 9, 9, 8, 8, 8, 8, 8, 8, 8, 8]], 2, <function _symbolic_pack_padded_sequence.<locals>._onnx_symbolic_pack_padded_sequence at 0x1c1a14f840>"
     ]
    }
   ],
   "source": [
    "# Export the model\n",
    "torch_out = torch.onnx._export(text_encoder,                 # model being run\n",
    "                               (captions_fake_input, cap_lens, hidden), # model input (or a tuple for multiple inputs)\n",
    "                               \"super_resolution.onnx\",      # where to save the model (can be a file or file-like object)\n",
    "                               export_params=True)           # store the trained parameter weights inside the model file"
   ]
  },
  {
   "cell_type": "code",
   "execution_count": null,
   "metadata": {
    "collapsed": true
   },
   "outputs": [],
   "source": []
  }
 ],
 "metadata": {
  "kernelspec": {
   "display_name": "Python 3",
   "language": "python",
   "name": "python3"
  },
  "language_info": {
   "codemirror_mode": {
    "name": "ipython",
    "version": 3
   },
   "file_extension": ".py",
   "mimetype": "text/x-python",
   "name": "python",
   "nbconvert_exporter": "python",
   "pygments_lexer": "ipython3",
   "version": "3.6.5"
  }
 },
 "nbformat": 4,
 "nbformat_minor": 2
}
